{
 "cells": [
  {
   "cell_type": "code",
   "execution_count": 2,
   "id": "f7408161",
   "metadata": {},
   "outputs": [],
   "source": [
    "import pandas as pd\n",
    "from scipy.stats import mannwhitneyu"
   ]
  },
  {
   "cell_type": "markdown",
   "id": "e7937e8c",
   "metadata": {},
   "source": [
    "# Ireland"
   ]
  },
  {
   "cell_type": "code",
   "execution_count": 3,
   "id": "2c0462c6",
   "metadata": {
    "scrolled": true
   },
   "outputs": [
    {
     "data": {
      "text/html": [
       "<div>\n",
       "<style scoped>\n",
       "    .dataframe tbody tr th:only-of-type {\n",
       "        vertical-align: middle;\n",
       "    }\n",
       "\n",
       "    .dataframe tbody tr th {\n",
       "        vertical-align: top;\n",
       "    }\n",
       "\n",
       "    .dataframe thead th {\n",
       "        text-align: right;\n",
       "    }\n",
       "</style>\n",
       "<table border=\"1\" class=\"dataframe\">\n",
       "  <thead>\n",
       "    <tr style=\"text-align: right;\">\n",
       "      <th></th>\n",
       "      <th>Statistic Label</th>\n",
       "      <th>Year</th>\n",
       "      <th>Month of Year</th>\n",
       "      <th>UNIT</th>\n",
       "      <th>VALUE</th>\n",
       "    </tr>\n",
       "  </thead>\n",
       "  <tbody>\n",
       "    <tr>\n",
       "      <th>0</th>\n",
       "      <td>Fatal Collisions</td>\n",
       "      <td>2005</td>\n",
       "      <td>All months</td>\n",
       "      <td>Number</td>\n",
       "      <td>360.0</td>\n",
       "    </tr>\n",
       "    <tr>\n",
       "      <th>1</th>\n",
       "      <td>Fatal Collisions</td>\n",
       "      <td>2005</td>\n",
       "      <td>January</td>\n",
       "      <td>Number</td>\n",
       "      <td>31.0</td>\n",
       "    </tr>\n",
       "    <tr>\n",
       "      <th>2</th>\n",
       "      <td>Fatal Collisions</td>\n",
       "      <td>2005</td>\n",
       "      <td>February</td>\n",
       "      <td>Number</td>\n",
       "      <td>34.0</td>\n",
       "    </tr>\n",
       "    <tr>\n",
       "      <th>3</th>\n",
       "      <td>Fatal Collisions</td>\n",
       "      <td>2005</td>\n",
       "      <td>March</td>\n",
       "      <td>Number</td>\n",
       "      <td>23.0</td>\n",
       "    </tr>\n",
       "    <tr>\n",
       "      <th>4</th>\n",
       "      <td>Fatal Collisions</td>\n",
       "      <td>2005</td>\n",
       "      <td>April</td>\n",
       "      <td>Number</td>\n",
       "      <td>20.0</td>\n",
       "    </tr>\n",
       "  </tbody>\n",
       "</table>\n",
       "</div>"
      ],
      "text/plain": [
       "    Statistic Label  Year Month of Year    UNIT  VALUE\n",
       "0  Fatal Collisions  2005    All months  Number  360.0\n",
       "1  Fatal Collisions  2005       January  Number   31.0\n",
       "2  Fatal Collisions  2005      February  Number   34.0\n",
       "3  Fatal Collisions  2005         March  Number   23.0\n",
       "4  Fatal Collisions  2005         April  Number   20.0"
      ]
     },
     "execution_count": 3,
     "metadata": {},
     "output_type": "execute_result"
    }
   ],
   "source": [
    "df_ie = pd.read_csv('safety_ie.csv')\n",
    "df_ie.head()"
   ]
  },
  {
   "cell_type": "code",
   "execution_count": 5,
   "id": "1410a8cc",
   "metadata": {},
   "outputs": [
    {
     "data": {
      "text/plain": [
       "array(['Fatal Collisions', 'Injury Collisions',\n",
       "       'All Fatal and Injury Collisions', 'Killed Casualties',\n",
       "       'Injured Casualties', 'All Killed and Injured Casualties'],\n",
       "      dtype=object)"
      ]
     },
     "execution_count": 5,
     "metadata": {},
     "output_type": "execute_result"
    }
   ],
   "source": [
    "df_ie['Statistic Label'].unique()"
   ]
  },
  {
   "cell_type": "code",
   "execution_count": 4,
   "id": "394ae7c8",
   "metadata": {
    "scrolled": true
   },
   "outputs": [
    {
     "data": {
      "text/plain": [
       "Statistic Label\n",
       "Fatal Collisions                     221\n",
       "Injury Collisions                    221\n",
       "All Fatal and Injury Collisions      221\n",
       "Killed Casualties                    221\n",
       "Injured Casualties                   221\n",
       "All Killed and Injured Casualties    221\n",
       "Name: count, dtype: int64"
      ]
     },
     "execution_count": 4,
     "metadata": {},
     "output_type": "execute_result"
    }
   ],
   "source": [
    "df_ie['Statistic Label'].value_counts()"
   ]
  },
  {
   "cell_type": "code",
   "execution_count": 354,
   "id": "86a49e77",
   "metadata": {},
   "outputs": [],
   "source": [
    "#We count the values\n",
    "\n",
    "value_counts = df_ie['Statistic Label'].value_counts()\n",
    "relative_frequencies = value_counts / len(df_ie)"
   ]
  },
  {
   "cell_type": "code",
   "execution_count": 355,
   "id": "4ef3fc2b",
   "metadata": {},
   "outputs": [
    {
     "data": {
      "text/html": [
       "<div>\n",
       "<style scoped>\n",
       "    .dataframe tbody tr th:only-of-type {\n",
       "        vertical-align: middle;\n",
       "    }\n",
       "\n",
       "    .dataframe tbody tr th {\n",
       "        vertical-align: top;\n",
       "    }\n",
       "\n",
       "    .dataframe thead th {\n",
       "        text-align: right;\n",
       "    }\n",
       "</style>\n",
       "<table border=\"1\" class=\"dataframe\">\n",
       "  <thead>\n",
       "    <tr style=\"text-align: right;\">\n",
       "      <th></th>\n",
       "      <th>Statistic Label</th>\n",
       "      <th>Frequency</th>\n",
       "      <th>Relative Frequency</th>\n",
       "    </tr>\n",
       "  </thead>\n",
       "  <tbody>\n",
       "    <tr>\n",
       "      <th>0</th>\n",
       "      <td>Fatal Collisions</td>\n",
       "      <td>221</td>\n",
       "      <td>0.166667</td>\n",
       "    </tr>\n",
       "    <tr>\n",
       "      <th>1</th>\n",
       "      <td>Injury Collisions</td>\n",
       "      <td>221</td>\n",
       "      <td>0.166667</td>\n",
       "    </tr>\n",
       "    <tr>\n",
       "      <th>2</th>\n",
       "      <td>All Fatal and Injury Collisions</td>\n",
       "      <td>221</td>\n",
       "      <td>0.166667</td>\n",
       "    </tr>\n",
       "    <tr>\n",
       "      <th>3</th>\n",
       "      <td>Killed Casualties</td>\n",
       "      <td>221</td>\n",
       "      <td>0.166667</td>\n",
       "    </tr>\n",
       "    <tr>\n",
       "      <th>4</th>\n",
       "      <td>Injured Casualties</td>\n",
       "      <td>221</td>\n",
       "      <td>0.166667</td>\n",
       "    </tr>\n",
       "    <tr>\n",
       "      <th>5</th>\n",
       "      <td>All Killed and Injured Casualties</td>\n",
       "      <td>221</td>\n",
       "      <td>0.166667</td>\n",
       "    </tr>\n",
       "  </tbody>\n",
       "</table>\n",
       "</div>"
      ],
      "text/plain": [
       "                     Statistic Label  Frequency  Relative Frequency\n",
       "0                   Fatal Collisions        221            0.166667\n",
       "1                  Injury Collisions        221            0.166667\n",
       "2    All Fatal and Injury Collisions        221            0.166667\n",
       "3                  Killed Casualties        221            0.166667\n",
       "4                 Injured Casualties        221            0.166667\n",
       "5  All Killed and Injured Casualties        221            0.166667"
      ]
     },
     "execution_count": 355,
     "metadata": {},
     "output_type": "execute_result"
    }
   ],
   "source": [
    "import statistics as stats\n",
    "#We create the subtable to find the relative frequency\n",
    "\n",
    "subtable = pd.DataFrame({'Statistic Label': value_counts.index, \n",
    "                         'Frequency': value_counts.values, \n",
    "                         'Relative Frequency': relative_frequencies.values})\n",
    "subtable"
   ]
  },
  {
   "cell_type": "code",
   "execution_count": 356,
   "id": "0ef8d9a3",
   "metadata": {},
   "outputs": [],
   "source": [
    "df_ie.rename(columns={'Month of Year':'Month'}, inplace=True)\n",
    "df_ie.insert(3, 'Country', 'Ireland')"
   ]
  },
  {
   "cell_type": "code",
   "execution_count": 357,
   "id": "c528b6ca",
   "metadata": {},
   "outputs": [],
   "source": [
    "df1 = df_ie.drop(df_ie[(df_ie[\"Statistic Label\"] != \"All Fatal and Injury Collisions\")].index)\n",
    "final_ie = df1[['Year', 'Month','Country']]"
   ]
  },
  {
   "cell_type": "code",
   "execution_count": 358,
   "id": "1d11a7b3",
   "metadata": {
    "scrolled": false
   },
   "outputs": [
    {
     "data": {
      "text/html": [
       "<div>\n",
       "<style scoped>\n",
       "    .dataframe tbody tr th:only-of-type {\n",
       "        vertical-align: middle;\n",
       "    }\n",
       "\n",
       "    .dataframe tbody tr th {\n",
       "        vertical-align: top;\n",
       "    }\n",
       "\n",
       "    .dataframe thead th {\n",
       "        text-align: right;\n",
       "    }\n",
       "</style>\n",
       "<table border=\"1\" class=\"dataframe\">\n",
       "  <thead>\n",
       "    <tr style=\"text-align: right;\">\n",
       "      <th></th>\n",
       "      <th>Year</th>\n",
       "      <th>Month</th>\n",
       "      <th>Country</th>\n",
       "      <th>Fatal Collisions</th>\n",
       "      <th>Injury Collisions</th>\n",
       "      <th>All Fatal and Injury Collisions</th>\n",
       "      <th>Killed Casualties</th>\n",
       "      <th>Injured Casualties</th>\n",
       "      <th>All Killed and Injured Casualties</th>\n",
       "    </tr>\n",
       "  </thead>\n",
       "  <tbody>\n",
       "    <tr>\n",
       "      <th>0</th>\n",
       "      <td>2005</td>\n",
       "      <td>All months</td>\n",
       "      <td>Ireland</td>\n",
       "      <td>360.0</td>\n",
       "      <td>6173.0</td>\n",
       "      <td>6533.0</td>\n",
       "      <td>396.0</td>\n",
       "      <td>9318.0</td>\n",
       "      <td>9714.0</td>\n",
       "    </tr>\n",
       "    <tr>\n",
       "      <th>1</th>\n",
       "      <td>2005</td>\n",
       "      <td>January</td>\n",
       "      <td>Ireland</td>\n",
       "      <td>31.0</td>\n",
       "      <td>442.0</td>\n",
       "      <td>473.0</td>\n",
       "      <td>33.0</td>\n",
       "      <td>683.0</td>\n",
       "      <td>716.0</td>\n",
       "    </tr>\n",
       "    <tr>\n",
       "      <th>2</th>\n",
       "      <td>2005</td>\n",
       "      <td>February</td>\n",
       "      <td>Ireland</td>\n",
       "      <td>34.0</td>\n",
       "      <td>427.0</td>\n",
       "      <td>461.0</td>\n",
       "      <td>37.0</td>\n",
       "      <td>591.0</td>\n",
       "      <td>628.0</td>\n",
       "    </tr>\n",
       "    <tr>\n",
       "      <th>3</th>\n",
       "      <td>2005</td>\n",
       "      <td>March</td>\n",
       "      <td>Ireland</td>\n",
       "      <td>23.0</td>\n",
       "      <td>475.0</td>\n",
       "      <td>498.0</td>\n",
       "      <td>26.0</td>\n",
       "      <td>718.0</td>\n",
       "      <td>744.0</td>\n",
       "    </tr>\n",
       "    <tr>\n",
       "      <th>4</th>\n",
       "      <td>2005</td>\n",
       "      <td>April</td>\n",
       "      <td>Ireland</td>\n",
       "      <td>20.0</td>\n",
       "      <td>509.0</td>\n",
       "      <td>529.0</td>\n",
       "      <td>23.0</td>\n",
       "      <td>726.0</td>\n",
       "      <td>749.0</td>\n",
       "    </tr>\n",
       "  </tbody>\n",
       "</table>\n",
       "</div>"
      ],
      "text/plain": [
       "   Year       Month  Country  Fatal Collisions  Injury Collisions  \\\n",
       "0  2005  All months  Ireland             360.0             6173.0   \n",
       "1  2005     January  Ireland              31.0              442.0   \n",
       "2  2005    February  Ireland              34.0              427.0   \n",
       "3  2005       March  Ireland              23.0              475.0   \n",
       "4  2005       April  Ireland              20.0              509.0   \n",
       "\n",
       "   All Fatal and Injury Collisions  Killed Casualties  Injured Casualties  \\\n",
       "0                           6533.0              396.0              9318.0   \n",
       "1                            473.0               33.0               683.0   \n",
       "2                            461.0               37.0               591.0   \n",
       "3                            498.0               26.0               718.0   \n",
       "4                            529.0               23.0               726.0   \n",
       "\n",
       "   All Killed and Injured Casualties  \n",
       "0                             9714.0  \n",
       "1                              716.0  \n",
       "2                              628.0  \n",
       "3                              744.0  \n",
       "4                              749.0  "
      ]
     },
     "execution_count": 358,
     "metadata": {},
     "output_type": "execute_result"
    }
   ],
   "source": [
    "for label in df_ie['Statistic Label'].unique():\n",
    "    df1 = df_ie.drop(df_ie[(df_ie[\"Statistic Label\"] != label)].index)\n",
    "    df1.rename(columns={'VALUE': label}, inplace=True)\n",
    "    dff = df1[['Year', 'Month','Country', label]]\n",
    "    final_ie = pd.merge(final_ie,dff)\n",
    "final_ie.head()"
   ]
  },
  {
   "cell_type": "code",
   "execution_count": 359,
   "id": "02f950eb",
   "metadata": {
    "scrolled": true
   },
   "outputs": [
    {
     "data": {
      "text/plain": [
       "array(['All months', 'January', 'February', 'March', 'April', 'May',\n",
       "       'June', 'July', 'August', 'September', 'October', 'November',\n",
       "       'December'], dtype=object)"
      ]
     },
     "execution_count": 359,
     "metadata": {},
     "output_type": "execute_result"
    }
   ],
   "source": [
    "final_ie['Month'].unique()"
   ]
  },
  {
   "cell_type": "code",
   "execution_count": 360,
   "id": "967f1228",
   "metadata": {},
   "outputs": [],
   "source": [
    "final_ie = final_ie.drop(final_ie[(final_ie[\"Month\"] == 'All months')].index)"
   ]
  },
  {
   "cell_type": "code",
   "execution_count": 361,
   "id": "c06c65b8",
   "metadata": {},
   "outputs": [],
   "source": [
    "final_ie['All Killed and Injured Casualties'] = final_ie['All Killed and Injured Casualties'].fillna(\n",
    "    final_ie['All Killed and Injured Casualties'].mean())"
   ]
  },
  {
   "cell_type": "code",
   "execution_count": 362,
   "id": "329478e2",
   "metadata": {
    "scrolled": true
   },
   "outputs": [
    {
     "data": {
      "text/html": [
       "<div>\n",
       "<style scoped>\n",
       "    .dataframe tbody tr th:only-of-type {\n",
       "        vertical-align: middle;\n",
       "    }\n",
       "\n",
       "    .dataframe tbody tr th {\n",
       "        vertical-align: top;\n",
       "    }\n",
       "\n",
       "    .dataframe thead th {\n",
       "        text-align: right;\n",
       "    }\n",
       "</style>\n",
       "<table border=\"1\" class=\"dataframe\">\n",
       "  <thead>\n",
       "    <tr style=\"text-align: right;\">\n",
       "      <th></th>\n",
       "      <th>Year</th>\n",
       "      <th>Month</th>\n",
       "      <th>Country</th>\n",
       "      <th>Fatal Collisions</th>\n",
       "      <th>Injury Collisions</th>\n",
       "      <th>All Fatal and Injury Collisions</th>\n",
       "      <th>Killed Casualties</th>\n",
       "      <th>Injured Casualties</th>\n",
       "      <th>All Killed and Injured Casualties</th>\n",
       "    </tr>\n",
       "  </thead>\n",
       "  <tbody>\n",
       "    <tr>\n",
       "      <th>1</th>\n",
       "      <td>2005</td>\n",
       "      <td>January</td>\n",
       "      <td>Ireland</td>\n",
       "      <td>31.0</td>\n",
       "      <td>442.0</td>\n",
       "      <td>473.0</td>\n",
       "      <td>33.0</td>\n",
       "      <td>683.0</td>\n",
       "      <td>716.0</td>\n",
       "    </tr>\n",
       "    <tr>\n",
       "      <th>2</th>\n",
       "      <td>2005</td>\n",
       "      <td>February</td>\n",
       "      <td>Ireland</td>\n",
       "      <td>34.0</td>\n",
       "      <td>427.0</td>\n",
       "      <td>461.0</td>\n",
       "      <td>37.0</td>\n",
       "      <td>591.0</td>\n",
       "      <td>628.0</td>\n",
       "    </tr>\n",
       "    <tr>\n",
       "      <th>3</th>\n",
       "      <td>2005</td>\n",
       "      <td>March</td>\n",
       "      <td>Ireland</td>\n",
       "      <td>23.0</td>\n",
       "      <td>475.0</td>\n",
       "      <td>498.0</td>\n",
       "      <td>26.0</td>\n",
       "      <td>718.0</td>\n",
       "      <td>744.0</td>\n",
       "    </tr>\n",
       "    <tr>\n",
       "      <th>4</th>\n",
       "      <td>2005</td>\n",
       "      <td>April</td>\n",
       "      <td>Ireland</td>\n",
       "      <td>20.0</td>\n",
       "      <td>509.0</td>\n",
       "      <td>529.0</td>\n",
       "      <td>23.0</td>\n",
       "      <td>726.0</td>\n",
       "      <td>749.0</td>\n",
       "    </tr>\n",
       "    <tr>\n",
       "      <th>5</th>\n",
       "      <td>2005</td>\n",
       "      <td>May</td>\n",
       "      <td>Ireland</td>\n",
       "      <td>36.0</td>\n",
       "      <td>525.0</td>\n",
       "      <td>561.0</td>\n",
       "      <td>41.0</td>\n",
       "      <td>800.0</td>\n",
       "      <td>841.0</td>\n",
       "    </tr>\n",
       "  </tbody>\n",
       "</table>\n",
       "</div>"
      ],
      "text/plain": [
       "   Year     Month  Country  Fatal Collisions  Injury Collisions  \\\n",
       "1  2005   January  Ireland              31.0              442.0   \n",
       "2  2005  February  Ireland              34.0              427.0   \n",
       "3  2005     March  Ireland              23.0              475.0   \n",
       "4  2005     April  Ireland              20.0              509.0   \n",
       "5  2005       May  Ireland              36.0              525.0   \n",
       "\n",
       "   All Fatal and Injury Collisions  Killed Casualties  Injured Casualties  \\\n",
       "1                            473.0               33.0               683.0   \n",
       "2                            461.0               37.0               591.0   \n",
       "3                            498.0               26.0               718.0   \n",
       "4                            529.0               23.0               726.0   \n",
       "5                            561.0               41.0               800.0   \n",
       "\n",
       "   All Killed and Injured Casualties  \n",
       "1                              716.0  \n",
       "2                              628.0  \n",
       "3                              744.0  \n",
       "4                              749.0  \n",
       "5                              841.0  "
      ]
     },
     "execution_count": 362,
     "metadata": {},
     "output_type": "execute_result"
    }
   ],
   "source": [
    "final_ie.head()"
   ]
  },
  {
   "cell_type": "code",
   "execution_count": 364,
   "id": "d06974c0",
   "metadata": {},
   "outputs": [
    {
     "name": "stdout",
     "output_type": "stream",
     "text": [
      "479.47058823529414\n",
      "484.5\n"
     ]
    }
   ],
   "source": [
    "mean_col= final_ie['All Fatal and Injury Collisions'].mean()\n",
    "print(mean_col)\n",
    "median = final_ie['All Fatal and Injury Collisions'].median()\n",
    "print(median)"
   ]
  },
  {
   "cell_type": "code",
   "execution_count": 369,
   "id": "fca643a3",
   "metadata": {},
   "outputs": [
    {
     "name": "stderr",
     "output_type": "stream",
     "text": [
      "C:\\Users\\dmitri.iolchin\\AppData\\Local\\anaconda3\\Lib\\site-packages\\seaborn\\_oldcore.py:1498: FutureWarning: is_categorical_dtype is deprecated and will be removed in a future version. Use isinstance(dtype, CategoricalDtype) instead\n",
      "  if pd.api.types.is_categorical_dtype(vector):\n",
      "C:\\Users\\dmitri.iolchin\\AppData\\Local\\anaconda3\\Lib\\site-packages\\seaborn\\_oldcore.py:1119: FutureWarning: use_inf_as_na option is deprecated and will be removed in a future version. Convert inf values to NaN before operating instead.\n",
      "  with pd.option_context('mode.use_inf_as_na', True):\n"
     ]
    },
    {
     "data": {
      "text/plain": [
       "[Text(0.5, 0, 'Collisions'),\n",
       " Text(0, 0.5, 'Companies'),\n",
       " Text(0.5, 1.0, 'Fatal and Injury Collisions')]"
      ]
     },
     "execution_count": 369,
     "metadata": {},
     "output_type": "execute_result"
    },
    {
     "data": {
      "image/png": "[encoded data removed]",
      "text/plain": [
       "<Figure size 640x480 with 1 Axes>"
      ]
     },
     "metadata": {},
     "output_type": "display_data"
    }
   ],
   "source": [
    "ax = sns.histplot(final_ie['All Fatal and Injury Collisions'])\n",
    "ax.set(xlabel='Collisions', ylabel='Companies', title ='Fatal and Injury Collisions')"
   ]
  },
  {
   "cell_type": "code",
   "execution_count": 370,
   "id": "22758d04",
   "metadata": {},
   "outputs": [
    {
     "name": "stderr",
     "output_type": "stream",
     "text": [
      "C:\\Users\\dmitri.iolchin\\AppData\\Local\\anaconda3\\Lib\\site-packages\\seaborn\\_oldcore.py:1498: FutureWarning: is_categorical_dtype is deprecated and will be removed in a future version. Use isinstance(dtype, CategoricalDtype) instead\n",
      "  if pd.api.types.is_categorical_dtype(vector):\n",
      "C:\\Users\\dmitri.iolchin\\AppData\\Local\\anaconda3\\Lib\\site-packages\\seaborn\\_oldcore.py:1119: FutureWarning: use_inf_as_na option is deprecated and will be removed in a future version. Convert inf values to NaN before operating instead.\n",
      "  with pd.option_context('mode.use_inf_as_na', True):\n"
     ]
    },
    {
     "data": {
      "text/plain": [
       "[Text(0.5, 0, 'Collisions'),\n",
       " Text(0, 0.5, 'Companies'),\n",
       " Text(0.5, 1.0, 'Fatal and Injury Collisions')]"
      ]
     },
     "execution_count": 370,
     "metadata": {},
     "output_type": "execute_result"
    },
    {
     "data": {
      "image/png": "[encoded data removed]",
      "text/plain": [
       "<Figure size 640x480 with 1 Axes>"
      ]
     },
     "metadata": {},
     "output_type": "display_data"
    }
   ],
   "source": [
    "ax = sns.histplot(final_ie['All Fatal and Injury Collisions'], kde=True, color ='green')\n",
    "ax.set(xlabel='Collisions', ylabel='Companies', title ='Fatal and Injury Collisions')"
   ]
  },
  {
   "cell_type": "markdown",
   "id": "25ff37f9",
   "metadata": {},
   "source": [
    "### Ireland 11 average fatalities per month in 2021 - Hypotesis Test"
   ]
  },
  {
   "cell_type": "code",
   "execution_count": 133,
   "id": "5c25b9ee",
   "metadata": {},
   "outputs": [],
   "source": [
    "fatal = final_ie.drop(final_ie[(final_ie[\"Year\"] != 2021)].index)"
   ]
  },
  {
   "cell_type": "code",
   "execution_count": 134,
   "id": "6b9cfa61",
   "metadata": {},
   "outputs": [],
   "source": [
    "from statsmodels.stats import weightstats\n",
    "#H0: mu = 11\n",
    "#H1: mu > 11"
   ]
  },
  {
   "cell_type": "code",
   "execution_count": 135,
   "id": "acfea5f8",
   "metadata": {},
   "outputs": [],
   "source": [
    "X = fatal['Fatal Collisions']"
   ]
  },
  {
   "cell_type": "code",
   "execution_count": 136,
   "id": "9438be75",
   "metadata": {},
   "outputs": [],
   "source": [
    "mu = 11"
   ]
  },
  {
   "cell_type": "code",
   "execution_count": 137,
   "id": "decf9487",
   "metadata": {},
   "outputs": [
    {
     "data": {
      "text/plain": [
       "0.676234106138721"
      ]
     },
     "execution_count": 137,
     "metadata": {},
     "output_type": "execute_result"
    }
   ],
   "source": [
    "#We compute z and p-value\n",
    "\n",
    "z_score, p_value = weightstats.ztest(X, value = mu, ddof = 1, alternative = 'larger')\n",
    "\n",
    "p_value"
   ]
  },
  {
   "cell_type": "markdown",
   "id": "6f97d833",
   "metadata": {},
   "source": [
    "# Greece"
   ]
  },
  {
   "cell_type": "code",
   "execution_count": 403,
   "id": "f547f990",
   "metadata": {
    "scrolled": true
   },
   "outputs": [
    {
     "data": {
      "text/html": [
       "<div>\n",
       "<style scoped>\n",
       "    .dataframe tbody tr th:only-of-type {\n",
       "        vertical-align: middle;\n",
       "    }\n",
       "\n",
       "    .dataframe tbody tr th {\n",
       "        vertical-align: top;\n",
       "    }\n",
       "\n",
       "    .dataframe thead th {\n",
       "        text-align: right;\n",
       "    }\n",
       "</style>\n",
       "<table border=\"1\" class=\"dataframe\">\n",
       "  <thead>\n",
       "    <tr style=\"text-align: right;\">\n",
       "      <th></th>\n",
       "      <th>Reference month</th>\n",
       "      <th>Road Traffic Accidents</th>\n",
       "      <th>Killed</th>\n",
       "      <th>Seriously Injured</th>\n",
       "      <th>Slightly Injured</th>\n",
       "    </tr>\n",
       "  </thead>\n",
       "  <tbody>\n",
       "    <tr>\n",
       "      <th>0</th>\n",
       "      <td>Jan-04</td>\n",
       "      <td>1010</td>\n",
       "      <td>111</td>\n",
       "      <td>134</td>\n",
       "      <td>1159</td>\n",
       "    </tr>\n",
       "    <tr>\n",
       "      <th>1</th>\n",
       "      <td>Feb-04</td>\n",
       "      <td>1039</td>\n",
       "      <td>114</td>\n",
       "      <td>146</td>\n",
       "      <td>1168</td>\n",
       "    </tr>\n",
       "    <tr>\n",
       "      <th>2</th>\n",
       "      <td>Mar-04</td>\n",
       "      <td>1164</td>\n",
       "      <td>122</td>\n",
       "      <td>143</td>\n",
       "      <td>1380</td>\n",
       "    </tr>\n",
       "    <tr>\n",
       "      <th>3</th>\n",
       "      <td>Apr-04</td>\n",
       "      <td>1214</td>\n",
       "      <td>137</td>\n",
       "      <td>178</td>\n",
       "      <td>1365</td>\n",
       "    </tr>\n",
       "    <tr>\n",
       "      <th>4</th>\n",
       "      <td>May-04</td>\n",
       "      <td>1423</td>\n",
       "      <td>144</td>\n",
       "      <td>174</td>\n",
       "      <td>1664</td>\n",
       "    </tr>\n",
       "  </tbody>\n",
       "</table>\n",
       "</div>"
      ],
      "text/plain": [
       "  Reference month Road Traffic Accidents  Killed  Seriously Injured  \\\n",
       "0          Jan-04                   1010     111                134   \n",
       "1          Feb-04                   1039     114                146   \n",
       "2          Mar-04                   1164     122                143   \n",
       "3          Apr-04                   1214     137                178   \n",
       "4          May-04                   1423     144                174   \n",
       "\n",
       "  Slightly Injured  \n",
       "0             1159  \n",
       "1             1168  \n",
       "2             1380  \n",
       "3             1365  \n",
       "4             1664  "
      ]
     },
     "execution_count": 403,
     "metadata": {},
     "output_type": "execute_result"
    }
   ],
   "source": [
    "df_gr = pd.read_csv('safety_gr.csv')\n",
    "df_gr.head()"
   ]
  },
  {
   "cell_type": "code",
   "execution_count": 404,
   "id": "a53d60ea",
   "metadata": {},
   "outputs": [],
   "source": [
    "df_gr.rename(columns={'All injured': 'Injured Casualties',\n",
    "                     'Killed': 'Killed Casualties',\n",
    "                     'Road Traffic Accidents': 'All Fatal and Injury Collisions'}, inplace=True)"
   ]
  },
  {
   "cell_type": "code",
   "execution_count": 405,
   "id": "09d19745",
   "metadata": {},
   "outputs": [],
   "source": [
    "#taking only numeric columns\n",
    "final_gr = df_gr.drop('Reference month', axis=1)\n",
    "\n",
    "#removing commas in the numbers\n",
    "final_gr['All Fatal and Injury Collisions'] = final_gr['All Fatal and Injury Collisions'].str.replace(',', '')\n",
    "final_gr['Slightly Injured'] = final_gr['Slightly Injured'].str.replace(',', '')\n",
    "\n",
    "#changing type from string to integer for all numeric columns\n",
    "final_gr = final_gr.astype(int)\n",
    "\n",
    "#Creating new column in order to have unified columns with Ireland data frame \n",
    "final_gr['Injured Casualties'] = final_gr['Seriously Injured'] + final_gr['Slightly Injured']\n",
    "final_gr['All Killed and Injured Casualties'] = final_gr['Killed Casualties'] + final_no['Injured Casualties']\n",
    "\n",
    "#dropping unnecessary columns\n",
    "final_gr = final_gr.drop(['Seriously Injured','Slightly Injured'], axis=1)\n",
    "\n",
    "#adding missing columns\n",
    "final_gr[['Month', 'Year']] = df_gr['Reference month'].str.split('-', expand=True)\n",
    "final_gr.insert(0, 'Country', 'Greece')"
   ]
  },
  {
   "cell_type": "code",
   "execution_count": 406,
   "id": "f01131cd",
   "metadata": {},
   "outputs": [],
   "source": [
    "#Create month mapping in order to have unified names\n",
    "month_mapping = {\n",
    "    'Jan': 'January',\n",
    "    '01': 'January',\n",
    "    'Feb': 'February',\n",
    "    '02': 'February',\n",
    "    'Mar': 'March',\n",
    "    '03': 'March',\n",
    "    'Apr': 'April',\n",
    "    '04': 'April',\n",
    "    'May': 'May',\n",
    "    '05': 'May',\n",
    "    'Jun': 'June',\n",
    "    '06': 'June',\n",
    "    'Jul': 'July',\n",
    "    '07': 'July',\n",
    "    'Aug': 'August',\n",
    "    '08': 'August',\n",
    "    'Sep': 'September',\n",
    "    '09': 'September',\n",
    "    'Oct': 'October',\n",
    "    '10': 'October',\n",
    "    'Nov': 'November',\n",
    "    '11': 'November',\n",
    "    'Dec': 'December',\n",
    "    '12': 'December'\n",
    "}"
   ]
  },
  {
   "cell_type": "code",
   "execution_count": 407,
   "id": "832ecadd",
   "metadata": {
    "scrolled": true
   },
   "outputs": [
    {
     "data": {
      "text/html": [
       "<div>\n",
       "<style scoped>\n",
       "    .dataframe tbody tr th:only-of-type {\n",
       "        vertical-align: middle;\n",
       "    }\n",
       "\n",
       "    .dataframe tbody tr th {\n",
       "        vertical-align: top;\n",
       "    }\n",
       "\n",
       "    .dataframe thead th {\n",
       "        text-align: right;\n",
       "    }\n",
       "</style>\n",
       "<table border=\"1\" class=\"dataframe\">\n",
       "  <thead>\n",
       "    <tr style=\"text-align: right;\">\n",
       "      <th></th>\n",
       "      <th>Country</th>\n",
       "      <th>All Fatal and Injury Collisions</th>\n",
       "      <th>Killed Casualties</th>\n",
       "      <th>Injured Casualties</th>\n",
       "      <th>All Killed and Injured Casualties</th>\n",
       "      <th>Month</th>\n",
       "      <th>Year</th>\n",
       "    </tr>\n",
       "  </thead>\n",
       "  <tbody>\n",
       "    <tr>\n",
       "      <th>0</th>\n",
       "      <td>Greece</td>\n",
       "      <td>1010</td>\n",
       "      <td>111</td>\n",
       "      <td>1293</td>\n",
       "      <td>941.0</td>\n",
       "      <td>January</td>\n",
       "      <td>2004</td>\n",
       "    </tr>\n",
       "    <tr>\n",
       "      <th>1</th>\n",
       "      <td>Greece</td>\n",
       "      <td>1039</td>\n",
       "      <td>114</td>\n",
       "      <td>1314</td>\n",
       "      <td>869.0</td>\n",
       "      <td>February</td>\n",
       "      <td>2004</td>\n",
       "    </tr>\n",
       "    <tr>\n",
       "      <th>2</th>\n",
       "      <td>Greece</td>\n",
       "      <td>1164</td>\n",
       "      <td>122</td>\n",
       "      <td>1523</td>\n",
       "      <td>849.0</td>\n",
       "      <td>March</td>\n",
       "      <td>2004</td>\n",
       "    </tr>\n",
       "    <tr>\n",
       "      <th>3</th>\n",
       "      <td>Greece</td>\n",
       "      <td>1214</td>\n",
       "      <td>137</td>\n",
       "      <td>1543</td>\n",
       "      <td>882.0</td>\n",
       "      <td>April</td>\n",
       "      <td>2004</td>\n",
       "    </tr>\n",
       "    <tr>\n",
       "      <th>4</th>\n",
       "      <td>Greece</td>\n",
       "      <td>1423</td>\n",
       "      <td>144</td>\n",
       "      <td>1838</td>\n",
       "      <td>1192.0</td>\n",
       "      <td>May</td>\n",
       "      <td>2004</td>\n",
       "    </tr>\n",
       "  </tbody>\n",
       "</table>\n",
       "</div>"
      ],
      "text/plain": [
       "  Country  All Fatal and Injury Collisions  Killed Casualties  \\\n",
       "0  Greece                             1010                111   \n",
       "1  Greece                             1039                114   \n",
       "2  Greece                             1164                122   \n",
       "3  Greece                             1214                137   \n",
       "4  Greece                             1423                144   \n",
       "\n",
       "   Injured Casualties  All Killed and Injured Casualties     Month  Year  \n",
       "0                1293                              941.0   January  2004  \n",
       "1                1314                              869.0  February  2004  \n",
       "2                1523                              849.0     March  2004  \n",
       "3                1543                              882.0     April  2004  \n",
       "4                1838                             1192.0       May  2004  "
      ]
     },
     "execution_count": 407,
     "metadata": {},
     "output_type": "execute_result"
    }
   ],
   "source": [
    "# Replace short month names with full month names using the mapping\n",
    "final_gr['Month'] = final_gr['Month'].map(month_mapping)\n",
    "final_gr['Year'] = final_gr['Year'].astype(int)\n",
    "final_gr['Year'] = final_gr['Year'] + 2000\n",
    "final_gr.head()"
   ]
  },
  {
   "cell_type": "code",
   "execution_count": 409,
   "id": "f9f6b2c4",
   "metadata": {},
   "outputs": [],
   "source": [
    "final_gr = final_gr.drop(final_gr[(final_gr[\"Year\"] == 2004)| (final_gr[\"Year\"] == 2022)| (final_gr[\"Year\"] == 2023)].index)"
   ]
  },
  {
   "cell_type": "code",
   "execution_count": 410,
   "id": "8c3ea2b3",
   "metadata": {},
   "outputs": [
    {
     "data": {
      "text/html": [
       "<div>\n",
       "<style scoped>\n",
       "    .dataframe tbody tr th:only-of-type {\n",
       "        vertical-align: middle;\n",
       "    }\n",
       "\n",
       "    .dataframe tbody tr th {\n",
       "        vertical-align: top;\n",
       "    }\n",
       "\n",
       "    .dataframe thead th {\n",
       "        text-align: right;\n",
       "    }\n",
       "</style>\n",
       "<table border=\"1\" class=\"dataframe\">\n",
       "  <thead>\n",
       "    <tr style=\"text-align: right;\">\n",
       "      <th></th>\n",
       "      <th>All Fatal and Injury Collisions</th>\n",
       "      <th>Killed Casualties</th>\n",
       "      <th>Injured Casualties</th>\n",
       "      <th>All Killed and Injured Casualties</th>\n",
       "      <th>Year</th>\n",
       "    </tr>\n",
       "  </thead>\n",
       "  <tbody>\n",
       "    <tr>\n",
       "      <th>count</th>\n",
       "      <td>204.000000</td>\n",
       "      <td>204.000000</td>\n",
       "      <td>204.000000</td>\n",
       "      <td>192.000000</td>\n",
       "      <td>204.000000</td>\n",
       "    </tr>\n",
       "    <tr>\n",
       "      <th>mean</th>\n",
       "      <td>1068.500000</td>\n",
       "      <td>87.946078</td>\n",
       "      <td>1335.308824</td>\n",
       "      <td>702.322917</td>\n",
       "      <td>2013.000000</td>\n",
       "    </tr>\n",
       "    <tr>\n",
       "      <th>std</th>\n",
       "      <td>238.350561</td>\n",
       "      <td>36.531409</td>\n",
       "      <td>332.476137</td>\n",
       "      <td>265.098539</td>\n",
       "      <td>4.911031</td>\n",
       "    </tr>\n",
       "    <tr>\n",
       "      <th>min</th>\n",
       "      <td>312.000000</td>\n",
       "      <td>23.000000</td>\n",
       "      <td>348.000000</td>\n",
       "      <td>289.000000</td>\n",
       "      <td>2005.000000</td>\n",
       "    </tr>\n",
       "    <tr>\n",
       "      <th>25%</th>\n",
       "      <td>916.500000</td>\n",
       "      <td>62.000000</td>\n",
       "      <td>1099.750000</td>\n",
       "      <td>486.000000</td>\n",
       "      <td>2009.000000</td>\n",
       "    </tr>\n",
       "    <tr>\n",
       "      <th>50%</th>\n",
       "      <td>1042.500000</td>\n",
       "      <td>76.000000</td>\n",
       "      <td>1304.000000</td>\n",
       "      <td>625.500000</td>\n",
       "      <td>2013.000000</td>\n",
       "    </tr>\n",
       "    <tr>\n",
       "      <th>75%</th>\n",
       "      <td>1225.250000</td>\n",
       "      <td>112.500000</td>\n",
       "      <td>1562.250000</td>\n",
       "      <td>897.250000</td>\n",
       "      <td>2017.000000</td>\n",
       "    </tr>\n",
       "    <tr>\n",
       "      <th>max</th>\n",
       "      <td>1705.000000</td>\n",
       "      <td>207.000000</td>\n",
       "      <td>2305.000000</td>\n",
       "      <td>1424.000000</td>\n",
       "      <td>2021.000000</td>\n",
       "    </tr>\n",
       "  </tbody>\n",
       "</table>\n",
       "</div>"
      ],
      "text/plain": [
       "       All Fatal and Injury Collisions  Killed Casualties  Injured Casualties  \\\n",
       "count                       204.000000         204.000000          204.000000   \n",
       "mean                       1068.500000          87.946078         1335.308824   \n",
       "std                         238.350561          36.531409          332.476137   \n",
       "min                         312.000000          23.000000          348.000000   \n",
       "25%                         916.500000          62.000000         1099.750000   \n",
       "50%                        1042.500000          76.000000         1304.000000   \n",
       "75%                        1225.250000         112.500000         1562.250000   \n",
       "max                        1705.000000         207.000000         2305.000000   \n",
       "\n",
       "       All Killed and Injured Casualties         Year  \n",
       "count                         192.000000   204.000000  \n",
       "mean                          702.322917  2013.000000  \n",
       "std                           265.098539     4.911031  \n",
       "min                           289.000000  2005.000000  \n",
       "25%                           486.000000  2009.000000  \n",
       "50%                           625.500000  2013.000000  \n",
       "75%                           897.250000  2017.000000  \n",
       "max                          1424.000000  2021.000000  "
      ]
     },
     "execution_count": 410,
     "metadata": {},
     "output_type": "execute_result"
    }
   ],
   "source": [
    "final_gr.describe()"
   ]
  },
  {
   "cell_type": "markdown",
   "id": "ef0aa714",
   "metadata": {},
   "source": [
    "# Norway"
   ]
  },
  {
   "cell_type": "code",
   "execution_count": 309,
   "id": "7d4af39a",
   "metadata": {
    "scrolled": false
   },
   "outputs": [
    {
     "data": {
      "text/html": [
       "<div>\n",
       "<style scoped>\n",
       "    .dataframe tbody tr th:only-of-type {\n",
       "        vertical-align: middle;\n",
       "    }\n",
       "\n",
       "    .dataframe tbody tr th {\n",
       "        vertical-align: top;\n",
       "    }\n",
       "\n",
       "    .dataframe thead th {\n",
       "        text-align: right;\n",
       "    }\n",
       "</style>\n",
       "<table border=\"1\" class=\"dataframe\">\n",
       "  <thead>\n",
       "    <tr style=\"text-align: right;\">\n",
       "      <th></th>\n",
       "      <th>Year</th>\n",
       "      <th>Killed</th>\n",
       "      <th>All injured</th>\n",
       "    </tr>\n",
       "  </thead>\n",
       "  <tbody>\n",
       "    <tr>\n",
       "      <th>0</th>\n",
       "      <td>2005M01</td>\n",
       "      <td>19</td>\n",
       "      <td>830</td>\n",
       "    </tr>\n",
       "    <tr>\n",
       "      <th>1</th>\n",
       "      <td>2005M02</td>\n",
       "      <td>13</td>\n",
       "      <td>755</td>\n",
       "    </tr>\n",
       "    <tr>\n",
       "      <th>2</th>\n",
       "      <td>2005M03</td>\n",
       "      <td>17</td>\n",
       "      <td>727</td>\n",
       "    </tr>\n",
       "    <tr>\n",
       "      <th>3</th>\n",
       "      <td>2005M04</td>\n",
       "      <td>16</td>\n",
       "      <td>745</td>\n",
       "    </tr>\n",
       "    <tr>\n",
       "      <th>4</th>\n",
       "      <td>2005M05</td>\n",
       "      <td>13</td>\n",
       "      <td>1048</td>\n",
       "    </tr>\n",
       "  </tbody>\n",
       "</table>\n",
       "</div>"
      ],
      "text/plain": [
       "      Year  Killed  All injured\n",
       "0  2005M01      19          830\n",
       "1  2005M02      13          755\n",
       "2  2005M03      17          727\n",
       "3  2005M04      16          745\n",
       "4  2005M05      13         1048"
      ]
     },
     "execution_count": 309,
     "metadata": {},
     "output_type": "execute_result"
    }
   ],
   "source": [
    "df_no = pd.read_csv('safety_no.csv')\n",
    "df_no.head()"
   ]
  },
  {
   "cell_type": "code",
   "execution_count": 310,
   "id": "43c02348",
   "metadata": {},
   "outputs": [],
   "source": [
    "df_no.rename(columns={'All injured': 'Injured Casualties',\n",
    "                     'Killed': 'Killed Casualties'}, inplace=True)"
   ]
  },
  {
   "cell_type": "code",
   "execution_count": 311,
   "id": "1855e0a3",
   "metadata": {},
   "outputs": [],
   "source": [
    "# #taking only numeric columns\n",
    "final_no = df_no\n",
    "\n",
    "final_no['All Killed and Injured Casualties'] = final_no['Killed Casualties'] + final_no['Injured Casualties']\n",
    "\n",
    "#adding missing columns\n",
    "final_no[['Year', 'Month']] = df_no['Year'].str.split('M', expand=True)\n",
    "final_no.insert(3, 'Country', 'Norway')"
   ]
  },
  {
   "cell_type": "code",
   "execution_count": 312,
   "id": "3d6b4a0c",
   "metadata": {},
   "outputs": [
    {
     "data": {
      "text/html": [
       "<div>\n",
       "<style scoped>\n",
       "    .dataframe tbody tr th:only-of-type {\n",
       "        vertical-align: middle;\n",
       "    }\n",
       "\n",
       "    .dataframe tbody tr th {\n",
       "        vertical-align: top;\n",
       "    }\n",
       "\n",
       "    .dataframe thead th {\n",
       "        text-align: right;\n",
       "    }\n",
       "</style>\n",
       "<table border=\"1\" class=\"dataframe\">\n",
       "  <thead>\n",
       "    <tr style=\"text-align: right;\">\n",
       "      <th></th>\n",
       "      <th>Year</th>\n",
       "      <th>Killed Casualties</th>\n",
       "      <th>Injured Casualties</th>\n",
       "      <th>Country</th>\n",
       "      <th>All Killed and Injured Casualties</th>\n",
       "      <th>Month</th>\n",
       "    </tr>\n",
       "  </thead>\n",
       "  <tbody>\n",
       "    <tr>\n",
       "      <th>0</th>\n",
       "      <td>2005</td>\n",
       "      <td>19</td>\n",
       "      <td>830</td>\n",
       "      <td>Norway</td>\n",
       "      <td>849</td>\n",
       "      <td>01</td>\n",
       "    </tr>\n",
       "    <tr>\n",
       "      <th>1</th>\n",
       "      <td>2005</td>\n",
       "      <td>13</td>\n",
       "      <td>755</td>\n",
       "      <td>Norway</td>\n",
       "      <td>768</td>\n",
       "      <td>02</td>\n",
       "    </tr>\n",
       "    <tr>\n",
       "      <th>2</th>\n",
       "      <td>2005</td>\n",
       "      <td>17</td>\n",
       "      <td>727</td>\n",
       "      <td>Norway</td>\n",
       "      <td>744</td>\n",
       "      <td>03</td>\n",
       "    </tr>\n",
       "    <tr>\n",
       "      <th>3</th>\n",
       "      <td>2005</td>\n",
       "      <td>16</td>\n",
       "      <td>745</td>\n",
       "      <td>Norway</td>\n",
       "      <td>761</td>\n",
       "      <td>04</td>\n",
       "    </tr>\n",
       "    <tr>\n",
       "      <th>4</th>\n",
       "      <td>2005</td>\n",
       "      <td>13</td>\n",
       "      <td>1048</td>\n",
       "      <td>Norway</td>\n",
       "      <td>1061</td>\n",
       "      <td>05</td>\n",
       "    </tr>\n",
       "  </tbody>\n",
       "</table>\n",
       "</div>"
      ],
      "text/plain": [
       "   Year  Killed Casualties  Injured Casualties Country  \\\n",
       "0  2005                 19                 830  Norway   \n",
       "1  2005                 13                 755  Norway   \n",
       "2  2005                 17                 727  Norway   \n",
       "3  2005                 16                 745  Norway   \n",
       "4  2005                 13                1048  Norway   \n",
       "\n",
       "   All Killed and Injured Casualties Month  \n",
       "0                                849    01  \n",
       "1                                768    02  \n",
       "2                                744    03  \n",
       "3                                761    04  \n",
       "4                               1061    05  "
      ]
     },
     "execution_count": 312,
     "metadata": {},
     "output_type": "execute_result"
    }
   ],
   "source": [
    "final_no.head()"
   ]
  },
  {
   "cell_type": "code",
   "execution_count": 314,
   "id": "15dca320",
   "metadata": {
    "scrolled": true
   },
   "outputs": [
    {
     "data": {
      "text/html": [
       "<div>\n",
       "<style scoped>\n",
       "    .dataframe tbody tr th:only-of-type {\n",
       "        vertical-align: middle;\n",
       "    }\n",
       "\n",
       "    .dataframe tbody tr th {\n",
       "        vertical-align: top;\n",
       "    }\n",
       "\n",
       "    .dataframe thead th {\n",
       "        text-align: right;\n",
       "    }\n",
       "</style>\n",
       "<table border=\"1\" class=\"dataframe\">\n",
       "  <thead>\n",
       "    <tr style=\"text-align: right;\">\n",
       "      <th></th>\n",
       "      <th>Year</th>\n",
       "      <th>Killed Casualties</th>\n",
       "      <th>Injured Casualties</th>\n",
       "      <th>Country</th>\n",
       "      <th>All Killed and Injured Casualties</th>\n",
       "      <th>Month</th>\n",
       "    </tr>\n",
       "  </thead>\n",
       "  <tbody>\n",
       "    <tr>\n",
       "      <th>0</th>\n",
       "      <td>2005</td>\n",
       "      <td>19</td>\n",
       "      <td>830</td>\n",
       "      <td>Norway</td>\n",
       "      <td>849</td>\n",
       "      <td>January</td>\n",
       "    </tr>\n",
       "    <tr>\n",
       "      <th>1</th>\n",
       "      <td>2005</td>\n",
       "      <td>13</td>\n",
       "      <td>755</td>\n",
       "      <td>Norway</td>\n",
       "      <td>768</td>\n",
       "      <td>February</td>\n",
       "    </tr>\n",
       "    <tr>\n",
       "      <th>2</th>\n",
       "      <td>2005</td>\n",
       "      <td>17</td>\n",
       "      <td>727</td>\n",
       "      <td>Norway</td>\n",
       "      <td>744</td>\n",
       "      <td>March</td>\n",
       "    </tr>\n",
       "    <tr>\n",
       "      <th>3</th>\n",
       "      <td>2005</td>\n",
       "      <td>16</td>\n",
       "      <td>745</td>\n",
       "      <td>Norway</td>\n",
       "      <td>761</td>\n",
       "      <td>April</td>\n",
       "    </tr>\n",
       "    <tr>\n",
       "      <th>4</th>\n",
       "      <td>2005</td>\n",
       "      <td>13</td>\n",
       "      <td>1048</td>\n",
       "      <td>Norway</td>\n",
       "      <td>1061</td>\n",
       "      <td>May</td>\n",
       "    </tr>\n",
       "  </tbody>\n",
       "</table>\n",
       "</div>"
      ],
      "text/plain": [
       "   Year  Killed Casualties  Injured Casualties Country  \\\n",
       "0  2005                 19                 830  Norway   \n",
       "1  2005                 13                 755  Norway   \n",
       "2  2005                 17                 727  Norway   \n",
       "3  2005                 16                 745  Norway   \n",
       "4  2005                 13                1048  Norway   \n",
       "\n",
       "   All Killed and Injured Casualties     Month  \n",
       "0                                849   January  \n",
       "1                                768  February  \n",
       "2                                744     March  \n",
       "3                                761     April  \n",
       "4                               1061       May  "
      ]
     },
     "execution_count": 314,
     "metadata": {},
     "output_type": "execute_result"
    }
   ],
   "source": [
    "# Replace short month names with full month names using the mapping\n",
    "final_no['Month'] = final_no['Month'].map(month_mapping)\n",
    "final_no['Year'] = final_no['Year'].astype(int)\n",
    "final_no.head()"
   ]
  },
  {
   "cell_type": "code",
   "execution_count": 315,
   "id": "010a754f",
   "metadata": {},
   "outputs": [
    {
     "name": "stdout",
     "output_type": "stream",
     "text": [
      "<class 'pandas.core.frame.DataFrame'>\n",
      "RangeIndex: 204 entries, 0 to 203\n",
      "Data columns (total 6 columns):\n",
      " #   Column                             Non-Null Count  Dtype \n",
      "---  ------                             --------------  ----- \n",
      " 0   Year                               204 non-null    int32 \n",
      " 1   Killed Casualties                  204 non-null    int64 \n",
      " 2   Injured Casualties                 204 non-null    int64 \n",
      " 3   Country                            204 non-null    object\n",
      " 4   All Killed and Injured Casualties  204 non-null    int64 \n",
      " 5   Month                              204 non-null    object\n",
      "dtypes: int32(1), int64(3), object(2)\n",
      "memory usage: 8.9+ KB\n"
     ]
    }
   ],
   "source": [
    "final_no.info()"
   ]
  },
  {
   "cell_type": "markdown",
   "id": "e41be2d5",
   "metadata": {},
   "source": [
    "# Denmark"
   ]
  },
  {
   "cell_type": "code",
   "execution_count": 316,
   "id": "f4042a1c",
   "metadata": {
    "scrolled": false
   },
   "outputs": [
    {
     "data": {
      "text/html": [
       "<div>\n",
       "<style scoped>\n",
       "    .dataframe tbody tr th:only-of-type {\n",
       "        vertical-align: middle;\n",
       "    }\n",
       "\n",
       "    .dataframe tbody tr th {\n",
       "        vertical-align: top;\n",
       "    }\n",
       "\n",
       "    .dataframe thead th {\n",
       "        text-align: right;\n",
       "    }\n",
       "</style>\n",
       "<table border=\"1\" class=\"dataframe\">\n",
       "  <thead>\n",
       "    <tr style=\"text-align: right;\">\n",
       "      <th></th>\n",
       "      <th>Year</th>\n",
       "      <th>Month</th>\n",
       "      <th>All Fatal and Injury Collisions</th>\n",
       "    </tr>\n",
       "  </thead>\n",
       "  <tbody>\n",
       "    <tr>\n",
       "      <th>0</th>\n",
       "      <td>2004</td>\n",
       "      <td>January</td>\n",
       "      <td>476</td>\n",
       "    </tr>\n",
       "    <tr>\n",
       "      <th>1</th>\n",
       "      <td>2004</td>\n",
       "      <td>February</td>\n",
       "      <td>456</td>\n",
       "    </tr>\n",
       "    <tr>\n",
       "      <th>2</th>\n",
       "      <td>2004</td>\n",
       "      <td>March</td>\n",
       "      <td>421</td>\n",
       "    </tr>\n",
       "    <tr>\n",
       "      <th>3</th>\n",
       "      <td>2004</td>\n",
       "      <td>April</td>\n",
       "      <td>488</td>\n",
       "    </tr>\n",
       "    <tr>\n",
       "      <th>4</th>\n",
       "      <td>2004</td>\n",
       "      <td>May</td>\n",
       "      <td>522</td>\n",
       "    </tr>\n",
       "  </tbody>\n",
       "</table>\n",
       "</div>"
      ],
      "text/plain": [
       "   Year     Month  All Fatal and Injury Collisions\n",
       "0  2004   January                              476\n",
       "1  2004  February                              456\n",
       "2  2004     March                              421\n",
       "3  2004     April                              488\n",
       "4  2004       May                              522"
      ]
     },
     "execution_count": 316,
     "metadata": {},
     "output_type": "execute_result"
    }
   ],
   "source": [
    "df_dk = pd.read_csv('safety_dk.csv')\n",
    "df_dk.head()"
   ]
  },
  {
   "cell_type": "code",
   "execution_count": 317,
   "id": "ddbfb1f6",
   "metadata": {},
   "outputs": [],
   "source": [
    "df_dk.insert(3, 'Country', 'Denmark')"
   ]
  },
  {
   "cell_type": "code",
   "execution_count": 318,
   "id": "867753de",
   "metadata": {},
   "outputs": [
    {
     "data": {
      "text/html": [
       "<div>\n",
       "<style scoped>\n",
       "    .dataframe tbody tr th:only-of-type {\n",
       "        vertical-align: middle;\n",
       "    }\n",
       "\n",
       "    .dataframe tbody tr th {\n",
       "        vertical-align: top;\n",
       "    }\n",
       "\n",
       "    .dataframe thead th {\n",
       "        text-align: right;\n",
       "    }\n",
       "</style>\n",
       "<table border=\"1\" class=\"dataframe\">\n",
       "  <thead>\n",
       "    <tr style=\"text-align: right;\">\n",
       "      <th></th>\n",
       "      <th>Year</th>\n",
       "      <th>Month</th>\n",
       "      <th>All Fatal and Injury Collisions</th>\n",
       "      <th>Country</th>\n",
       "    </tr>\n",
       "  </thead>\n",
       "  <tbody>\n",
       "    <tr>\n",
       "      <th>0</th>\n",
       "      <td>2004</td>\n",
       "      <td>January</td>\n",
       "      <td>476</td>\n",
       "      <td>Denmark</td>\n",
       "    </tr>\n",
       "    <tr>\n",
       "      <th>1</th>\n",
       "      <td>2004</td>\n",
       "      <td>February</td>\n",
       "      <td>456</td>\n",
       "      <td>Denmark</td>\n",
       "    </tr>\n",
       "    <tr>\n",
       "      <th>2</th>\n",
       "      <td>2004</td>\n",
       "      <td>March</td>\n",
       "      <td>421</td>\n",
       "      <td>Denmark</td>\n",
       "    </tr>\n",
       "    <tr>\n",
       "      <th>3</th>\n",
       "      <td>2004</td>\n",
       "      <td>April</td>\n",
       "      <td>488</td>\n",
       "      <td>Denmark</td>\n",
       "    </tr>\n",
       "    <tr>\n",
       "      <th>4</th>\n",
       "      <td>2004</td>\n",
       "      <td>May</td>\n",
       "      <td>522</td>\n",
       "      <td>Denmark</td>\n",
       "    </tr>\n",
       "    <tr>\n",
       "      <th>...</th>\n",
       "      <td>...</td>\n",
       "      <td>...</td>\n",
       "      <td>...</td>\n",
       "      <td>...</td>\n",
       "    </tr>\n",
       "    <tr>\n",
       "      <th>223</th>\n",
       "      <td>2022</td>\n",
       "      <td>August</td>\n",
       "      <td>262</td>\n",
       "      <td>Denmark</td>\n",
       "    </tr>\n",
       "    <tr>\n",
       "      <th>224</th>\n",
       "      <td>2022</td>\n",
       "      <td>September</td>\n",
       "      <td>232</td>\n",
       "      <td>Denmark</td>\n",
       "    </tr>\n",
       "    <tr>\n",
       "      <th>225</th>\n",
       "      <td>2022</td>\n",
       "      <td>October</td>\n",
       "      <td>228</td>\n",
       "      <td>Denmark</td>\n",
       "    </tr>\n",
       "    <tr>\n",
       "      <th>226</th>\n",
       "      <td>2022</td>\n",
       "      <td>November</td>\n",
       "      <td>200</td>\n",
       "      <td>Denmark</td>\n",
       "    </tr>\n",
       "    <tr>\n",
       "      <th>227</th>\n",
       "      <td>2022</td>\n",
       "      <td>December</td>\n",
       "      <td>169</td>\n",
       "      <td>Denmark</td>\n",
       "    </tr>\n",
       "  </tbody>\n",
       "</table>\n",
       "<p>228 rows × 4 columns</p>\n",
       "</div>"
      ],
      "text/plain": [
       "     Year      Month  All Fatal and Injury Collisions  Country\n",
       "0    2004    January                              476  Denmark\n",
       "1    2004   February                              456  Denmark\n",
       "2    2004      March                              421  Denmark\n",
       "3    2004      April                              488  Denmark\n",
       "4    2004        May                              522  Denmark\n",
       "..    ...        ...                              ...      ...\n",
       "223  2022     August                              262  Denmark\n",
       "224  2022  September                              232  Denmark\n",
       "225  2022    October                              228  Denmark\n",
       "226  2022   November                              200  Denmark\n",
       "227  2022   December                              169  Denmark\n",
       "\n",
       "[228 rows x 4 columns]"
      ]
     },
     "execution_count": 318,
     "metadata": {},
     "output_type": "execute_result"
    }
   ],
   "source": [
    "df_dk"
   ]
  },
  {
   "cell_type": "code",
   "execution_count": 319,
   "id": "182eb07f",
   "metadata": {},
   "outputs": [],
   "source": [
    "final_dk = df_dk.drop(df_dk[(df_dk[\"Year\"] == 2004)| (df_dk[\"Year\"] == 2022)].index)"
   ]
  },
  {
   "cell_type": "code",
   "execution_count": 320,
   "id": "cee88ddf",
   "metadata": {
    "scrolled": true
   },
   "outputs": [
    {
     "name": "stdout",
     "output_type": "stream",
     "text": [
      "<class 'pandas.core.frame.DataFrame'>\n",
      "Index: 204 entries, 12 to 215\n",
      "Data columns (total 4 columns):\n",
      " #   Column                           Non-Null Count  Dtype \n",
      "---  ------                           --------------  ----- \n",
      " 0   Year                             204 non-null    int64 \n",
      " 1   Month                            204 non-null    object\n",
      " 2   All Fatal and Injury Collisions  204 non-null    int64 \n",
      " 3   Country                          204 non-null    object\n",
      "dtypes: int64(2), object(2)\n",
      "memory usage: 8.0+ KB\n"
     ]
    }
   ],
   "source": [
    "final_dk.info()"
   ]
  },
  {
   "cell_type": "markdown",
   "id": "059d07e6",
   "metadata": {},
   "source": [
    "# A one-way ANOVA analysis is used to compare means of more than two groups, while a chi-square test is used to explore the relationship between two categorical variables."
   ]
  },
  {
   "cell_type": "markdown",
   "id": "274027f1",
   "metadata": {},
   "source": [
    "## Analyzing Collisions\n",
    "### Ireland and Denmark\n",
    "### years 2005-2021"
   ]
  },
  {
   "cell_type": "code",
   "execution_count": 371,
   "id": "d37d3a51",
   "metadata": {},
   "outputs": [],
   "source": [
    "# Creating identical data frames for each country by taking interesting columns\n",
    "ie = final_ie[['Country','Year','Month','All Fatal and Injury Collisions']]\n",
    "dk = final_dk[['Country','Year','Month','All Fatal and Injury Collisions']]"
   ]
  },
  {
   "cell_type": "code",
   "execution_count": 372,
   "id": "135cd031",
   "metadata": {},
   "outputs": [],
   "source": [
    "# Creating 1 data frame with data from all countries\n",
    "df = pd.concat([ie,dk])"
   ]
  },
  {
   "cell_type": "code",
   "execution_count": 373,
   "id": "70b3ad64",
   "metadata": {
    "scrolled": false
   },
   "outputs": [
    {
     "name": "stdout",
     "output_type": "stream",
     "text": [
      "<class 'pandas.core.frame.DataFrame'>\n",
      "Index: 408 entries, 1 to 215\n",
      "Data columns (total 4 columns):\n",
      " #   Column                           Non-Null Count  Dtype  \n",
      "---  ------                           --------------  -----  \n",
      " 0   Country                          408 non-null    object \n",
      " 1   Year                             408 non-null    int64  \n",
      " 2   Month                            408 non-null    object \n",
      " 3   All Fatal and Injury Collisions  408 non-null    float64\n",
      "dtypes: float64(1), int64(1), object(2)\n",
      "memory usage: 15.9+ KB\n"
     ]
    }
   ],
   "source": [
    "df.info()"
   ]
  },
  {
   "cell_type": "code",
   "execution_count": 374,
   "id": "7c62e3ef",
   "metadata": {},
   "outputs": [
    {
     "name": "stderr",
     "output_type": "stream",
     "text": [
      "C:\\Users\\dmitri.iolchin\\AppData\\Local\\anaconda3\\Lib\\site-packages\\seaborn\\_oldcore.py:1498: FutureWarning: is_categorical_dtype is deprecated and will be removed in a future version. Use isinstance(dtype, CategoricalDtype) instead\n",
      "  if pd.api.types.is_categorical_dtype(vector):\n",
      "C:\\Users\\dmitri.iolchin\\AppData\\Local\\anaconda3\\Lib\\site-packages\\seaborn\\_oldcore.py:1498: FutureWarning: is_categorical_dtype is deprecated and will be removed in a future version. Use isinstance(dtype, CategoricalDtype) instead\n",
      "  if pd.api.types.is_categorical_dtype(vector):\n",
      "C:\\Users\\dmitri.iolchin\\AppData\\Local\\anaconda3\\Lib\\site-packages\\seaborn\\_oldcore.py:1498: FutureWarning: is_categorical_dtype is deprecated and will be removed in a future version. Use isinstance(dtype, CategoricalDtype) instead\n",
      "  if pd.api.types.is_categorical_dtype(vector):\n"
     ]
    },
    {
     "data": {
      "text/plain": [
       "<Axes: xlabel='Country', ylabel='All Fatal and Injury Collisions'>"
      ]
     },
     "execution_count": 374,
     "metadata": {},
     "output_type": "execute_result"
    },
    {
     "data": {
      "image/png": "[encoded data removed]",
      "text/plain": [
       "<Figure size 600x400 with 1 Axes>"
      ]
     },
     "metadata": {},
     "output_type": "display_data"
    }
   ],
   "source": [
    "import seaborn as sns\n",
    "import matplotlib.pyplot as plt\n",
    "plt.figure(figsize=(6, 4))  # Optional: adjust figure size\n",
    "sns.boxplot(x='Country', y='All Fatal and Injury Collisions', data=df)"
   ]
  },
  {
   "cell_type": "code",
   "execution_count": 375,
   "id": "dbbe9c03",
   "metadata": {},
   "outputs": [],
   "source": [
    "#Importing the libraries\n",
    "\n",
    "import pandas as pd\n",
    "from scipy import stats\n",
    "import numpy as np\n",
    "import matplotlib.pyplot as plt\n",
    "import statsmodels.api as sm\n",
    "from statsmodels.formula.api import ols\n",
    "import scipy as scipy"
   ]
  },
  {
   "cell_type": "code",
   "execution_count": 376,
   "id": "9a6375fc",
   "metadata": {
    "scrolled": false
   },
   "outputs": [
    {
     "data": {
      "text/plain": [
       "<Figure size 640x480 with 0 Axes>"
      ]
     },
     "execution_count": 376,
     "metadata": {},
     "output_type": "execute_result"
    },
    {
     "data": {
      "image/png": "[encoded data removed]",
      "text/plain": [
       "<Figure size 640x480 with 1 Axes>"
      ]
     },
     "metadata": {},
     "output_type": "display_data"
    },
    {
     "data": {
      "text/plain": [
       "<Figure size 640x480 with 0 Axes>"
      ]
     },
     "metadata": {},
     "output_type": "display_data"
    }
   ],
   "source": [
    "stats.probplot(df['All Fatal and Injury Collisions'], plot = plt)\n",
    "plt.figure()"
   ]
  },
  {
   "cell_type": "markdown",
   "id": "f33a0d0c",
   "metadata": {},
   "source": [
    "##### p grater than alpha we accept the null hypotesis, so data comes from a normal distribution"
   ]
  },
  {
   "cell_type": "code",
   "execution_count": 377,
   "id": "dc3197ea",
   "metadata": {},
   "outputs": [
    {
     "data": {
      "text/plain": [
       "ShapiroResult(statistic=0.9408243298530579, pvalue=2.142132871085778e-07)"
      ]
     },
     "execution_count": 377,
     "metadata": {},
     "output_type": "execute_result"
    }
   ],
   "source": [
    "#Shapiro test Ireland\n",
    "stats.shapiro(df['All Fatal and Injury Collisions'][df.Country==\"Ireland\"])"
   ]
  },
  {
   "cell_type": "code",
   "execution_count": 378,
   "id": "a1770f37",
   "metadata": {
    "scrolled": true
   },
   "outputs": [
    {
     "data": {
      "text/plain": [
       "ShapiroResult(statistic=0.9341702461242676, pvalue=5.74906167116751e-08)"
      ]
     },
     "execution_count": 378,
     "metadata": {},
     "output_type": "execute_result"
    }
   ],
   "source": [
    "#Shapiro test Denmark\n",
    "stats.shapiro(df['All Fatal and Injury Collisions'][df.Country==\"Denmark\"])"
   ]
  },
  {
   "cell_type": "markdown",
   "id": "cddb89c9",
   "metadata": {},
   "source": [
    "Now we will check if we can assume equality of the variances"
   ]
  },
  {
   "cell_type": "code",
   "execution_count": 379,
   "id": "46465711",
   "metadata": {},
   "outputs": [],
   "source": [
    "#we create the objects per region\n",
    "\n",
    "IE = df['All Fatal and Injury Collisions'][df.Country==\"Ireland\"]\n",
    "DK = df['All Fatal and Injury Collisions'][df.Country==\"Denmark\"]"
   ]
  },
  {
   "cell_type": "code",
   "execution_count": 380,
   "id": "34034836",
   "metadata": {},
   "outputs": [
    {
     "data": {
      "text/plain": [
       "LeveneResult(statistic=26.391367543124986, pvalue=4.338119537718303e-07)"
      ]
     },
     "execution_count": 380,
     "metadata": {},
     "output_type": "execute_result"
    }
   ],
   "source": [
    "#Homogeinity of the variances --> Levene test\n",
    "\n",
    "#H0: the variances are equal\n",
    "#H1: the variances are not equal\n",
    "\n",
    "from scipy.stats import levene\n",
    "\n",
    "levene(IE,DK,center = 'mean')"
   ]
  },
  {
   "cell_type": "markdown",
   "id": "84d1c0ec",
   "metadata": {},
   "source": [
    "We set our hypothesis of ANOVA"
   ]
  },
  {
   "cell_type": "code",
   "execution_count": 381,
   "id": "884dad32",
   "metadata": {},
   "outputs": [
    {
     "name": "stdout",
     "output_type": "stream",
     "text": [
      "             df        sum_sq       mean_sq           F        PR(>F)\n",
      "Country     1.0  3.358839e+06  3.358839e+06  425.792145  3.232857e-65\n",
      "Residual  406.0  3.202710e+06  7.888448e+03         NaN           NaN\n"
     ]
    }
   ],
   "source": [
    "#H0 : mu east = mu south = mu north\n",
    "#H1 : there are at least 2 mu that are different oen to another one\n",
    "\n",
    "#We work with ANOVA One Way --> We analyse the charges based on one category (region)\n",
    "\n",
    "collisions = df['All Fatal and Injury Collisions']\n",
    "\n",
    "model = ols(\"collisions~Country\", data=df).fit()\n",
    "aov = sm.stats.anova_lm(model, type = 2)\n",
    "print(aov)"
   ]
  },
  {
   "cell_type": "code",
   "execution_count": 382,
   "id": "dd2ceced",
   "metadata": {},
   "outputs": [
    {
     "name": "stdout",
     "output_type": "stream",
     "text": [
      "             df        sum_sq       mean_sq           F        PR(>F)\n",
      "Country     1.0  3.358839e+06  3.358839e+06  483.513746  1.478199e-70\n",
      "Month      11.0  4.587517e+05  4.170470e+04    6.003502  4.378535e-09\n",
      "Residual  395.0  2.743958e+06  6.946729e+03         NaN           NaN\n"
     ]
    }
   ],
   "source": [
    "#H0 = means are equal\n",
    "#H1 = at least one mean is different\n",
    "\n",
    "model2 = ols('collisions~Country+Month', data=df).fit()\n",
    "aov2 = sm.stats.anova_lm(model2, type = 2)\n",
    "print(aov2)"
   ]
  },
  {
   "cell_type": "markdown",
   "id": "fdda3c7e",
   "metadata": {},
   "source": [
    "# Anallyzing Casualties (ANOVA and ANOVA two-ways)\n",
    "\n",
    "## Ireland and Norway years 2005-2021"
   ]
  },
  {
   "cell_type": "code",
   "execution_count": 383,
   "id": "2bd7fd1a",
   "metadata": {
    "scrolled": false
   },
   "outputs": [
    {
     "data": {
      "text/html": [
       "<div>\n",
       "<style scoped>\n",
       "    .dataframe tbody tr th:only-of-type {\n",
       "        vertical-align: middle;\n",
       "    }\n",
       "\n",
       "    .dataframe tbody tr th {\n",
       "        vertical-align: top;\n",
       "    }\n",
       "\n",
       "    .dataframe thead th {\n",
       "        text-align: right;\n",
       "    }\n",
       "</style>\n",
       "<table border=\"1\" class=\"dataframe\">\n",
       "  <thead>\n",
       "    <tr style=\"text-align: right;\">\n",
       "      <th></th>\n",
       "      <th>Year</th>\n",
       "      <th>Month</th>\n",
       "      <th>Country</th>\n",
       "      <th>Fatal Collisions</th>\n",
       "      <th>Injury Collisions</th>\n",
       "      <th>All Fatal and Injury Collisions</th>\n",
       "      <th>Killed Casualties</th>\n",
       "      <th>Injured Casualties</th>\n",
       "      <th>All Killed and Injured Casualties</th>\n",
       "    </tr>\n",
       "  </thead>\n",
       "  <tbody>\n",
       "    <tr>\n",
       "      <th>1</th>\n",
       "      <td>2005</td>\n",
       "      <td>January</td>\n",
       "      <td>Ireland</td>\n",
       "      <td>31.0</td>\n",
       "      <td>442.0</td>\n",
       "      <td>473.0</td>\n",
       "      <td>33.0</td>\n",
       "      <td>683.0</td>\n",
       "      <td>716.0</td>\n",
       "    </tr>\n",
       "    <tr>\n",
       "      <th>2</th>\n",
       "      <td>2005</td>\n",
       "      <td>February</td>\n",
       "      <td>Ireland</td>\n",
       "      <td>34.0</td>\n",
       "      <td>427.0</td>\n",
       "      <td>461.0</td>\n",
       "      <td>37.0</td>\n",
       "      <td>591.0</td>\n",
       "      <td>628.0</td>\n",
       "    </tr>\n",
       "    <tr>\n",
       "      <th>3</th>\n",
       "      <td>2005</td>\n",
       "      <td>March</td>\n",
       "      <td>Ireland</td>\n",
       "      <td>23.0</td>\n",
       "      <td>475.0</td>\n",
       "      <td>498.0</td>\n",
       "      <td>26.0</td>\n",
       "      <td>718.0</td>\n",
       "      <td>744.0</td>\n",
       "    </tr>\n",
       "    <tr>\n",
       "      <th>4</th>\n",
       "      <td>2005</td>\n",
       "      <td>April</td>\n",
       "      <td>Ireland</td>\n",
       "      <td>20.0</td>\n",
       "      <td>509.0</td>\n",
       "      <td>529.0</td>\n",
       "      <td>23.0</td>\n",
       "      <td>726.0</td>\n",
       "      <td>749.0</td>\n",
       "    </tr>\n",
       "    <tr>\n",
       "      <th>5</th>\n",
       "      <td>2005</td>\n",
       "      <td>May</td>\n",
       "      <td>Ireland</td>\n",
       "      <td>36.0</td>\n",
       "      <td>525.0</td>\n",
       "      <td>561.0</td>\n",
       "      <td>41.0</td>\n",
       "      <td>800.0</td>\n",
       "      <td>841.0</td>\n",
       "    </tr>\n",
       "  </tbody>\n",
       "</table>\n",
       "</div>"
      ],
      "text/plain": [
       "   Year     Month  Country  Fatal Collisions  Injury Collisions  \\\n",
       "1  2005   January  Ireland              31.0              442.0   \n",
       "2  2005  February  Ireland              34.0              427.0   \n",
       "3  2005     March  Ireland              23.0              475.0   \n",
       "4  2005     April  Ireland              20.0              509.0   \n",
       "5  2005       May  Ireland              36.0              525.0   \n",
       "\n",
       "   All Fatal and Injury Collisions  Killed Casualties  Injured Casualties  \\\n",
       "1                            473.0               33.0               683.0   \n",
       "2                            461.0               37.0               591.0   \n",
       "3                            498.0               26.0               718.0   \n",
       "4                            529.0               23.0               726.0   \n",
       "5                            561.0               41.0               800.0   \n",
       "\n",
       "   All Killed and Injured Casualties  \n",
       "1                              716.0  \n",
       "2                              628.0  \n",
       "3                              744.0  \n",
       "4                              749.0  \n",
       "5                              841.0  "
      ]
     },
     "execution_count": 383,
     "metadata": {},
     "output_type": "execute_result"
    }
   ],
   "source": [
    "final_ie.head()"
   ]
  },
  {
   "cell_type": "code",
   "execution_count": 384,
   "id": "6480aad3",
   "metadata": {
    "scrolled": false
   },
   "outputs": [
    {
     "data": {
      "text/html": [
       "<div>\n",
       "<style scoped>\n",
       "    .dataframe tbody tr th:only-of-type {\n",
       "        vertical-align: middle;\n",
       "    }\n",
       "\n",
       "    .dataframe tbody tr th {\n",
       "        vertical-align: top;\n",
       "    }\n",
       "\n",
       "    .dataframe thead th {\n",
       "        text-align: right;\n",
       "    }\n",
       "</style>\n",
       "<table border=\"1\" class=\"dataframe\">\n",
       "  <thead>\n",
       "    <tr style=\"text-align: right;\">\n",
       "      <th></th>\n",
       "      <th>Year</th>\n",
       "      <th>Killed Casualties</th>\n",
       "      <th>Injured Casualties</th>\n",
       "      <th>Country</th>\n",
       "      <th>All Killed and Injured Casualties</th>\n",
       "      <th>Month</th>\n",
       "    </tr>\n",
       "  </thead>\n",
       "  <tbody>\n",
       "    <tr>\n",
       "      <th>0</th>\n",
       "      <td>2005</td>\n",
       "      <td>19</td>\n",
       "      <td>830</td>\n",
       "      <td>Norway</td>\n",
       "      <td>849</td>\n",
       "      <td>January</td>\n",
       "    </tr>\n",
       "    <tr>\n",
       "      <th>1</th>\n",
       "      <td>2005</td>\n",
       "      <td>13</td>\n",
       "      <td>755</td>\n",
       "      <td>Norway</td>\n",
       "      <td>768</td>\n",
       "      <td>February</td>\n",
       "    </tr>\n",
       "    <tr>\n",
       "      <th>2</th>\n",
       "      <td>2005</td>\n",
       "      <td>17</td>\n",
       "      <td>727</td>\n",
       "      <td>Norway</td>\n",
       "      <td>744</td>\n",
       "      <td>March</td>\n",
       "    </tr>\n",
       "    <tr>\n",
       "      <th>3</th>\n",
       "      <td>2005</td>\n",
       "      <td>16</td>\n",
       "      <td>745</td>\n",
       "      <td>Norway</td>\n",
       "      <td>761</td>\n",
       "      <td>April</td>\n",
       "    </tr>\n",
       "    <tr>\n",
       "      <th>4</th>\n",
       "      <td>2005</td>\n",
       "      <td>13</td>\n",
       "      <td>1048</td>\n",
       "      <td>Norway</td>\n",
       "      <td>1061</td>\n",
       "      <td>May</td>\n",
       "    </tr>\n",
       "  </tbody>\n",
       "</table>\n",
       "</div>"
      ],
      "text/plain": [
       "   Year  Killed Casualties  Injured Casualties Country  \\\n",
       "0  2005                 19                 830  Norway   \n",
       "1  2005                 13                 755  Norway   \n",
       "2  2005                 17                 727  Norway   \n",
       "3  2005                 16                 745  Norway   \n",
       "4  2005                 13                1048  Norway   \n",
       "\n",
       "   All Killed and Injured Casualties     Month  \n",
       "0                                849   January  \n",
       "1                                768  February  \n",
       "2                                744     March  \n",
       "3                                761     April  \n",
       "4                               1061       May  "
      ]
     },
     "execution_count": 384,
     "metadata": {},
     "output_type": "execute_result"
    }
   ],
   "source": [
    "final_no.head()"
   ]
  },
  {
   "cell_type": "code",
   "execution_count": 385,
   "id": "4c586566",
   "metadata": {},
   "outputs": [],
   "source": [
    "ie1 = final_ie[['Country','Year','Month','All Killed and Injured Casualties']]\n",
    "no1 = final_no[['Country','Year','Month','All Killed and Injured Casualties']]\n",
    "df1 = pd.concat([ie1,no1])"
   ]
  },
  {
   "cell_type": "code",
   "execution_count": 386,
   "id": "0391a8d1",
   "metadata": {
    "scrolled": false
   },
   "outputs": [
    {
     "name": "stdout",
     "output_type": "stream",
     "text": [
      "<class 'pandas.core.frame.DataFrame'>\n",
      "Index: 408 entries, 1 to 203\n",
      "Data columns (total 4 columns):\n",
      " #   Column                             Non-Null Count  Dtype  \n",
      "---  ------                             --------------  -----  \n",
      " 0   Country                            408 non-null    object \n",
      " 1   Year                               408 non-null    int64  \n",
      " 2   Month                              408 non-null    object \n",
      " 3   All Killed and Injured Casualties  408 non-null    float64\n",
      "dtypes: float64(1), int64(1), object(2)\n",
      "memory usage: 15.9+ KB\n"
     ]
    }
   ],
   "source": [
    "df1.info()"
   ]
  },
  {
   "cell_type": "code",
   "execution_count": 387,
   "id": "634d0694",
   "metadata": {},
   "outputs": [
    {
     "name": "stderr",
     "output_type": "stream",
     "text": [
      "C:\\Users\\dmitri.iolchin\\AppData\\Local\\anaconda3\\Lib\\site-packages\\seaborn\\_oldcore.py:1498: FutureWarning: is_categorical_dtype is deprecated and will be removed in a future version. Use isinstance(dtype, CategoricalDtype) instead\n",
      "  if pd.api.types.is_categorical_dtype(vector):\n",
      "C:\\Users\\dmitri.iolchin\\AppData\\Local\\anaconda3\\Lib\\site-packages\\seaborn\\_oldcore.py:1498: FutureWarning: is_categorical_dtype is deprecated and will be removed in a future version. Use isinstance(dtype, CategoricalDtype) instead\n",
      "  if pd.api.types.is_categorical_dtype(vector):\n",
      "C:\\Users\\dmitri.iolchin\\AppData\\Local\\anaconda3\\Lib\\site-packages\\seaborn\\_oldcore.py:1498: FutureWarning: is_categorical_dtype is deprecated and will be removed in a future version. Use isinstance(dtype, CategoricalDtype) instead\n",
      "  if pd.api.types.is_categorical_dtype(vector):\n"
     ]
    },
    {
     "data": {
      "text/plain": [
       "<Axes: xlabel='Country', ylabel='All Killed and Injured Casualties'>"
      ]
     },
     "execution_count": 387,
     "metadata": {},
     "output_type": "execute_result"
    },
    {
     "data": {
      "image/png": "[encoded data removed]",
      "text/plain": [
       "<Figure size 600x400 with 1 Axes>"
      ]
     },
     "metadata": {},
     "output_type": "display_data"
    }
   ],
   "source": [
    "import seaborn as sns\n",
    "import matplotlib.pyplot as plt\n",
    "plt.figure(figsize=(6, 4))  # Optional: adjust figure size\n",
    "sns.boxplot(x='Country', y='All Killed and Injured Casualties', data=df1)"
   ]
  },
  {
   "cell_type": "markdown",
   "id": "7996c745",
   "metadata": {},
   "source": [
    "### All Killed and Injured Casualties - ANOVA"
   ]
  },
  {
   "cell_type": "code",
   "execution_count": 332,
   "id": "6980b134",
   "metadata": {
    "scrolled": false
   },
   "outputs": [
    {
     "data": {
      "text/plain": [
       "<Figure size 640x480 with 0 Axes>"
      ]
     },
     "execution_count": 332,
     "metadata": {},
     "output_type": "execute_result"
    },
    {
     "data": {
      "image/png": "[encoded data removed]",
      "text/plain": [
       "<Figure size 640x480 with 1 Axes>"
      ]
     },
     "metadata": {},
     "output_type": "display_data"
    },
    {
     "data": {
      "text/plain": [
       "<Figure size 640x480 with 0 Axes>"
      ]
     },
     "metadata": {},
     "output_type": "display_data"
    }
   ],
   "source": [
    "stats.probplot(df1['All Killed and Injured Casualties'], plot = plt)\n",
    "plt.figure()"
   ]
  },
  {
   "cell_type": "code",
   "execution_count": 333,
   "id": "db75f01c",
   "metadata": {},
   "outputs": [
    {
     "data": {
      "text/plain": [
       "ShapiroResult(statistic=0.9651782512664795, pvalue=6.288898293860257e-05)"
      ]
     },
     "execution_count": 333,
     "metadata": {},
     "output_type": "execute_result"
    }
   ],
   "source": [
    "#Shapiro test Ireland\n",
    "stats.shapiro(df1['All Killed and Injured Casualties'][df1.Country==\"Ireland\"])"
   ]
  },
  {
   "cell_type": "code",
   "execution_count": 334,
   "id": "e89861f0",
   "metadata": {},
   "outputs": [
    {
     "data": {
      "text/plain": [
       "ShapiroResult(statistic=0.9537180662155151, pvalue=3.5636187476484338e-06)"
      ]
     },
     "execution_count": 334,
     "metadata": {},
     "output_type": "execute_result"
    }
   ],
   "source": [
    "#Shapiro test Greece\n",
    "stats.shapiro(df1['All Killed and Injured Casualties'][df1.Country==\"Norway\"])"
   ]
  },
  {
   "cell_type": "code",
   "execution_count": 335,
   "id": "506bfec6",
   "metadata": {},
   "outputs": [],
   "source": [
    "#we create the objects per region\n",
    "\n",
    "IE = df1['All Killed and Injured Casualties'][df1.Country==\"Ireland\"]\n",
    "NO = df1['All Killed and Injured Casualties'][df1.Country==\"Norway\"]"
   ]
  },
  {
   "cell_type": "code",
   "execution_count": 336,
   "id": "c583e2c5",
   "metadata": {},
   "outputs": [
    {
     "data": {
      "text/plain": [
       "LeveneResult(statistic=122.14991085000877, pvalue=5.2837664809553e-25)"
      ]
     },
     "execution_count": 336,
     "metadata": {},
     "output_type": "execute_result"
    }
   ],
   "source": [
    "#Homogeinity of the variances --> Levene test\n",
    "\n",
    "#H0: the variances are equal\n",
    "#H1: the variances are not equal\n",
    "\n",
    "from scipy.stats import levene\n",
    "\n",
    "levene(IE,NO,center = 'mean')"
   ]
  },
  {
   "cell_type": "code",
   "execution_count": 337,
   "id": "1ad0d435",
   "metadata": {
    "scrolled": false
   },
   "outputs": [
    {
     "name": "stdout",
     "output_type": "stream",
     "text": [
      "             df        sum_sq        mean_sq         F    PR(>F)\n",
      "Country     1.0  1.024530e+05  102452.968470  2.718786  0.099947\n",
      "Residual  406.0  1.529944e+07   37683.350061       NaN       NaN\n"
     ]
    }
   ],
   "source": [
    "#H0 : mu east = mu south = mu north\n",
    "#H1 : there are at least 2 mu that are different oen to another one\n",
    "\n",
    "#We work with ANOVA One Way --> We analyse the charges based on one category (region)\n",
    "\n",
    "collisions = df1['All Killed and Injured Casualties']\n",
    "\n",
    "model = ols(\"collisions~Country\", data=df1).fit()\n",
    "aov = sm.stats.anova_lm(model, type = 2)\n",
    "print(aov)"
   ]
  },
  {
   "cell_type": "markdown",
   "id": "4188c99e",
   "metadata": {},
   "source": [
    "### We will use U-Mann Whitman to compare two countries"
   ]
  },
  {
   "cell_type": "code",
   "execution_count": 338,
   "id": "887dfb62",
   "metadata": {},
   "outputs": [
    {
     "name": "stdout",
     "output_type": "stream",
     "text": [
      "Statistical test: 24112.5\n",
      "p-value 0.005533347891519408\n"
     ]
    }
   ],
   "source": [
    "from scipy.stats import mannwhitneyu\n",
    "stat, p=mannwhitneyu(IE,NO)\n",
    "print('Statistical test:', stat)\n",
    "print('p-value',p)"
   ]
  },
  {
   "cell_type": "markdown",
   "id": "67c6de8c",
   "metadata": {},
   "source": [
    "### All Killed and Injured Casualties - ANOVA two-ways"
   ]
  },
  {
   "cell_type": "code",
   "execution_count": 339,
   "id": "be0f2aa2",
   "metadata": {},
   "outputs": [
    {
     "name": "stdout",
     "output_type": "stream",
     "text": [
      "             df        sum_sq        mean_sq         F    PR(>F)\n",
      "Country     1.0  1.024530e+05  102452.968470  2.965785  0.085826\n",
      "Month      11.0  1.654177e+06  150379.748244  4.353159  0.000004\n",
      "Residual  395.0  1.364526e+07   34544.969352       NaN       NaN\n"
     ]
    }
   ],
   "source": [
    "#H0 = means are equal\n",
    "#H1 = at least one mean is different\n",
    "\n",
    "model2 = ols('collisions~Country+Month', data=df1).fit()\n",
    "aov2 = sm.stats.anova_lm(model2, type = 2)\n",
    "print(aov2)"
   ]
  },
  {
   "cell_type": "code",
   "execution_count": null,
   "id": "c577214c",
   "metadata": {},
   "outputs": [],
   "source": []
  },
  {
   "cell_type": "code",
   "execution_count": 90,
   "id": "0e58fa81",
   "metadata": {},
   "outputs": [
    {
     "name": "stdout",
     "output_type": "stream",
     "text": [
      "             df        sum_sq       mean_sq           F         PR(>F)\n",
      "Country     1.0  4.673602e+07  4.673602e+07  873.624725  4.013309e-102\n",
      "Month      11.0  4.215228e+06  3.832025e+05    7.163109   3.820164e-11\n",
      "Residual  395.0  2.113119e+07  5.349668e+04         NaN            NaN\n"
     ]
    }
   ],
   "source": [
    "#H0 = means are equal\n",
    "#H1 = at least one mean is different\n",
    "\n",
    "model2 = ols('collisions~Country+Month', data=df1).fit()\n",
    "aov2 = sm.stats.anova_lm(model2, type = 2)\n",
    "print(aov2)"
   ]
  }
 ],
 "metadata": {
  "kernelspec": {
   "display_name": "Python 3 (ipykernel)",
   "language": "python",
   "name": "python3"
  },
  "language_info": {
   "codemirror_mode": {
    "name": "ipython",
    "version": 3
   },
   "file_extension": ".py",
   "mimetype": "text/x-python",
   "name": "python",
   "nbconvert_exporter": "python",
   "pygments_lexer": "ipython3",
   "version": "3.11.4"
  }
 },
 "nbformat": 4,
 "nbformat_minor": 5
}
