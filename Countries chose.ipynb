{
 "cells": [
  {
   "cell_type": "code",
   "execution_count": 1,
   "id": "f7d44dc0",
   "metadata": {},
   "outputs": [],
   "source": [
    "import pandas as pd\n",
    "from collections import Counter\n",
    "import plotly.express as px"
   ]
  },
  {
   "cell_type": "markdown",
   "id": "845e5b2a",
   "metadata": {},
   "source": [
    "### Populatopn Density"
   ]
  },
  {
   "cell_type": "code",
   "execution_count": 71,
   "id": "773c5c63",
   "metadata": {
    "scrolled": false
   },
   "outputs": [
    {
     "data": {
      "text/html": [
       "<div>\n",
       "<style scoped>\n",
       "    .dataframe tbody tr th:only-of-type {\n",
       "        vertical-align: middle;\n",
       "    }\n",
       "\n",
       "    .dataframe tbody tr th {\n",
       "        vertical-align: top;\n",
       "    }\n",
       "\n",
       "    .dataframe thead th {\n",
       "        text-align: right;\n",
       "    }\n",
       "</style>\n",
       "<table border=\"1\" class=\"dataframe\">\n",
       "  <thead>\n",
       "    <tr style=\"text-align: right;\">\n",
       "      <th></th>\n",
       "      <th>DATAFLOW</th>\n",
       "      <th>LAST UPDATE</th>\n",
       "      <th>freq</th>\n",
       "      <th>terrtypo</th>\n",
       "      <th>geo</th>\n",
       "      <th>TIME_PERIOD</th>\n",
       "      <th>OBS_VALUE</th>\n",
       "      <th>OBS_FLAG</th>\n",
       "    </tr>\n",
       "  </thead>\n",
       "  <tbody>\n",
       "    <tr>\n",
       "      <th>0</th>\n",
       "      <td>ESTAT:URT_D3DENS(1.0)</td>\n",
       "      <td>19/09/2023 23:00</td>\n",
       "      <td>A</td>\n",
       "      <td>BRD_R</td>\n",
       "      <td>AL</td>\n",
       "      <td>2021</td>\n",
       "      <td>68.0</td>\n",
       "      <td>e</td>\n",
       "    </tr>\n",
       "    <tr>\n",
       "      <th>1</th>\n",
       "      <td>ESTAT:URT_D3DENS(1.0)</td>\n",
       "      <td>19/09/2023 23:00</td>\n",
       "      <td>A</td>\n",
       "      <td>BRD_R</td>\n",
       "      <td>AL</td>\n",
       "      <td>2022</td>\n",
       "      <td>66.0</td>\n",
       "      <td>e</td>\n",
       "    </tr>\n",
       "    <tr>\n",
       "      <th>2</th>\n",
       "      <td>ESTAT:URT_D3DENS(1.0)</td>\n",
       "      <td>19/09/2023 23:00</td>\n",
       "      <td>A</td>\n",
       "      <td>BRD_R</td>\n",
       "      <td>AT</td>\n",
       "      <td>2018</td>\n",
       "      <td>121.0</td>\n",
       "      <td>NaN</td>\n",
       "    </tr>\n",
       "    <tr>\n",
       "      <th>3</th>\n",
       "      <td>ESTAT:URT_D3DENS(1.0)</td>\n",
       "      <td>19/09/2023 23:00</td>\n",
       "      <td>A</td>\n",
       "      <td>BRD_R</td>\n",
       "      <td>AT</td>\n",
       "      <td>2019</td>\n",
       "      <td>122.0</td>\n",
       "      <td>NaN</td>\n",
       "    </tr>\n",
       "    <tr>\n",
       "      <th>4</th>\n",
       "      <td>ESTAT:URT_D3DENS(1.0)</td>\n",
       "      <td>19/09/2023 23:00</td>\n",
       "      <td>A</td>\n",
       "      <td>BRD_R</td>\n",
       "      <td>AT</td>\n",
       "      <td>2020</td>\n",
       "      <td>122.0</td>\n",
       "      <td>NaN</td>\n",
       "    </tr>\n",
       "  </tbody>\n",
       "</table>\n",
       "</div>"
      ],
      "text/plain": [
       "                DATAFLOW       LAST UPDATE freq terrtypo geo  TIME_PERIOD  \\\n",
       "0  ESTAT:URT_D3DENS(1.0)  19/09/2023 23:00    A    BRD_R  AL         2021   \n",
       "1  ESTAT:URT_D3DENS(1.0)  19/09/2023 23:00    A    BRD_R  AL         2022   \n",
       "2  ESTAT:URT_D3DENS(1.0)  19/09/2023 23:00    A    BRD_R  AT         2018   \n",
       "3  ESTAT:URT_D3DENS(1.0)  19/09/2023 23:00    A    BRD_R  AT         2019   \n",
       "4  ESTAT:URT_D3DENS(1.0)  19/09/2023 23:00    A    BRD_R  AT         2020   \n",
       "\n",
       "   OBS_VALUE OBS_FLAG  \n",
       "0       68.0        e  \n",
       "1       66.0        e  \n",
       "2      121.0      NaN  \n",
       "3      122.0      NaN  \n",
       "4      122.0      NaN  "
      ]
     },
     "execution_count": 71,
     "metadata": {},
     "output_type": "execute_result"
    }
   ],
   "source": [
    "df = pd.read_csv('density-analyse.csv')\n",
    "df.head()"
   ]
  },
  {
   "cell_type": "markdown",
   "id": "0fcc588d",
   "metadata": {},
   "source": [
    "Abbreviation\tTerritorial typology\n",
    "* URB\t- Predominantly urban regions\n",
    "* INT\t- Intermediate regions\n",
    "* INT_CTC\t- Intermediate regions - close to city\n",
    "* INT_RMT\t- Intermediate regions - remote\n",
    "* RUR\t- Predominantly rural regions\n",
    "* RUR_CTC\t- Predominantly rural regions - close to city\n",
    "* RUR_RMT\t- Predominantly rural regions - remote\n",
    "* CST_R\t- Coastal regions\n",
    "* NCST_R\t- Non-coastal regions\n",
    "* MNT_R\t- Mountain regions\n",
    "* NMNT_R\t- Non-mountain regions\n",
    "* ISL_R\t- Island regions\n",
    "* NISL_R\t- Non-island regions\n",
    "* BRD_R\t- Border regions\n",
    "* NBRD_R\t- Non-border regions\n"
   ]
  },
  {
   "cell_type": "code",
   "execution_count": 110,
   "id": "43966a99",
   "metadata": {
    "scrolled": false
   },
   "outputs": [],
   "source": [
    "# Filter data frame by year leaving only data from 2022 \n",
    "df22 = df[df['TIME_PERIOD'] == 2022]"
   ]
  },
  {
   "cell_type": "code",
   "execution_count": 97,
   "id": "eb9ead07",
   "metadata": {
    "scrolled": true
   },
   "outputs": [],
   "source": [
    "countries = [] # create an empy list\n",
    "\n",
    "for value in df['terrtypo'].unique(): # for every unique value from column terrtypo\n",
    "    dfval = df22[df22['terrtypo'] == value] #filter fata frame by current value from column terrtypo\n",
    "    #sort data frame by column OBS_VALUE and reset indexes in resulting data frame\n",
    "    sorted_df = dfval.sort_values(by='OBS_VALUE').reset_index(drop=True) \n",
    "    #take index of cell with 'IE' value\n",
    "    index_with_ie = sorted_df[sorted_df['geo'] == 'IE'].index\n",
    "\n",
    "    # Get prev and next coutries around IE\n",
    "    if not index_with_ie.empty:\n",
    "        index_ie = index_with_ie[0] \n",
    "\n",
    "        # Retrieve values from rows with index + 1 and index - 1 in column 'geo' if indices exist\n",
    "        if index_ie + 1 in sorted_df.index:\n",
    "            countries.append(sorted_df.at[index_ie + 1, 'geo'])\n",
    "        if index_ie - 1 in sorted_df.index:\n",
    "            countries.append(sorted_df.at[index_ie - 1, 'geo'])\n"
   ]
  },
  {
   "cell_type": "code",
   "execution_count": 111,
   "id": "fca819c7",
   "metadata": {},
   "outputs": [],
   "source": [
    "countries = list(set(countries))"
   ]
  },
  {
   "cell_type": "markdown",
   "id": "d77f1809",
   "metadata": {},
   "source": [
    "### Transport Accessibility"
   ]
  },
  {
   "cell_type": "code",
   "execution_count": 77,
   "id": "cb146d2c",
   "metadata": {
    "scrolled": true
   },
   "outputs": [
    {
     "data": {
      "text/html": [
       "<div>\n",
       "<style scoped>\n",
       "    .dataframe tbody tr th:only-of-type {\n",
       "        vertical-align: middle;\n",
       "    }\n",
       "\n",
       "    .dataframe tbody tr th {\n",
       "        vertical-align: top;\n",
       "    }\n",
       "\n",
       "    .dataframe thead th {\n",
       "        text-align: right;\n",
       "    }\n",
       "</style>\n",
       "<table border=\"1\" class=\"dataframe\">\n",
       "  <thead>\n",
       "    <tr style=\"text-align: right;\">\n",
       "      <th></th>\n",
       "      <th>DATAFLOW</th>\n",
       "      <th>LAST UPDATE</th>\n",
       "      <th>freq</th>\n",
       "      <th>unit</th>\n",
       "      <th>lev_diff</th>\n",
       "      <th>deg_urb</th>\n",
       "      <th>quantile</th>\n",
       "      <th>geo</th>\n",
       "      <th>TIME_PERIOD</th>\n",
       "      <th>OBS_VALUE</th>\n",
       "      <th>OBS_FLAG</th>\n",
       "    </tr>\n",
       "  </thead>\n",
       "  <tbody>\n",
       "    <tr>\n",
       "      <th>0</th>\n",
       "      <td>ESTAT:ILC_HCMP06(1.0)</td>\n",
       "      <td>27/06/2023 23:00</td>\n",
       "      <td>A</td>\n",
       "      <td>PC</td>\n",
       "      <td>HIGH</td>\n",
       "      <td>DEG1</td>\n",
       "      <td>QU1</td>\n",
       "      <td>AT</td>\n",
       "      <td>2012</td>\n",
       "      <td>5.3</td>\n",
       "      <td>NaN</td>\n",
       "    </tr>\n",
       "    <tr>\n",
       "      <th>1</th>\n",
       "      <td>ESTAT:ILC_HCMP06(1.0)</td>\n",
       "      <td>27/06/2023 23:00</td>\n",
       "      <td>A</td>\n",
       "      <td>PC</td>\n",
       "      <td>HIGH</td>\n",
       "      <td>DEG1</td>\n",
       "      <td>QU1</td>\n",
       "      <td>BE</td>\n",
       "      <td>2012</td>\n",
       "      <td>3.5</td>\n",
       "      <td>NaN</td>\n",
       "    </tr>\n",
       "    <tr>\n",
       "      <th>2</th>\n",
       "      <td>ESTAT:ILC_HCMP06(1.0)</td>\n",
       "      <td>27/06/2023 23:00</td>\n",
       "      <td>A</td>\n",
       "      <td>PC</td>\n",
       "      <td>HIGH</td>\n",
       "      <td>DEG1</td>\n",
       "      <td>QU1</td>\n",
       "      <td>BG</td>\n",
       "      <td>2012</td>\n",
       "      <td>23.9</td>\n",
       "      <td>NaN</td>\n",
       "    </tr>\n",
       "    <tr>\n",
       "      <th>3</th>\n",
       "      <td>ESTAT:ILC_HCMP06(1.0)</td>\n",
       "      <td>27/06/2023 23:00</td>\n",
       "      <td>A</td>\n",
       "      <td>PC</td>\n",
       "      <td>HIGH</td>\n",
       "      <td>DEG1</td>\n",
       "      <td>QU1</td>\n",
       "      <td>CH</td>\n",
       "      <td>2012</td>\n",
       "      <td>3.8</td>\n",
       "      <td>NaN</td>\n",
       "    </tr>\n",
       "    <tr>\n",
       "      <th>4</th>\n",
       "      <td>ESTAT:ILC_HCMP06(1.0)</td>\n",
       "      <td>27/06/2023 23:00</td>\n",
       "      <td>A</td>\n",
       "      <td>PC</td>\n",
       "      <td>HIGH</td>\n",
       "      <td>DEG1</td>\n",
       "      <td>QU1</td>\n",
       "      <td>CY</td>\n",
       "      <td>2012</td>\n",
       "      <td>10.9</td>\n",
       "      <td>NaN</td>\n",
       "    </tr>\n",
       "  </tbody>\n",
       "</table>\n",
       "</div>"
      ],
      "text/plain": [
       "                DATAFLOW       LAST UPDATE freq unit lev_diff deg_urb  \\\n",
       "0  ESTAT:ILC_HCMP06(1.0)  27/06/2023 23:00    A   PC     HIGH    DEG1   \n",
       "1  ESTAT:ILC_HCMP06(1.0)  27/06/2023 23:00    A   PC     HIGH    DEG1   \n",
       "2  ESTAT:ILC_HCMP06(1.0)  27/06/2023 23:00    A   PC     HIGH    DEG1   \n",
       "3  ESTAT:ILC_HCMP06(1.0)  27/06/2023 23:00    A   PC     HIGH    DEG1   \n",
       "4  ESTAT:ILC_HCMP06(1.0)  27/06/2023 23:00    A   PC     HIGH    DEG1   \n",
       "\n",
       "  quantile geo  TIME_PERIOD  OBS_VALUE OBS_FLAG  \n",
       "0      QU1  AT         2012        5.3      NaN  \n",
       "1      QU1  BE         2012        3.5      NaN  \n",
       "2      QU1  BG         2012       23.9      NaN  \n",
       "3      QU1  CH         2012        3.8      NaN  \n",
       "4      QU1  CY         2012       10.9      NaN  "
      ]
     },
     "execution_count": 77,
     "metadata": {},
     "output_type": "execute_result"
    }
   ],
   "source": [
    "dfa = pd.read_csv('accessibility.csv')\n",
    "dfa.head()"
   ]
  },
  {
   "cell_type": "markdown",
   "id": "a8cce7f9",
   "metadata": {},
   "source": [
    "* Very high\n",
    "* High\n",
    "* Low\n",
    "* Very low"
   ]
  },
  {
   "cell_type": "code",
   "execution_count": 78,
   "id": "8ca1c65d",
   "metadata": {},
   "outputs": [
    {
     "data": {
      "text/html": [
       "<div>\n",
       "<style scoped>\n",
       "    .dataframe tbody tr th:only-of-type {\n",
       "        vertical-align: middle;\n",
       "    }\n",
       "\n",
       "    .dataframe tbody tr th {\n",
       "        vertical-align: top;\n",
       "    }\n",
       "\n",
       "    .dataframe thead th {\n",
       "        text-align: right;\n",
       "    }\n",
       "</style>\n",
       "<table border=\"1\" class=\"dataframe\">\n",
       "  <thead>\n",
       "    <tr style=\"text-align: right;\">\n",
       "      <th></th>\n",
       "      <th>TIME_PERIOD</th>\n",
       "      <th>OBS_VALUE</th>\n",
       "    </tr>\n",
       "  </thead>\n",
       "  <tbody>\n",
       "    <tr>\n",
       "      <th>count</th>\n",
       "      <td>152.0</td>\n",
       "      <td>152.000000</td>\n",
       "    </tr>\n",
       "    <tr>\n",
       "      <th>mean</th>\n",
       "      <td>2012.0</td>\n",
       "      <td>25.002632</td>\n",
       "    </tr>\n",
       "    <tr>\n",
       "      <th>std</th>\n",
       "      <td>0.0</td>\n",
       "      <td>17.729827</td>\n",
       "    </tr>\n",
       "    <tr>\n",
       "      <th>min</th>\n",
       "      <td>2012.0</td>\n",
       "      <td>2.200000</td>\n",
       "    </tr>\n",
       "    <tr>\n",
       "      <th>25%</th>\n",
       "      <td>2012.0</td>\n",
       "      <td>9.250000</td>\n",
       "    </tr>\n",
       "    <tr>\n",
       "      <th>50%</th>\n",
       "      <td>2012.0</td>\n",
       "      <td>19.400000</td>\n",
       "    </tr>\n",
       "    <tr>\n",
       "      <th>75%</th>\n",
       "      <td>2012.0</td>\n",
       "      <td>41.575000</td>\n",
       "    </tr>\n",
       "    <tr>\n",
       "      <th>max</th>\n",
       "      <td>2012.0</td>\n",
       "      <td>66.900000</td>\n",
       "    </tr>\n",
       "  </tbody>\n",
       "</table>\n",
       "</div>"
      ],
      "text/plain": [
       "       TIME_PERIOD   OBS_VALUE\n",
       "count        152.0  152.000000\n",
       "mean        2012.0   25.002632\n",
       "std            0.0   17.729827\n",
       "min         2012.0    2.200000\n",
       "25%         2012.0    9.250000\n",
       "50%         2012.0   19.400000\n",
       "75%         2012.0   41.575000\n",
       "max         2012.0   66.900000"
      ]
     },
     "execution_count": 78,
     "metadata": {},
     "output_type": "execute_result"
    }
   ],
   "source": [
    "# Filter data frame by year leaving only data from 2012\n",
    "df12 = dfa[(dfa['TIME_PERIOD'] == 2012)&(dfa['deg_urb'] == 'TOTAL')&(dfa['quantile'] == 'TOTAL')]\n",
    "df12.describe()"
   ]
  },
  {
   "cell_type": "code",
   "execution_count": 99,
   "id": "a0384c36",
   "metadata": {},
   "outputs": [],
   "source": [
    "countries1 = []\n",
    "for value in dfa['lev_diff'].unique(): # for every unique value from column terrtypo\n",
    "    dfval = df12[df12['lev_diff'] == value] #filter fata frame by current value from column terrtypo\n",
    "    #sort data frame by column OBS_VALUE and reset indexes in resulting data frame\n",
    "    sorted_df = dfval.sort_values(by='OBS_VALUE').reset_index(drop=True) \n",
    "    #take index of cell with 'IE' value\n",
    "    index_with_ie = sorted_df[sorted_df['geo'] == 'IE'].index\n",
    "\n",
    "    # Get prev and next coutries around IE\n",
    "    if not index_with_ie.empty:\n",
    "        index_ie = index_with_ie[0] \n",
    "\n",
    "        # Retrieve values from rows with index + 1 and index - 1 in column 'geo' if indices exist\n",
    "        if index_ie + 1 in sorted_df.index:\n",
    "            countries1.append(sorted_df.at[index_ie + 1, 'geo'])\n",
    "        if index_ie - 1 in sorted_df.index:\n",
    "            countries1.append(sorted_df.at[index_ie - 1, 'geo'])"
   ]
  },
  {
   "cell_type": "code",
   "execution_count": 100,
   "id": "ef62ca56",
   "metadata": {},
   "outputs": [
    {
     "data": {
      "text/plain": [
       "['BE', 'EL', 'DK', 'EA', 'DE', 'NO', 'FI']"
      ]
     },
     "execution_count": 100,
     "metadata": {},
     "output_type": "execute_result"
    }
   ],
   "source": [
    "countries1 = list(set(countries1))\n",
    "countries1"
   ]
  },
  {
   "cell_type": "markdown",
   "id": "5e8732d0",
   "metadata": {},
   "source": [
    "### Road Safety"
   ]
  },
  {
   "cell_type": "code",
   "execution_count": 101,
   "id": "3a1dad48",
   "metadata": {
    "scrolled": false
   },
   "outputs": [
    {
     "data": {
      "text/html": [
       "<div>\n",
       "<style scoped>\n",
       "    .dataframe tbody tr th:only-of-type {\n",
       "        vertical-align: middle;\n",
       "    }\n",
       "\n",
       "    .dataframe tbody tr th {\n",
       "        vertical-align: top;\n",
       "    }\n",
       "\n",
       "    .dataframe thead th {\n",
       "        text-align: right;\n",
       "    }\n",
       "</style>\n",
       "<table border=\"1\" class=\"dataframe\">\n",
       "  <thead>\n",
       "    <tr style=\"text-align: right;\">\n",
       "      <th></th>\n",
       "      <th>DATAFLOW</th>\n",
       "      <th>LAST UPDATE</th>\n",
       "      <th>freq</th>\n",
       "      <th>unit</th>\n",
       "      <th>sex</th>\n",
       "      <th>geo</th>\n",
       "      <th>TIME_PERIOD</th>\n",
       "      <th>OBS_VALUE</th>\n",
       "      <th>OBS_FLAG</th>\n",
       "    </tr>\n",
       "  </thead>\n",
       "  <tbody>\n",
       "    <tr>\n",
       "      <th>0</th>\n",
       "      <td>ESTAT:TRAN_SF_ROADSE(1.0)</td>\n",
       "      <td>20/06/2023 11:00</td>\n",
       "      <td>A</td>\n",
       "      <td>NR</td>\n",
       "      <td>F</td>\n",
       "      <td>AT</td>\n",
       "      <td>1999</td>\n",
       "      <td>320</td>\n",
       "      <td>NaN</td>\n",
       "    </tr>\n",
       "    <tr>\n",
       "      <th>1</th>\n",
       "      <td>ESTAT:TRAN_SF_ROADSE(1.0)</td>\n",
       "      <td>20/06/2023 11:00</td>\n",
       "      <td>A</td>\n",
       "      <td>NR</td>\n",
       "      <td>F</td>\n",
       "      <td>AT</td>\n",
       "      <td>2000</td>\n",
       "      <td>246</td>\n",
       "      <td>NaN</td>\n",
       "    </tr>\n",
       "    <tr>\n",
       "      <th>2</th>\n",
       "      <td>ESTAT:TRAN_SF_ROADSE(1.0)</td>\n",
       "      <td>20/06/2023 11:00</td>\n",
       "      <td>A</td>\n",
       "      <td>NR</td>\n",
       "      <td>F</td>\n",
       "      <td>AT</td>\n",
       "      <td>2001</td>\n",
       "      <td>251</td>\n",
       "      <td>NaN</td>\n",
       "    </tr>\n",
       "    <tr>\n",
       "      <th>3</th>\n",
       "      <td>ESTAT:TRAN_SF_ROADSE(1.0)</td>\n",
       "      <td>20/06/2023 11:00</td>\n",
       "      <td>A</td>\n",
       "      <td>NR</td>\n",
       "      <td>F</td>\n",
       "      <td>AT</td>\n",
       "      <td>2002</td>\n",
       "      <td>276</td>\n",
       "      <td>NaN</td>\n",
       "    </tr>\n",
       "    <tr>\n",
       "      <th>4</th>\n",
       "      <td>ESTAT:TRAN_SF_ROADSE(1.0)</td>\n",
       "      <td>20/06/2023 11:00</td>\n",
       "      <td>A</td>\n",
       "      <td>NR</td>\n",
       "      <td>F</td>\n",
       "      <td>AT</td>\n",
       "      <td>2003</td>\n",
       "      <td>251</td>\n",
       "      <td>NaN</td>\n",
       "    </tr>\n",
       "  </tbody>\n",
       "</table>\n",
       "</div>"
      ],
      "text/plain": [
       "                    DATAFLOW       LAST UPDATE freq unit sex geo  TIME_PERIOD  \\\n",
       "0  ESTAT:TRAN_SF_ROADSE(1.0)  20/06/2023 11:00    A   NR   F  AT         1999   \n",
       "1  ESTAT:TRAN_SF_ROADSE(1.0)  20/06/2023 11:00    A   NR   F  AT         2000   \n",
       "2  ESTAT:TRAN_SF_ROADSE(1.0)  20/06/2023 11:00    A   NR   F  AT         2001   \n",
       "3  ESTAT:TRAN_SF_ROADSE(1.0)  20/06/2023 11:00    A   NR   F  AT         2002   \n",
       "4  ESTAT:TRAN_SF_ROADSE(1.0)  20/06/2023 11:00    A   NR   F  AT         2003   \n",
       "\n",
       "   OBS_VALUE OBS_FLAG  \n",
       "0        320      NaN  \n",
       "1        246      NaN  \n",
       "2        251      NaN  \n",
       "3        276      NaN  \n",
       "4        251      NaN  "
      ]
     },
     "execution_count": 101,
     "metadata": {},
     "output_type": "execute_result"
    }
   ],
   "source": [
    "dfs = pd.read_csv('safety_road.csv')\n",
    "dfs.head()"
   ]
  },
  {
   "cell_type": "markdown",
   "id": "77f34068",
   "metadata": {},
   "source": [
    "* NR - Number\n",
    "* P_MHAB - Per million inhabitants\n",
    "* Sex - T (Total),\n",
    "        F (Female),\n",
    "        M (Male)"
   ]
  },
  {
   "cell_type": "code",
   "execution_count": 106,
   "id": "02864cd1",
   "metadata": {},
   "outputs": [
    {
     "data": {
      "text/html": [
       "<div>\n",
       "<style scoped>\n",
       "    .dataframe tbody tr th:only-of-type {\n",
       "        vertical-align: middle;\n",
       "    }\n",
       "\n",
       "    .dataframe tbody tr th {\n",
       "        vertical-align: top;\n",
       "    }\n",
       "\n",
       "    .dataframe thead th {\n",
       "        text-align: right;\n",
       "    }\n",
       "</style>\n",
       "<table border=\"1\" class=\"dataframe\">\n",
       "  <thead>\n",
       "    <tr style=\"text-align: right;\">\n",
       "      <th></th>\n",
       "      <th>TIME_PERIOD</th>\n",
       "      <th>OBS_VALUE</th>\n",
       "    </tr>\n",
       "  </thead>\n",
       "  <tbody>\n",
       "    <tr>\n",
       "      <th>count</th>\n",
       "      <td>62.0</td>\n",
       "      <td>62.000000</td>\n",
       "    </tr>\n",
       "    <tr>\n",
       "      <th>mean</th>\n",
       "      <td>2021.0</td>\n",
       "      <td>669.500000</td>\n",
       "    </tr>\n",
       "    <tr>\n",
       "      <th>std</th>\n",
       "      <td>0.0</td>\n",
       "      <td>2578.550525</td>\n",
       "    </tr>\n",
       "    <tr>\n",
       "      <th>min</th>\n",
       "      <td>2021.0</td>\n",
       "      <td>9.000000</td>\n",
       "    </tr>\n",
       "    <tr>\n",
       "      <th>25%</th>\n",
       "      <td>2021.0</td>\n",
       "      <td>41.000000</td>\n",
       "    </tr>\n",
       "    <tr>\n",
       "      <th>50%</th>\n",
       "      <td>2021.0</td>\n",
       "      <td>58.500000</td>\n",
       "    </tr>\n",
       "    <tr>\n",
       "      <th>75%</th>\n",
       "      <td>2021.0</td>\n",
       "      <td>280.750000</td>\n",
       "    </tr>\n",
       "    <tr>\n",
       "      <th>max</th>\n",
       "      <td>2021.0</td>\n",
       "      <td>19917.000000</td>\n",
       "    </tr>\n",
       "  </tbody>\n",
       "</table>\n",
       "</div>"
      ],
      "text/plain": [
       "       TIME_PERIOD     OBS_VALUE\n",
       "count         62.0     62.000000\n",
       "mean        2021.0    669.500000\n",
       "std            0.0   2578.550525\n",
       "min         2021.0      9.000000\n",
       "25%         2021.0     41.000000\n",
       "50%         2021.0     58.500000\n",
       "75%         2021.0    280.750000\n",
       "max         2021.0  19917.000000"
      ]
     },
     "execution_count": 106,
     "metadata": {},
     "output_type": "execute_result"
    }
   ],
   "source": [
    "# Filter data frame by year leaving only data from 2022 \n",
    "df21 = dfs[(dfs['TIME_PERIOD'] == 2021)&(dfs['sex'] == 'T')]\n",
    "df21.describe()"
   ]
  },
  {
   "cell_type": "code",
   "execution_count": 107,
   "id": "1c733119",
   "metadata": {},
   "outputs": [],
   "source": [
    "countries2 = [] \n",
    "\n",
    "for value in dfs['unit'].unique(): # for every unique value from column terrtypo\n",
    "    dfval = df21[df21['unit'] == value] #filter fata frame by current value from column terrtypo\n",
    "    #sort data frame by column OBS_VALUE and reset indexes in resulting data frame\n",
    "    sorted_df = dfval.sort_values(by='OBS_VALUE').reset_index(drop=True) \n",
    "    #take index of cell with 'IE' value\n",
    "    index_with_ie = sorted_df[sorted_df['geo'] == 'IE'].index\n",
    "\n",
    "    # Get prev and next coutries around IE\n",
    "    if not index_with_ie.empty:\n",
    "        index_ie = index_with_ie[0] \n",
    "\n",
    "        # Retrieve values from rows with index + 1 and index - 1 in column 'geo' if indices exist\n",
    "        if index_ie + 1 in sorted_df.index:\n",
    "            countries2.append(sorted_df.at[index_ie + 1, 'geo'])\n",
    "        if index_ie - 1 in sorted_df.index:\n",
    "            countries2.append(sorted_df.at[index_ie - 1, 'geo'])"
   ]
  },
  {
   "cell_type": "code",
   "execution_count": 108,
   "id": "fe3d728c",
   "metadata": {},
   "outputs": [
    {
     "data": {
      "text/plain": [
       "['LV', 'DK', 'NL', 'IS']"
      ]
     },
     "execution_count": 108,
     "metadata": {},
     "output_type": "execute_result"
    }
   ],
   "source": [
    "countries2"
   ]
  },
  {
   "cell_type": "code",
   "execution_count": 109,
   "id": "6543ca69",
   "metadata": {},
   "outputs": [
    {
     "data": {
      "text/plain": [
       "[('DK', 2), ('IS', 2), ('EL', 2), ('NO', 2)]"
      ]
     },
     "execution_count": 109,
     "metadata": {},
     "output_type": "execute_result"
    }
   ],
   "source": [
    "selected_countries = []\n",
    "selected_countries.extend(countries2)\n",
    "selected_countries.extend(countries1)\n",
    "selected_countries.extend(countries)\n",
    "frequency_counter = Counter(selected_countries)\n",
    "top_4 = frequency_counter.most_common(4)\n",
    "top_4"
   ]
  },
  {
   "cell_type": "code",
   "execution_count": 116,
   "id": "1b658d2f",
   "metadata": {},
   "outputs": [
    {
     "data": {
      "text/html": [
       "<div>\n",
       "<style scoped>\n",
       "    .dataframe tbody tr th:only-of-type {\n",
       "        vertical-align: middle;\n",
       "    }\n",
       "\n",
       "    .dataframe tbody tr th {\n",
       "        vertical-align: top;\n",
       "    }\n",
       "\n",
       "    .dataframe thead th {\n",
       "        text-align: right;\n",
       "    }\n",
       "</style>\n",
       "<table border=\"1\" class=\"dataframe\">\n",
       "  <thead>\n",
       "    <tr style=\"text-align: right;\">\n",
       "      <th></th>\n",
       "      <th>geo</th>\n",
       "      <th>OBS_VALUE</th>\n",
       "    </tr>\n",
       "  </thead>\n",
       "  <tbody>\n",
       "    <tr>\n",
       "      <th>8</th>\n",
       "      <td>DK</td>\n",
       "      <td>18812.0</td>\n",
       "    </tr>\n",
       "    <tr>\n",
       "      <th>10</th>\n",
       "      <td>EL</td>\n",
       "      <td>7916.0</td>\n",
       "    </tr>\n",
       "    <tr>\n",
       "      <th>17</th>\n",
       "      <td>IE</td>\n",
       "      <td>10780.0</td>\n",
       "    </tr>\n",
       "    <tr>\n",
       "      <th>18</th>\n",
       "      <td>IS</td>\n",
       "      <td>1206.0</td>\n",
       "    </tr>\n",
       "    <tr>\n",
       "      <th>28</th>\n",
       "      <td>NO</td>\n",
       "      <td>4695.0</td>\n",
       "    </tr>\n",
       "  </tbody>\n",
       "</table>\n",
       "</div>"
      ],
      "text/plain": [
       "   geo  OBS_VALUE\n",
       "8   DK    18812.0\n",
       "10  EL     7916.0\n",
       "17  IE    10780.0\n",
       "18  IS     1206.0\n",
       "28  NO     4695.0"
      ]
     },
     "execution_count": 116,
     "metadata": {},
     "output_type": "execute_result"
    }
   ],
   "source": [
    "df22 = df.groupby('geo')['OBS_VALUE'].sum().reset_index()\n",
    "df22 = df22[(df22['geo'] == 'DK')|(df22['geo'] == 'IS')|(df22['geo'] == 'EL')|(df22['geo'] == 'NO')|(df22['geo'] == 'IE')]\n",
    "df22"
   ]
  },
  {
   "cell_type": "code",
   "execution_count": 119,
   "id": "974aeb42",
   "metadata": {},
   "outputs": [
    {
     "data": {
      "image/png": "[encoded data removed]",
      "text/plain": [
       "<Figure size 800x600 with 1 Axes>"
      ]
     },
     "metadata": {},
     "output_type": "display_data"
    }
   ],
   "source": [
    "import matplotlib.pyplot as plt\n",
    "# Create a bar plot using Matplotlib\n",
    "plt.figure(figsize=(8, 6))\n",
    "plt.bar(df22['geo'], df22['OBS_VALUE'], color='skyblue')\n",
    "\n",
    "# Adding labels and title\n",
    "plt.xlabel('Geo')\n",
    "plt.ylabel('OBS_VALUE')\n",
    "plt.title('Bar Plot of OBS_VALUE by Geo')\n",
    "\n",
    "# Show the plot\n",
    "plt.show()"
   ]
  },
  {
   "cell_type": "code",
   "execution_count": 122,
   "id": "a3e062e8",
   "metadata": {},
   "outputs": [
    {
     "data": {
      "text/html": [
       "<div>\n",
       "<style scoped>\n",
       "    .dataframe tbody tr th:only-of-type {\n",
       "        vertical-align: middle;\n",
       "    }\n",
       "\n",
       "    .dataframe tbody tr th {\n",
       "        vertical-align: top;\n",
       "    }\n",
       "\n",
       "    .dataframe thead th {\n",
       "        text-align: right;\n",
       "    }\n",
       "</style>\n",
       "<table border=\"1\" class=\"dataframe\">\n",
       "  <thead>\n",
       "    <tr style=\"text-align: right;\">\n",
       "      <th></th>\n",
       "      <th>geo</th>\n",
       "      <th>OBS_VALUE</th>\n",
       "    </tr>\n",
       "  </thead>\n",
       "  <tbody>\n",
       "    <tr>\n",
       "      <th>7</th>\n",
       "      <td>DK</td>\n",
       "      <td>2399.7</td>\n",
       "    </tr>\n",
       "    <tr>\n",
       "      <th>13</th>\n",
       "      <td>EL</td>\n",
       "      <td>2399.9</td>\n",
       "    </tr>\n",
       "    <tr>\n",
       "      <th>23</th>\n",
       "      <td>IE</td>\n",
       "      <td>2399.5</td>\n",
       "    </tr>\n",
       "    <tr>\n",
       "      <th>24</th>\n",
       "      <td>IS</td>\n",
       "      <td>1799.6</td>\n",
       "    </tr>\n",
       "    <tr>\n",
       "      <th>31</th>\n",
       "      <td>NO</td>\n",
       "      <td>2400.0</td>\n",
       "    </tr>\n",
       "  </tbody>\n",
       "</table>\n",
       "</div>"
      ],
      "text/plain": [
       "   geo  OBS_VALUE\n",
       "7   DK     2399.7\n",
       "13  EL     2399.9\n",
       "23  IE     2399.5\n",
       "24  IS     1799.6\n",
       "31  NO     2400.0"
      ]
     },
     "execution_count": 122,
     "metadata": {},
     "output_type": "execute_result"
    }
   ],
   "source": [
    "df12 = dfa.groupby('geo')['OBS_VALUE'].sum().reset_index()\n",
    "df12 = df12[(df12['geo'] == 'DK')|(df12['geo'] == 'IS')|(df12['geo'] == 'EL')|(df12['geo'] == 'NO')|(df12['geo'] == 'IE')]\n",
    "df12"
   ]
  },
  {
   "cell_type": "code",
   "execution_count": 123,
   "id": "34df4de3",
   "metadata": {},
   "outputs": [
    {
     "data": {
      "image/png": "[encoded data removed]",
      "text/plain": [
       "<Figure size 800x600 with 1 Axes>"
      ]
     },
     "metadata": {},
     "output_type": "display_data"
    }
   ],
   "source": [
    "import matplotlib.pyplot as plt\n",
    "# Create a bar plot using Matplotlib\n",
    "plt.figure(figsize=(8, 6))\n",
    "plt.bar(df12['geo'], df12['OBS_VALUE'], color='skyblue')\n",
    "\n",
    "# Adding labels and title\n",
    "plt.xlabel('Geo')\n",
    "plt.ylabel('OBS_VALUE')\n",
    "plt.title('Bar Plot of OBS_VALUE by Geo')\n",
    "\n",
    "# Show the plot\n",
    "plt.show()"
   ]
  },
  {
   "cell_type": "code",
   "execution_count": 124,
   "id": "c9982087",
   "metadata": {},
   "outputs": [
    {
     "data": {
      "text/html": [
       "<div>\n",
       "<style scoped>\n",
       "    .dataframe tbody tr th:only-of-type {\n",
       "        vertical-align: middle;\n",
       "    }\n",
       "\n",
       "    .dataframe tbody tr th {\n",
       "        vertical-align: top;\n",
       "    }\n",
       "\n",
       "    .dataframe thead th {\n",
       "        text-align: right;\n",
       "    }\n",
       "</style>\n",
       "<table border=\"1\" class=\"dataframe\">\n",
       "  <thead>\n",
       "    <tr style=\"text-align: right;\">\n",
       "      <th></th>\n",
       "      <th>geo</th>\n",
       "      <th>OBS_VALUE</th>\n",
       "    </tr>\n",
       "  </thead>\n",
       "  <tbody>\n",
       "    <tr>\n",
       "      <th>7</th>\n",
       "      <td>DK</td>\n",
       "      <td>17076</td>\n",
       "    </tr>\n",
       "    <tr>\n",
       "      <th>9</th>\n",
       "      <td>EL</td>\n",
       "      <td>65748</td>\n",
       "    </tr>\n",
       "    <tr>\n",
       "      <th>16</th>\n",
       "      <td>IE</td>\n",
       "      <td>15909</td>\n",
       "    </tr>\n",
       "    <tr>\n",
       "      <th>17</th>\n",
       "      <td>IS</td>\n",
       "      <td>3986</td>\n",
       "    </tr>\n",
       "    <tr>\n",
       "      <th>25</th>\n",
       "      <td>NO</td>\n",
       "      <td>11644</td>\n",
       "    </tr>\n",
       "  </tbody>\n",
       "</table>\n",
       "</div>"
      ],
      "text/plain": [
       "   geo  OBS_VALUE\n",
       "7   DK      17076\n",
       "9   EL      65748\n",
       "16  IE      15909\n",
       "17  IS       3986\n",
       "25  NO      11644"
      ]
     },
     "execution_count": 124,
     "metadata": {},
     "output_type": "execute_result"
    }
   ],
   "source": [
    "df21 = dfs.groupby('geo')['OBS_VALUE'].sum().reset_index()\n",
    "df21 = df21[(df21['geo'] == 'DK')|(df21['geo'] == 'IS')|(df21['geo'] == 'EL')|(df21['geo'] == 'NO')|(df21['geo'] == 'IE')]\n",
    "df21"
   ]
  },
  {
   "cell_type": "code",
   "execution_count": 125,
   "id": "f8b0a99c",
   "metadata": {},
   "outputs": [
    {
     "data": {
      "image/png": "[encoded data removed]",
      "text/plain": [
       "<Figure size 800x600 with 1 Axes>"
      ]
     },
     "metadata": {},
     "output_type": "display_data"
    }
   ],
   "source": [
    "import matplotlib.pyplot as plt\n",
    "# Create a bar plot using Matplotlib\n",
    "plt.figure(figsize=(8, 6))\n",
    "plt.bar(df21['geo'], df21['OBS_VALUE'], color='skyblue')\n",
    "\n",
    "# Adding labels and title\n",
    "plt.xlabel('Geo')\n",
    "plt.ylabel('OBS_VALUE')\n",
    "plt.title('Bar Plot of OBS_VALUE by Geo')\n",
    "\n",
    "# Show the plot\n",
    "plt.show()"
   ]
  },
  {
   "cell_type": "code",
   "execution_count": null,
   "id": "065ff7d3",
   "metadata": {},
   "outputs": [],
   "source": []
  }
 ],
 "metadata": {
  "kernelspec": {
   "display_name": "Python 3 (ipykernel)",
   "language": "python",
   "name": "python3"
  },
  "language_info": {
   "codemirror_mode": {
    "name": "ipython",
    "version": 3
   },
   "file_extension": ".py",
   "mimetype": "text/x-python",
   "name": "python",
   "nbconvert_exporter": "python",
   "pygments_lexer": "ipython3",
   "version": "3.11.4"
  }
 },
 "nbformat": 4,
 "nbformat_minor": 5
}
