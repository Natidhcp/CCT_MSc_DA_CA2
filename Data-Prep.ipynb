{
 "cells": [
  {
   "cell_type": "code",
   "execution_count": 47,
   "id": "b0c0d570",
   "metadata": {},
   "outputs": [],
   "source": [
    "import pandas as pd\n",
    "import os\n",
    "import numpy as np\n",
    "import matplotlib.pyplot as plt\n",
    "%matplotlib inline"
   ]
  },
  {
   "cell_type": "code",
   "execution_count": 48,
   "id": "f5ea1f32",
   "metadata": {},
   "outputs": [],
   "source": [
    "folder_path = 'C:/Users/dmitri.iolchin/1_NAT/CA2/reddit'  # folder path containing Excel files\n",
    "\n",
    "concatenated_df = pd.DataFrame(columns=[\"Author\", \"Date\", \"Votes UP\", \"Votes Down\", \"Score\", \"Message\"])\n",
    "\n",
    "# Iterate through files in the folder\n",
    "for file_name in os.listdir(folder_path):\n",
    "    if file_name.endswith('.xlsx'):  # Process only Excel files\n",
    "        file_path = os.path.join(folder_path, file_name)\n",
    "        \n",
    "        # Read Excel file into a DataFrame\n",
    "        df = pd.read_excel(file_path, header=None)\n",
    "        \n",
    "        # Set the first row as column names\n",
    "        df.columns = df.iloc[6]\n",
    "        df = df.iloc[7:]\n",
    "        df = df.iloc[:,2:-2]\n",
    "        df = df.reset_index(drop=True)\n",
    "        \n",
    "        # Print DataFrame after changing column names (for demonstration)\n",
    "        concatenated_df = pd.concat([concatenated_df, df], ignore_index=True)"
   ]
  },
  {
   "cell_type": "code",
   "execution_count": 49,
   "id": "89f646ca",
   "metadata": {},
   "outputs": [],
   "source": [
    "concatenated_df.to_csv('sentiment.csv', index=False)"
   ]
  },
  {
   "cell_type": "code",
   "execution_count": 50,
   "id": "b5757bed",
   "metadata": {},
   "outputs": [],
   "source": [
    "df = pd.read_csv('sentiment.csv')"
   ]
  },
  {
   "cell_type": "code",
   "execution_count": 51,
   "id": "eb8776d7",
   "metadata": {
    "scrolled": true
   },
   "outputs": [
    {
     "data": {
      "text/html": [
       "<div>\n",
       "<style scoped>\n",
       "    .dataframe tbody tr th:only-of-type {\n",
       "        vertical-align: middle;\n",
       "    }\n",
       "\n",
       "    .dataframe tbody tr th {\n",
       "        vertical-align: top;\n",
       "    }\n",
       "\n",
       "    .dataframe thead th {\n",
       "        text-align: right;\n",
       "    }\n",
       "</style>\n",
       "<table border=\"1\" class=\"dataframe\">\n",
       "  <thead>\n",
       "    <tr style=\"text-align: right;\">\n",
       "      <th></th>\n",
       "      <th>Author</th>\n",
       "      <th>Date</th>\n",
       "      <th>Votes UP</th>\n",
       "      <th>Votes Down</th>\n",
       "      <th>Score</th>\n",
       "      <th>Message</th>\n",
       "    </tr>\n",
       "  </thead>\n",
       "  <tbody>\n",
       "    <tr>\n",
       "      <th>0</th>\n",
       "      <td>MoBhollix</td>\n",
       "      <td>2023-02-01 09:25:24</td>\n",
       "      <td>0</td>\n",
       "      <td>0</td>\n",
       "      <td>0</td>\n",
       "      <td>Is Ireland doing better at public transport th...</td>\n",
       "    </tr>\n",
       "    <tr>\n",
       "      <th>1</th>\n",
       "      <td>MoBhollix</td>\n",
       "      <td>2023-02-01 09:28:17</td>\n",
       "      <td>19</td>\n",
       "      <td>0</td>\n",
       "      <td>19</td>\n",
       "      <td>Our public transport is actually pretty good w...</td>\n",
       "    </tr>\n",
       "    <tr>\n",
       "      <th>2</th>\n",
       "      <td>Ok-Fly5271</td>\n",
       "      <td>2023-02-01 09:30:03</td>\n",
       "      <td>37</td>\n",
       "      <td>0</td>\n",
       "      <td>37</td>\n",
       "      <td>Anyone remember when journalists used to go af...</td>\n",
       "    </tr>\n",
       "    <tr>\n",
       "      <th>3</th>\n",
       "      <td>crlthrn</td>\n",
       "      <td>2023-02-01 09:34:05</td>\n",
       "      <td>16</td>\n",
       "      <td>0</td>\n",
       "      <td>16</td>\n",
       "      <td>Better to compare to countries that have outst...</td>\n",
       "    </tr>\n",
       "    <tr>\n",
       "      <th>4</th>\n",
       "      <td>MoBhollix</td>\n",
       "      <td>2023-02-01 09:39:21</td>\n",
       "      <td>23</td>\n",
       "      <td>0</td>\n",
       "      <td>23</td>\n",
       "      <td>Exactly, this is corporate journalism. This gu...</td>\n",
       "    </tr>\n",
       "  </tbody>\n",
       "</table>\n",
       "</div>"
      ],
      "text/plain": [
       "       Author                 Date  Votes UP  Votes Down  Score  \\\n",
       "0   MoBhollix  2023-02-01 09:25:24         0           0      0   \n",
       "1   MoBhollix  2023-02-01 09:28:17        19           0     19   \n",
       "2  Ok-Fly5271  2023-02-01 09:30:03        37           0     37   \n",
       "3     crlthrn  2023-02-01 09:34:05        16           0     16   \n",
       "4   MoBhollix  2023-02-01 09:39:21        23           0     23   \n",
       "\n",
       "                                             Message  \n",
       "0  Is Ireland doing better at public transport th...  \n",
       "1  Our public transport is actually pretty good w...  \n",
       "2  Anyone remember when journalists used to go af...  \n",
       "3  Better to compare to countries that have outst...  \n",
       "4  Exactly, this is corporate journalism. This gu...  "
      ]
     },
     "execution_count": 51,
     "metadata": {},
     "output_type": "execute_result"
    }
   ],
   "source": [
    "df.head(5)"
   ]
  },
  {
   "cell_type": "code",
   "execution_count": 52,
   "id": "efefa470",
   "metadata": {
    "scrolled": true
   },
   "outputs": [
    {
     "data": {
      "text/plain": [
       "(3290, 6)"
      ]
     },
     "execution_count": 52,
     "metadata": {},
     "output_type": "execute_result"
    }
   ],
   "source": [
    "df.shape"
   ]
  },
  {
   "cell_type": "code",
   "execution_count": 53,
   "id": "66888828",
   "metadata": {},
   "outputs": [],
   "source": [
    "df['word_count'] = df['Message'].apply(lambda x: len(str(x).split(\" \")))"
   ]
  },
  {
   "cell_type": "code",
   "execution_count": 54,
   "id": "979b835e",
   "metadata": {},
   "outputs": [
    {
     "data": {
      "text/html": [
       "<div>\n",
       "<style scoped>\n",
       "    .dataframe tbody tr th:only-of-type {\n",
       "        vertical-align: middle;\n",
       "    }\n",
       "\n",
       "    .dataframe tbody tr th {\n",
       "        vertical-align: top;\n",
       "    }\n",
       "\n",
       "    .dataframe thead th {\n",
       "        text-align: right;\n",
       "    }\n",
       "</style>\n",
       "<table border=\"1\" class=\"dataframe\">\n",
       "  <thead>\n",
       "    <tr style=\"text-align: right;\">\n",
       "      <th></th>\n",
       "      <th>Message</th>\n",
       "      <th>word_count</th>\n",
       "    </tr>\n",
       "  </thead>\n",
       "  <tbody>\n",
       "    <tr>\n",
       "      <th>0</th>\n",
       "      <td>Is Ireland doing better at public transport th...</td>\n",
       "      <td>10</td>\n",
       "    </tr>\n",
       "    <tr>\n",
       "      <th>1</th>\n",
       "      <td>Our public transport is actually pretty good w...</td>\n",
       "      <td>35</td>\n",
       "    </tr>\n",
       "    <tr>\n",
       "      <th>2</th>\n",
       "      <td>Anyone remember when journalists used to go af...</td>\n",
       "      <td>18</td>\n",
       "    </tr>\n",
       "    <tr>\n",
       "      <th>3</th>\n",
       "      <td>Better to compare to countries that have outst...</td>\n",
       "      <td>35</td>\n",
       "    </tr>\n",
       "    <tr>\n",
       "      <th>4</th>\n",
       "      <td>Exactly, this is corporate journalism. This gu...</td>\n",
       "      <td>43</td>\n",
       "    </tr>\n",
       "  </tbody>\n",
       "</table>\n",
       "</div>"
      ],
      "text/plain": [
       "                                             Message  word_count\n",
       "0  Is Ireland doing better at public transport th...          10\n",
       "1  Our public transport is actually pretty good w...          35\n",
       "2  Anyone remember when journalists used to go af...          18\n",
       "3  Better to compare to countries that have outst...          35\n",
       "4  Exactly, this is corporate journalism. This gu...          43"
      ]
     },
     "execution_count": 54,
     "metadata": {},
     "output_type": "execute_result"
    }
   ],
   "source": [
    "df[['Message','word_count']].head()"
   ]
  },
  {
   "cell_type": "code",
   "execution_count": 55,
   "id": "0b565e53",
   "metadata": {},
   "outputs": [],
   "source": [
    "df['char_count'] = df['Message'].str.len() "
   ]
  },
  {
   "cell_type": "code",
   "execution_count": 56,
   "id": "7ce53553",
   "metadata": {},
   "outputs": [
    {
     "data": {
      "text/html": [
       "<div>\n",
       "<style scoped>\n",
       "    .dataframe tbody tr th:only-of-type {\n",
       "        vertical-align: middle;\n",
       "    }\n",
       "\n",
       "    .dataframe tbody tr th {\n",
       "        vertical-align: top;\n",
       "    }\n",
       "\n",
       "    .dataframe thead th {\n",
       "        text-align: right;\n",
       "    }\n",
       "</style>\n",
       "<table border=\"1\" class=\"dataframe\">\n",
       "  <thead>\n",
       "    <tr style=\"text-align: right;\">\n",
       "      <th></th>\n",
       "      <th>Message</th>\n",
       "      <th>char_count</th>\n",
       "    </tr>\n",
       "  </thead>\n",
       "  <tbody>\n",
       "    <tr>\n",
       "      <th>0</th>\n",
       "      <td>Is Ireland doing better at public transport th...</td>\n",
       "      <td>60</td>\n",
       "    </tr>\n",
       "    <tr>\n",
       "      <th>1</th>\n",
       "      <td>Our public transport is actually pretty good w...</td>\n",
       "      <td>169</td>\n",
       "    </tr>\n",
       "    <tr>\n",
       "      <th>2</th>\n",
       "      <td>Anyone remember when journalists used to go af...</td>\n",
       "      <td>110</td>\n",
       "    </tr>\n",
       "    <tr>\n",
       "      <th>3</th>\n",
       "      <td>Better to compare to countries that have outst...</td>\n",
       "      <td>210</td>\n",
       "    </tr>\n",
       "    <tr>\n",
       "      <th>4</th>\n",
       "      <td>Exactly, this is corporate journalism. This gu...</td>\n",
       "      <td>245</td>\n",
       "    </tr>\n",
       "  </tbody>\n",
       "</table>\n",
       "</div>"
      ],
      "text/plain": [
       "                                             Message  char_count\n",
       "0  Is Ireland doing better at public transport th...          60\n",
       "1  Our public transport is actually pretty good w...         169\n",
       "2  Anyone remember when journalists used to go af...         110\n",
       "3  Better to compare to countries that have outst...         210\n",
       "4  Exactly, this is corporate journalism. This gu...         245"
      ]
     },
     "execution_count": 56,
     "metadata": {},
     "output_type": "execute_result"
    }
   ],
   "source": [
    "## this also includes spaces\n",
    "df[['Message','char_count']].head()"
   ]
  },
  {
   "cell_type": "code",
   "execution_count": 57,
   "id": "67d8aa4a",
   "metadata": {},
   "outputs": [
    {
     "data": {
      "text/html": [
       "<div>\n",
       "<style scoped>\n",
       "    .dataframe tbody tr th:only-of-type {\n",
       "        vertical-align: middle;\n",
       "    }\n",
       "\n",
       "    .dataframe tbody tr th {\n",
       "        vertical-align: top;\n",
       "    }\n",
       "\n",
       "    .dataframe thead th {\n",
       "        text-align: right;\n",
       "    }\n",
       "</style>\n",
       "<table border=\"1\" class=\"dataframe\">\n",
       "  <thead>\n",
       "    <tr style=\"text-align: right;\">\n",
       "      <th></th>\n",
       "      <th>Author</th>\n",
       "      <th>Date</th>\n",
       "      <th>Votes UP</th>\n",
       "      <th>Votes Down</th>\n",
       "      <th>Score</th>\n",
       "      <th>Message</th>\n",
       "      <th>word_count</th>\n",
       "      <th>char_count</th>\n",
       "    </tr>\n",
       "  </thead>\n",
       "  <tbody>\n",
       "    <tr>\n",
       "      <th>0</th>\n",
       "      <td>MoBhollix</td>\n",
       "      <td>2023-02-01 09:25:24</td>\n",
       "      <td>0</td>\n",
       "      <td>0</td>\n",
       "      <td>0</td>\n",
       "      <td>Is Ireland doing better at public transport th...</td>\n",
       "      <td>10</td>\n",
       "      <td>60</td>\n",
       "    </tr>\n",
       "    <tr>\n",
       "      <th>1</th>\n",
       "      <td>MoBhollix</td>\n",
       "      <td>2023-02-01 09:28:17</td>\n",
       "      <td>19</td>\n",
       "      <td>0</td>\n",
       "      <td>19</td>\n",
       "      <td>Our public transport is actually pretty good w...</td>\n",
       "      <td>35</td>\n",
       "      <td>169</td>\n",
       "    </tr>\n",
       "    <tr>\n",
       "      <th>2</th>\n",
       "      <td>Ok-Fly5271</td>\n",
       "      <td>2023-02-01 09:30:03</td>\n",
       "      <td>37</td>\n",
       "      <td>0</td>\n",
       "      <td>37</td>\n",
       "      <td>Anyone remember when journalists used to go af...</td>\n",
       "      <td>18</td>\n",
       "      <td>110</td>\n",
       "    </tr>\n",
       "    <tr>\n",
       "      <th>3</th>\n",
       "      <td>crlthrn</td>\n",
       "      <td>2023-02-01 09:34:05</td>\n",
       "      <td>16</td>\n",
       "      <td>0</td>\n",
       "      <td>16</td>\n",
       "      <td>Better to compare to countries that have outst...</td>\n",
       "      <td>35</td>\n",
       "      <td>210</td>\n",
       "    </tr>\n",
       "    <tr>\n",
       "      <th>4</th>\n",
       "      <td>MoBhollix</td>\n",
       "      <td>2023-02-01 09:39:21</td>\n",
       "      <td>23</td>\n",
       "      <td>0</td>\n",
       "      <td>23</td>\n",
       "      <td>Exactly, this is corporate journalism. This gu...</td>\n",
       "      <td>43</td>\n",
       "      <td>245</td>\n",
       "    </tr>\n",
       "  </tbody>\n",
       "</table>\n",
       "</div>"
      ],
      "text/plain": [
       "       Author                 Date  Votes UP  Votes Down  Score  \\\n",
       "0   MoBhollix  2023-02-01 09:25:24         0           0      0   \n",
       "1   MoBhollix  2023-02-01 09:28:17        19           0     19   \n",
       "2  Ok-Fly5271  2023-02-01 09:30:03        37           0     37   \n",
       "3     crlthrn  2023-02-01 09:34:05        16           0     16   \n",
       "4   MoBhollix  2023-02-01 09:39:21        23           0     23   \n",
       "\n",
       "                                             Message  word_count  char_count  \n",
       "0  Is Ireland doing better at public transport th...          10          60  \n",
       "1  Our public transport is actually pretty good w...          35         169  \n",
       "2  Anyone remember when journalists used to go af...          18         110  \n",
       "3  Better to compare to countries that have outst...          35         210  \n",
       "4  Exactly, this is corporate journalism. This gu...          43         245  "
      ]
     },
     "execution_count": 57,
     "metadata": {},
     "output_type": "execute_result"
    }
   ],
   "source": [
    "df.head(5)"
   ]
  },
  {
   "cell_type": "code",
   "execution_count": 58,
   "id": "f0e18b84",
   "metadata": {},
   "outputs": [],
   "source": [
    "def avg_word(sentence):\n",
    "  words = sentence.split()\n",
    "  return (sum(len(word) for word in words)/len(words))"
   ]
  },
  {
   "cell_type": "code",
   "execution_count": 59,
   "id": "c461cefe",
   "metadata": {},
   "outputs": [],
   "source": [
    "df['Message'] = df['Message'].astype(str)"
   ]
  },
  {
   "cell_type": "code",
   "execution_count": 60,
   "id": "f2b52e93",
   "metadata": {},
   "outputs": [],
   "source": [
    "df['avg_word'] = df['Message'].apply(lambda x: avg_word(x))"
   ]
  },
  {
   "cell_type": "code",
   "execution_count": 61,
   "id": "183150e4",
   "metadata": {},
   "outputs": [
    {
     "data": {
      "text/html": [
       "<div>\n",
       "<style scoped>\n",
       "    .dataframe tbody tr th:only-of-type {\n",
       "        vertical-align: middle;\n",
       "    }\n",
       "\n",
       "    .dataframe tbody tr th {\n",
       "        vertical-align: top;\n",
       "    }\n",
       "\n",
       "    .dataframe thead th {\n",
       "        text-align: right;\n",
       "    }\n",
       "</style>\n",
       "<table border=\"1\" class=\"dataframe\">\n",
       "  <thead>\n",
       "    <tr style=\"text-align: right;\">\n",
       "      <th></th>\n",
       "      <th>Message</th>\n",
       "      <th>avg_word</th>\n",
       "    </tr>\n",
       "  </thead>\n",
       "  <tbody>\n",
       "    <tr>\n",
       "      <th>0</th>\n",
       "      <td>Is Ireland doing better at public transport th...</td>\n",
       "      <td>5.100000</td>\n",
       "    </tr>\n",
       "    <tr>\n",
       "      <th>1</th>\n",
       "      <td>Our public transport is actually pretty good w...</td>\n",
       "      <td>3.857143</td>\n",
       "    </tr>\n",
       "    <tr>\n",
       "      <th>2</th>\n",
       "      <td>Anyone remember when journalists used to go af...</td>\n",
       "      <td>5.166667</td>\n",
       "    </tr>\n",
       "    <tr>\n",
       "      <th>3</th>\n",
       "      <td>Better to compare to countries that have outst...</td>\n",
       "      <td>5.176471</td>\n",
       "    </tr>\n",
       "    <tr>\n",
       "      <th>4</th>\n",
       "      <td>Exactly, this is corporate journalism. This gu...</td>\n",
       "      <td>4.720930</td>\n",
       "    </tr>\n",
       "  </tbody>\n",
       "</table>\n",
       "</div>"
      ],
      "text/plain": [
       "                                             Message  avg_word\n",
       "0  Is Ireland doing better at public transport th...  5.100000\n",
       "1  Our public transport is actually pretty good w...  3.857143\n",
       "2  Anyone remember when journalists used to go af...  5.166667\n",
       "3  Better to compare to countries that have outst...  5.176471\n",
       "4  Exactly, this is corporate journalism. This gu...  4.720930"
      ]
     },
     "execution_count": 61,
     "metadata": {},
     "output_type": "execute_result"
    }
   ],
   "source": [
    "df[['Message','avg_word']].head()"
   ]
  },
  {
   "cell_type": "code",
   "execution_count": 62,
   "id": "debc5a30",
   "metadata": {},
   "outputs": [
    {
     "name": "stderr",
     "output_type": "stream",
     "text": [
      "[nltk_data] Downloading package stopwords to\n",
      "[nltk_data]     C:\\Users\\dmitri.iolchin\\AppData\\Roaming\\nltk_data...\n",
      "[nltk_data]   Package stopwords is already up-to-date!\n"
     ]
    },
    {
     "data": {
      "text/plain": [
       "True"
      ]
     },
     "execution_count": 62,
     "metadata": {},
     "output_type": "execute_result"
    }
   ],
   "source": [
    "import nltk\n",
    "nltk.download('stopwords')"
   ]
  },
  {
   "cell_type": "code",
   "execution_count": 63,
   "id": "d22ead1f",
   "metadata": {},
   "outputs": [],
   "source": [
    "from nltk.corpus import stopwords\n",
    "stop = stopwords.words('english')"
   ]
  },
  {
   "cell_type": "code",
   "execution_count": 64,
   "id": "73854bad",
   "metadata": {},
   "outputs": [
    {
     "data": {
      "text/html": [
       "<div>\n",
       "<style scoped>\n",
       "    .dataframe tbody tr th:only-of-type {\n",
       "        vertical-align: middle;\n",
       "    }\n",
       "\n",
       "    .dataframe tbody tr th {\n",
       "        vertical-align: top;\n",
       "    }\n",
       "\n",
       "    .dataframe thead th {\n",
       "        text-align: right;\n",
       "    }\n",
       "</style>\n",
       "<table border=\"1\" class=\"dataframe\">\n",
       "  <thead>\n",
       "    <tr style=\"text-align: right;\">\n",
       "      <th></th>\n",
       "      <th>Message</th>\n",
       "      <th>stopwords</th>\n",
       "    </tr>\n",
       "  </thead>\n",
       "  <tbody>\n",
       "    <tr>\n",
       "      <th>0</th>\n",
       "      <td>Is Ireland doing better at public transport th...</td>\n",
       "      <td>4</td>\n",
       "    </tr>\n",
       "    <tr>\n",
       "      <th>1</th>\n",
       "      <td>Our public transport is actually pretty good w...</td>\n",
       "      <td>17</td>\n",
       "    </tr>\n",
       "    <tr>\n",
       "      <th>2</th>\n",
       "      <td>Anyone remember when journalists used to go af...</td>\n",
       "      <td>8</td>\n",
       "    </tr>\n",
       "    <tr>\n",
       "      <th>3</th>\n",
       "      <td>Better to compare to countries that have outst...</td>\n",
       "      <td>12</td>\n",
       "    </tr>\n",
       "    <tr>\n",
       "      <th>4</th>\n",
       "      <td>Exactly, this is corporate journalism. This gu...</td>\n",
       "      <td>22</td>\n",
       "    </tr>\n",
       "  </tbody>\n",
       "</table>\n",
       "</div>"
      ],
      "text/plain": [
       "                                             Message  stopwords\n",
       "0  Is Ireland doing better at public transport th...          4\n",
       "1  Our public transport is actually pretty good w...         17\n",
       "2  Anyone remember when journalists used to go af...          8\n",
       "3  Better to compare to countries that have outst...         12\n",
       "4  Exactly, this is corporate journalism. This gu...         22"
      ]
     },
     "execution_count": 64,
     "metadata": {},
     "output_type": "execute_result"
    }
   ],
   "source": [
    "df['stopwords'] = df['Message'].apply(lambda x: len([x for x in x.split() if x in stop]))\n",
    "df[['Message','stopwords']].head()"
   ]
  },
  {
   "cell_type": "code",
   "execution_count": 65,
   "id": "b058f36b",
   "metadata": {
    "scrolled": true
   },
   "outputs": [
    {
     "data": {
      "text/html": [
       "<div>\n",
       "<style scoped>\n",
       "    .dataframe tbody tr th:only-of-type {\n",
       "        vertical-align: middle;\n",
       "    }\n",
       "\n",
       "    .dataframe tbody tr th {\n",
       "        vertical-align: top;\n",
       "    }\n",
       "\n",
       "    .dataframe thead th {\n",
       "        text-align: right;\n",
       "    }\n",
       "</style>\n",
       "<table border=\"1\" class=\"dataframe\">\n",
       "  <thead>\n",
       "    <tr style=\"text-align: right;\">\n",
       "      <th></th>\n",
       "      <th>Message</th>\n",
       "      <th>hastags</th>\n",
       "    </tr>\n",
       "  </thead>\n",
       "  <tbody>\n",
       "    <tr>\n",
       "      <th>0</th>\n",
       "      <td>Is Ireland doing better at public transport th...</td>\n",
       "      <td>0</td>\n",
       "    </tr>\n",
       "    <tr>\n",
       "      <th>1</th>\n",
       "      <td>Our public transport is actually pretty good w...</td>\n",
       "      <td>0</td>\n",
       "    </tr>\n",
       "    <tr>\n",
       "      <th>2</th>\n",
       "      <td>Anyone remember when journalists used to go af...</td>\n",
       "      <td>0</td>\n",
       "    </tr>\n",
       "    <tr>\n",
       "      <th>3</th>\n",
       "      <td>Better to compare to countries that have outst...</td>\n",
       "      <td>0</td>\n",
       "    </tr>\n",
       "    <tr>\n",
       "      <th>4</th>\n",
       "      <td>Exactly, this is corporate journalism. This gu...</td>\n",
       "      <td>0</td>\n",
       "    </tr>\n",
       "  </tbody>\n",
       "</table>\n",
       "</div>"
      ],
      "text/plain": [
       "                                             Message  hastags\n",
       "0  Is Ireland doing better at public transport th...        0\n",
       "1  Our public transport is actually pretty good w...        0\n",
       "2  Anyone remember when journalists used to go af...        0\n",
       "3  Better to compare to countries that have outst...        0\n",
       "4  Exactly, this is corporate journalism. This gu...        0"
      ]
     },
     "execution_count": 65,
     "metadata": {},
     "output_type": "execute_result"
    }
   ],
   "source": [
    "df['hastags'] = df['Message'].apply(lambda x: len([x for x in x.split() if x.startswith('#')]))\n",
    "df[['Message','hastags']].head()"
   ]
  },
  {
   "cell_type": "code",
   "execution_count": 66,
   "id": "2985aada",
   "metadata": {},
   "outputs": [
    {
     "data": {
      "text/html": [
       "<div>\n",
       "<style scoped>\n",
       "    .dataframe tbody tr th:only-of-type {\n",
       "        vertical-align: middle;\n",
       "    }\n",
       "\n",
       "    .dataframe tbody tr th {\n",
       "        vertical-align: top;\n",
       "    }\n",
       "\n",
       "    .dataframe thead th {\n",
       "        text-align: right;\n",
       "    }\n",
       "</style>\n",
       "<table border=\"1\" class=\"dataframe\">\n",
       "  <thead>\n",
       "    <tr style=\"text-align: right;\">\n",
       "      <th></th>\n",
       "      <th>Message</th>\n",
       "      <th>numerics</th>\n",
       "    </tr>\n",
       "  </thead>\n",
       "  <tbody>\n",
       "    <tr>\n",
       "      <th>0</th>\n",
       "      <td>Is Ireland doing better at public transport th...</td>\n",
       "      <td>0</td>\n",
       "    </tr>\n",
       "    <tr>\n",
       "      <th>1</th>\n",
       "      <td>Our public transport is actually pretty good w...</td>\n",
       "      <td>0</td>\n",
       "    </tr>\n",
       "    <tr>\n",
       "      <th>2</th>\n",
       "      <td>Anyone remember when journalists used to go af...</td>\n",
       "      <td>0</td>\n",
       "    </tr>\n",
       "    <tr>\n",
       "      <th>3</th>\n",
       "      <td>Better to compare to countries that have outst...</td>\n",
       "      <td>0</td>\n",
       "    </tr>\n",
       "    <tr>\n",
       "      <th>4</th>\n",
       "      <td>Exactly, this is corporate journalism. This gu...</td>\n",
       "      <td>0</td>\n",
       "    </tr>\n",
       "  </tbody>\n",
       "</table>\n",
       "</div>"
      ],
      "text/plain": [
       "                                             Message  numerics\n",
       "0  Is Ireland doing better at public transport th...         0\n",
       "1  Our public transport is actually pretty good w...         0\n",
       "2  Anyone remember when journalists used to go af...         0\n",
       "3  Better to compare to countries that have outst...         0\n",
       "4  Exactly, this is corporate journalism. This gu...         0"
      ]
     },
     "execution_count": 66,
     "metadata": {},
     "output_type": "execute_result"
    }
   ],
   "source": [
    "df['numerics'] = df['Message'].apply(lambda x: len([x for x in x.split() if x.isdigit()]))\n",
    "df[['Message','numerics']].head()"
   ]
  },
  {
   "cell_type": "code",
   "execution_count": 67,
   "id": "7818cead",
   "metadata": {},
   "outputs": [
    {
     "data": {
      "text/html": [
       "<div>\n",
       "<style scoped>\n",
       "    .dataframe tbody tr th:only-of-type {\n",
       "        vertical-align: middle;\n",
       "    }\n",
       "\n",
       "    .dataframe tbody tr th {\n",
       "        vertical-align: top;\n",
       "    }\n",
       "\n",
       "    .dataframe thead th {\n",
       "        text-align: right;\n",
       "    }\n",
       "</style>\n",
       "<table border=\"1\" class=\"dataframe\">\n",
       "  <thead>\n",
       "    <tr style=\"text-align: right;\">\n",
       "      <th></th>\n",
       "      <th>Message</th>\n",
       "      <th>upper</th>\n",
       "    </tr>\n",
       "  </thead>\n",
       "  <tbody>\n",
       "    <tr>\n",
       "      <th>0</th>\n",
       "      <td>Is Ireland doing better at public transport th...</td>\n",
       "      <td>0</td>\n",
       "    </tr>\n",
       "    <tr>\n",
       "      <th>1</th>\n",
       "      <td>Our public transport is actually pretty good w...</td>\n",
       "      <td>1</td>\n",
       "    </tr>\n",
       "    <tr>\n",
       "      <th>2</th>\n",
       "      <td>Anyone remember when journalists used to go af...</td>\n",
       "      <td>0</td>\n",
       "    </tr>\n",
       "    <tr>\n",
       "      <th>3</th>\n",
       "      <td>Better to compare to countries that have outst...</td>\n",
       "      <td>1</td>\n",
       "    </tr>\n",
       "    <tr>\n",
       "      <th>4</th>\n",
       "      <td>Exactly, this is corporate journalism. This gu...</td>\n",
       "      <td>0</td>\n",
       "    </tr>\n",
       "  </tbody>\n",
       "</table>\n",
       "</div>"
      ],
      "text/plain": [
       "                                             Message  upper\n",
       "0  Is Ireland doing better at public transport th...      0\n",
       "1  Our public transport is actually pretty good w...      1\n",
       "2  Anyone remember when journalists used to go af...      0\n",
       "3  Better to compare to countries that have outst...      1\n",
       "4  Exactly, this is corporate journalism. This gu...      0"
      ]
     },
     "execution_count": 67,
     "metadata": {},
     "output_type": "execute_result"
    }
   ],
   "source": [
    "df['upper'] = df['Message'].apply(lambda x: len([x for x in x.split() if x.isupper()]))\n",
    "df[['Message','upper']].head()"
   ]
  },
  {
   "cell_type": "code",
   "execution_count": 68,
   "id": "287ffbe4",
   "metadata": {},
   "outputs": [
    {
     "data": {
      "text/plain": [
       "0    is ireland doing better at public transport th...\n",
       "1    our public transport is actually pretty good w...\n",
       "2    anyone remember when journalists used to go af...\n",
       "3    better to compare to countries that have outst...\n",
       "4    exactly, this is corporate journalism. this gu...\n",
       "Name: Message, dtype: object"
      ]
     },
     "execution_count": 68,
     "metadata": {},
     "output_type": "execute_result"
    }
   ],
   "source": [
    "df['Message'] = df['Message'].apply(lambda x: \" \".join(x.lower() for x in x.split()))\n",
    "df['Message'].head()"
   ]
  },
  {
   "cell_type": "code",
   "execution_count": 69,
   "id": "577ea4c4",
   "metadata": {},
   "outputs": [
    {
     "data": {
      "text/plain": [
       "0    is ireland doing better at public transport th...\n",
       "1    our public transport is actually pretty good w...\n",
       "2    anyone remember when journalists used to go af...\n",
       "3    better to compare to countries that have outst...\n",
       "4    exactly, this is corporate journalism. this gu...\n",
       "Name: Message, dtype: object"
      ]
     },
     "execution_count": 69,
     "metadata": {},
     "output_type": "execute_result"
    }
   ],
   "source": [
    "df['Message'] = df['Message'].str.replace('[^\\w\\s]','')\n",
    "df['Message'].head()"
   ]
  },
  {
   "cell_type": "code",
   "execution_count": 70,
   "id": "78c4bf84",
   "metadata": {},
   "outputs": [
    {
     "data": {
      "text/plain": [
       "0             ireland better public transport thought?\n",
       "1    public transport actually pretty good compare ...\n",
       "2    anyone remember journalists used go government...\n",
       "3    better compare countries outstanding systems. ...\n",
       "4    exactly, corporate journalism. guy reason, he'...\n",
       "Name: Message, dtype: object"
      ]
     },
     "execution_count": 70,
     "metadata": {},
     "output_type": "execute_result"
    }
   ],
   "source": [
    "from nltk.corpus import stopwords\n",
    "stop = stopwords.words('english')\n",
    "df['Message'] = df['Message'].apply(lambda x: \" \".join(x for x in x.split() if x not in stop))\n",
    "df['Message'].head()"
   ]
  },
  {
   "cell_type": "code",
   "execution_count": 71,
   "id": "eea400eb",
   "metadata": {},
   "outputs": [
    {
     "data": {
      "text/plain": [
       "bus          1136\n",
       "public        899\n",
       "transport     847\n",
       "get           687\n",
       "people        622\n",
       "dublin        592\n",
       "would         575\n",
       "one           373\n",
       "like          361\n",
       "city          350\n",
       "Name: count, dtype: int64"
      ]
     },
     "execution_count": 71,
     "metadata": {},
     "output_type": "execute_result"
    }
   ],
   "source": [
    "freq = pd.Series(' '.join(df['Message']).split()).value_counts()[:10]\n",
    "freq"
   ]
  },
  {
   "cell_type": "code",
   "execution_count": 72,
   "id": "132feb47",
   "metadata": {},
   "outputs": [
    {
     "data": {
      "text/plain": [
       "0                              ireland better thought?\n",
       "1    actually pretty good compare us south east asi...\n",
       "2    anyone remember journalists used go government...\n",
       "3    better compare countries outstanding systems. ...\n",
       "4    exactly, corporate journalism. guy reason, he'...\n",
       "Name: Message, dtype: object"
      ]
     },
     "execution_count": 72,
     "metadata": {},
     "output_type": "execute_result"
    }
   ],
   "source": [
    "freq = list(freq.index)\n",
    "df['Message'] = df['Message'].apply(lambda x: \" \".join(x for x in x.split() if x not in freq))\n",
    "df['Message'].head()"
   ]
  },
  {
   "cell_type": "code",
   "execution_count": 73,
   "id": "58a5b01b",
   "metadata": {},
   "outputs": [
    {
     "data": {
      "text/plain": [
       "(leap           1\n",
       "expat.          1\n",
       "ludicrous       1\n",
       "21th            1\n",
       "memo            1\n",
       "besides.        1\n",
       "boarding,       1\n",
       "braking.        1\n",
       "regenerative    1\n",
       "da              1\n",
       "Name: count, dtype: int64"
      ]
     },
     "execution_count": 73,
     "metadata": {},
     "output_type": "execute_result"
    }
   ],
   "source": [
    "freq = pd.Series(' '.join(df['Message']).split()).value_counts()[-10:]\n",
    "freq"
   ]
  },
  {
   "cell_type": "code",
   "execution_count": 74,
   "id": "6f41513b",
   "metadata": {
    "scrolled": true
   },
   "outputs": [
    {
     "data": {
      "text/plain": [
       "0                              ireland better thought?\n",
       "1    actually pretty good compare us south east asi...\n",
       "2    anyone remember journalists used go government...\n",
       "3    better compare countries outstanding systems. ...\n",
       "4    exactly, corporate journalism. guy reason, he'...\n",
       "Name: Message, dtype: object"
      ]
     },
     "execution_count": 74,
     "metadata": {},
     "output_type": "execute_result"
    }
   ],
   "source": [
    "freq = list(freq.index)\n",
    "df['Message'] = df['Message'].apply(lambda x: \" \".join(x for x in x.split() if x not in freq))\n",
    "df['Message'].head()"
   ]
  },
  {
   "cell_type": "code",
   "execution_count": 75,
   "id": "ecb72ccc",
   "metadata": {},
   "outputs": [
    {
     "data": {
      "text/plain": [
       "0                              ireland better thought?\n",
       "1    actually pretty good compare us south east asi...\n",
       "2    anyone remember journalists used go government...\n",
       "3    better compare countries outstanding systems. ...\n",
       "4    exactly, corporate journalism. guy reason, he'...\n",
       "Name: Message, dtype: object"
      ]
     },
     "execution_count": 75,
     "metadata": {},
     "output_type": "execute_result"
    }
   ],
   "source": [
    "from textblob import TextBlob\n",
    "df['Message'][:5].apply(lambda x: str(TextBlob(x).correct()))"
   ]
  },
  {
   "cell_type": "code",
   "execution_count": 76,
   "id": "380e2bfb",
   "metadata": {
    "scrolled": true
   },
   "outputs": [
    {
     "name": "stderr",
     "output_type": "stream",
     "text": [
      "[nltk_data] Downloading package punkt to\n",
      "[nltk_data]     C:\\Users\\dmitri.iolchin\\AppData\\Roaming\\nltk_data...\n",
      "[nltk_data]   Package punkt is already up-to-date!\n"
     ]
    },
    {
     "data": {
      "text/plain": [
       "WordList(['actually', 'pretty', 'good', 'compare', 'us', 'south', 'east', 'asia', 'says', 'lad', 'flew', 'weekend', 'got', 'taxi', 'airport'])"
      ]
     },
     "execution_count": 76,
     "metadata": {},
     "output_type": "execute_result"
    }
   ],
   "source": [
    "nltk.download('punkt')\n",
    "TextBlob(df['Message'][1]).words"
   ]
  },
  {
   "cell_type": "code",
   "execution_count": 77,
   "id": "13f0407e",
   "metadata": {},
   "outputs": [
    {
     "data": {
      "text/plain": [
       "0                              ireland better thought?\n",
       "1    actual pretti good compar us south east asia, ...\n",
       "2    anyon rememb journalist use go government, spe...\n",
       "3    better compar countri outstand systems. otherw...\n",
       "4    exactly, corpor journalism. guy reason, he' pa...\n",
       "Name: Message, dtype: object"
      ]
     },
     "execution_count": 77,
     "metadata": {},
     "output_type": "execute_result"
    }
   ],
   "source": [
    "from nltk.stem import PorterStemmer\n",
    "st = PorterStemmer()\n",
    "df['Message'][:5].apply(lambda x: \" \".join([st.stem(word) for word in x.split()]))"
   ]
  },
  {
   "cell_type": "code",
   "execution_count": 78,
   "id": "0b6c31df",
   "metadata": {},
   "outputs": [
    {
     "name": "stderr",
     "output_type": "stream",
     "text": [
      "[nltk_data] Downloading package wordnet to\n",
      "[nltk_data]     C:\\Users\\dmitri.iolchin\\AppData\\Roaming\\nltk_data...\n",
      "[nltk_data]   Package wordnet is already up-to-date!\n"
     ]
    },
    {
     "data": {
      "text/plain": [
       "0                              ireland better thought?\n",
       "1    actually pretty good compare u south east asia...\n",
       "2    anyone remember journalist used go government,...\n",
       "3    better compare country outstanding systems. ot...\n",
       "4    exactly, corporate journalism. guy reason, he'...\n",
       "Name: Message, dtype: object"
      ]
     },
     "execution_count": 78,
     "metadata": {},
     "output_type": "execute_result"
    }
   ],
   "source": [
    "nltk.download('wordnet')\n",
    "from textblob import Word\n",
    "df['Message'] = df['Message'].apply(lambda x: \" \".join([Word(word).lemmatize() for word in x.split()]))\n",
    "df['Message'].head()"
   ]
  },
  {
   "cell_type": "code",
   "execution_count": 90,
   "id": "75c4344a",
   "metadata": {},
   "outputs": [
    {
     "data": {
      "text/plain": [
       "[WordList(['ireland', 'better']), WordList(['better', 'thought'])]"
      ]
     },
     "execution_count": 90,
     "metadata": {},
     "output_type": "execute_result"
    }
   ],
   "source": [
    "TextBlob(df['Message'][0]).ngrams(2)"
   ]
  },
  {
   "cell_type": "code",
   "execution_count": 80,
   "id": "0a143a43",
   "metadata": {},
   "outputs": [
    {
     "name": "stderr",
     "output_type": "stream",
     "text": [
      "C:\\Users\\dmitri.iolchin\\AppData\\Local\\Temp\\ipykernel_13148\\507734282.py:1: FutureWarning: pandas.value_counts is deprecated and will be removed in a future version. Use pd.Series(obj).value_counts() instead.\n",
      "  tf1 = (df['Message'][1:2]).apply(lambda x: pd.value_counts(x.split(\" \"))).sum(axis = 0).reset_index()\n",
      "C:\\Users\\dmitri.iolchin\\AppData\\Local\\Temp\\ipykernel_13148\\507734282.py:1: FutureWarning: value_counts with argument that is not not a Series, Index, ExtensionArray, or np.ndarray is deprecated and will raise in a future version.\n",
      "  tf1 = (df['Message'][1:2]).apply(lambda x: pd.value_counts(x.split(\" \"))).sum(axis = 0).reset_index()\n"
     ]
    },
    {
     "data": {
      "text/html": [
       "<div>\n",
       "<style scoped>\n",
       "    .dataframe tbody tr th:only-of-type {\n",
       "        vertical-align: middle;\n",
       "    }\n",
       "\n",
       "    .dataframe tbody tr th {\n",
       "        vertical-align: top;\n",
       "    }\n",
       "\n",
       "    .dataframe thead th {\n",
       "        text-align: right;\n",
       "    }\n",
       "</style>\n",
       "<table border=\"1\" class=\"dataframe\">\n",
       "  <thead>\n",
       "    <tr style=\"text-align: right;\">\n",
       "      <th></th>\n",
       "      <th>words</th>\n",
       "      <th>tf</th>\n",
       "    </tr>\n",
       "  </thead>\n",
       "  <tbody>\n",
       "    <tr>\n",
       "      <th>0</th>\n",
       "      <td>actually</td>\n",
       "      <td>1</td>\n",
       "    </tr>\n",
       "    <tr>\n",
       "      <th>1</th>\n",
       "      <td>pretty</td>\n",
       "      <td>1</td>\n",
       "    </tr>\n",
       "    <tr>\n",
       "      <th>2</th>\n",
       "      <td>good</td>\n",
       "      <td>1</td>\n",
       "    </tr>\n",
       "    <tr>\n",
       "      <th>3</th>\n",
       "      <td>compare</td>\n",
       "      <td>1</td>\n",
       "    </tr>\n",
       "    <tr>\n",
       "      <th>4</th>\n",
       "      <td>u</td>\n",
       "      <td>1</td>\n",
       "    </tr>\n",
       "    <tr>\n",
       "      <th>5</th>\n",
       "      <td>south</td>\n",
       "      <td>1</td>\n",
       "    </tr>\n",
       "    <tr>\n",
       "      <th>6</th>\n",
       "      <td>east</td>\n",
       "      <td>1</td>\n",
       "    </tr>\n",
       "    <tr>\n",
       "      <th>7</th>\n",
       "      <td>asia,</td>\n",
       "      <td>1</td>\n",
       "    </tr>\n",
       "    <tr>\n",
       "      <th>8</th>\n",
       "      <td>say</td>\n",
       "      <td>1</td>\n",
       "    </tr>\n",
       "    <tr>\n",
       "      <th>9</th>\n",
       "      <td>lad</td>\n",
       "      <td>1</td>\n",
       "    </tr>\n",
       "    <tr>\n",
       "      <th>10</th>\n",
       "      <td>flew</td>\n",
       "      <td>1</td>\n",
       "    </tr>\n",
       "    <tr>\n",
       "      <th>11</th>\n",
       "      <td>weekend</td>\n",
       "      <td>1</td>\n",
       "    </tr>\n",
       "    <tr>\n",
       "      <th>12</th>\n",
       "      <td>got</td>\n",
       "      <td>1</td>\n",
       "    </tr>\n",
       "    <tr>\n",
       "      <th>13</th>\n",
       "      <td>taxi</td>\n",
       "      <td>1</td>\n",
       "    </tr>\n",
       "    <tr>\n",
       "      <th>14</th>\n",
       "      <td>airport.</td>\n",
       "      <td>1</td>\n",
       "    </tr>\n",
       "  </tbody>\n",
       "</table>\n",
       "</div>"
      ],
      "text/plain": [
       "       words  tf\n",
       "0   actually   1\n",
       "1     pretty   1\n",
       "2       good   1\n",
       "3    compare   1\n",
       "4          u   1\n",
       "5      south   1\n",
       "6       east   1\n",
       "7      asia,   1\n",
       "8        say   1\n",
       "9        lad   1\n",
       "10      flew   1\n",
       "11   weekend   1\n",
       "12       got   1\n",
       "13      taxi   1\n",
       "14  airport.   1"
      ]
     },
     "execution_count": 80,
     "metadata": {},
     "output_type": "execute_result"
    }
   ],
   "source": [
    "tf1 = (df['Message'][1:2]).apply(lambda x: pd.value_counts(x.split(\" \"))).sum(axis = 0).reset_index()\n",
    "tf1.columns = ['words','tf']\n",
    "tf1"
   ]
  },
  {
   "cell_type": "code",
   "execution_count": 81,
   "id": "020ed3f6",
   "metadata": {},
   "outputs": [
    {
     "data": {
      "text/html": [
       "<div>\n",
       "<style scoped>\n",
       "    .dataframe tbody tr th:only-of-type {\n",
       "        vertical-align: middle;\n",
       "    }\n",
       "\n",
       "    .dataframe tbody tr th {\n",
       "        vertical-align: top;\n",
       "    }\n",
       "\n",
       "    .dataframe thead th {\n",
       "        text-align: right;\n",
       "    }\n",
       "</style>\n",
       "<table border=\"1\" class=\"dataframe\">\n",
       "  <thead>\n",
       "    <tr style=\"text-align: right;\">\n",
       "      <th></th>\n",
       "      <th>words</th>\n",
       "      <th>tf</th>\n",
       "      <th>idf</th>\n",
       "    </tr>\n",
       "  </thead>\n",
       "  <tbody>\n",
       "    <tr>\n",
       "      <th>0</th>\n",
       "      <td>actually</td>\n",
       "      <td>1</td>\n",
       "      <td>3.215841</td>\n",
       "    </tr>\n",
       "    <tr>\n",
       "      <th>1</th>\n",
       "      <td>pretty</td>\n",
       "      <td>1</td>\n",
       "      <td>4.091310</td>\n",
       "    </tr>\n",
       "    <tr>\n",
       "      <th>2</th>\n",
       "      <td>good</td>\n",
       "      <td>1</td>\n",
       "      <td>2.911257</td>\n",
       "    </tr>\n",
       "    <tr>\n",
       "      <th>3</th>\n",
       "      <td>compare</td>\n",
       "      <td>1</td>\n",
       "      <td>4.055592</td>\n",
       "    </tr>\n",
       "    <tr>\n",
       "      <th>4</th>\n",
       "      <td>u</td>\n",
       "      <td>1</td>\n",
       "      <td>0.202090</td>\n",
       "    </tr>\n",
       "    <tr>\n",
       "      <th>5</th>\n",
       "      <td>south</td>\n",
       "      <td>1</td>\n",
       "      <td>4.515124</td>\n",
       "    </tr>\n",
       "    <tr>\n",
       "      <th>6</th>\n",
       "      <td>east</td>\n",
       "      <td>1</td>\n",
       "      <td>3.407295</td>\n",
       "    </tr>\n",
       "    <tr>\n",
       "      <th>7</th>\n",
       "      <td>asia,</td>\n",
       "      <td>1</td>\n",
       "      <td>8.098643</td>\n",
       "    </tr>\n",
       "    <tr>\n",
       "      <th>8</th>\n",
       "      <td>say</td>\n",
       "      <td>1</td>\n",
       "      <td>2.815439</td>\n",
       "    </tr>\n",
       "    <tr>\n",
       "      <th>9</th>\n",
       "      <td>lad</td>\n",
       "      <td>1</td>\n",
       "      <td>5.007600</td>\n",
       "    </tr>\n",
       "    <tr>\n",
       "      <th>10</th>\n",
       "      <td>flew</td>\n",
       "      <td>1</td>\n",
       "      <td>7.405496</td>\n",
       "    </tr>\n",
       "    <tr>\n",
       "      <th>11</th>\n",
       "      <td>weekend</td>\n",
       "      <td>1</td>\n",
       "      <td>4.766438</td>\n",
       "    </tr>\n",
       "    <tr>\n",
       "      <th>12</th>\n",
       "      <td>got</td>\n",
       "      <td>1</td>\n",
       "      <td>3.270329</td>\n",
       "    </tr>\n",
       "    <tr>\n",
       "      <th>13</th>\n",
       "      <td>taxi</td>\n",
       "      <td>1</td>\n",
       "      <td>3.729195</td>\n",
       "    </tr>\n",
       "    <tr>\n",
       "      <th>14</th>\n",
       "      <td>airport.</td>\n",
       "      <td>1</td>\n",
       "      <td>3.632735</td>\n",
       "    </tr>\n",
       "  </tbody>\n",
       "</table>\n",
       "</div>"
      ],
      "text/plain": [
       "       words  tf       idf\n",
       "0   actually   1  3.215841\n",
       "1     pretty   1  4.091310\n",
       "2       good   1  2.911257\n",
       "3    compare   1  4.055592\n",
       "4          u   1  0.202090\n",
       "5      south   1  4.515124\n",
       "6       east   1  3.407295\n",
       "7      asia,   1  8.098643\n",
       "8        say   1  2.815439\n",
       "9        lad   1  5.007600\n",
       "10      flew   1  7.405496\n",
       "11   weekend   1  4.766438\n",
       "12       got   1  3.270329\n",
       "13      taxi   1  3.729195\n",
       "14  airport.   1  3.632735"
      ]
     },
     "execution_count": 81,
     "metadata": {},
     "output_type": "execute_result"
    }
   ],
   "source": [
    "import numpy as np\n",
    "\n",
    "for i,word in enumerate(tf1['words']):\n",
    "  tf1.loc[i, 'idf'] = np.log(df.shape[0]/(len(df[df['Message'].str.contains(word)])))\n",
    "\n",
    "tf1"
   ]
  },
  {
   "cell_type": "code",
   "execution_count": 82,
   "id": "d804c777",
   "metadata": {
    "scrolled": true
   },
   "outputs": [
    {
     "data": {
      "text/html": [
       "<div>\n",
       "<style scoped>\n",
       "    .dataframe tbody tr th:only-of-type {\n",
       "        vertical-align: middle;\n",
       "    }\n",
       "\n",
       "    .dataframe tbody tr th {\n",
       "        vertical-align: top;\n",
       "    }\n",
       "\n",
       "    .dataframe thead th {\n",
       "        text-align: right;\n",
       "    }\n",
       "</style>\n",
       "<table border=\"1\" class=\"dataframe\">\n",
       "  <thead>\n",
       "    <tr style=\"text-align: right;\">\n",
       "      <th></th>\n",
       "      <th>words</th>\n",
       "      <th>tf</th>\n",
       "      <th>idf</th>\n",
       "      <th>tfidf</th>\n",
       "    </tr>\n",
       "  </thead>\n",
       "  <tbody>\n",
       "    <tr>\n",
       "      <th>0</th>\n",
       "      <td>actually</td>\n",
       "      <td>1</td>\n",
       "      <td>3.215841</td>\n",
       "      <td>3.215841</td>\n",
       "    </tr>\n",
       "    <tr>\n",
       "      <th>1</th>\n",
       "      <td>pretty</td>\n",
       "      <td>1</td>\n",
       "      <td>4.091310</td>\n",
       "      <td>4.091310</td>\n",
       "    </tr>\n",
       "    <tr>\n",
       "      <th>2</th>\n",
       "      <td>good</td>\n",
       "      <td>1</td>\n",
       "      <td>2.911257</td>\n",
       "      <td>2.911257</td>\n",
       "    </tr>\n",
       "    <tr>\n",
       "      <th>3</th>\n",
       "      <td>compare</td>\n",
       "      <td>1</td>\n",
       "      <td>4.055592</td>\n",
       "      <td>4.055592</td>\n",
       "    </tr>\n",
       "    <tr>\n",
       "      <th>4</th>\n",
       "      <td>u</td>\n",
       "      <td>1</td>\n",
       "      <td>0.202090</td>\n",
       "      <td>0.202090</td>\n",
       "    </tr>\n",
       "    <tr>\n",
       "      <th>5</th>\n",
       "      <td>south</td>\n",
       "      <td>1</td>\n",
       "      <td>4.515124</td>\n",
       "      <td>4.515124</td>\n",
       "    </tr>\n",
       "    <tr>\n",
       "      <th>6</th>\n",
       "      <td>east</td>\n",
       "      <td>1</td>\n",
       "      <td>3.407295</td>\n",
       "      <td>3.407295</td>\n",
       "    </tr>\n",
       "    <tr>\n",
       "      <th>7</th>\n",
       "      <td>asia,</td>\n",
       "      <td>1</td>\n",
       "      <td>8.098643</td>\n",
       "      <td>8.098643</td>\n",
       "    </tr>\n",
       "    <tr>\n",
       "      <th>8</th>\n",
       "      <td>say</td>\n",
       "      <td>1</td>\n",
       "      <td>2.815439</td>\n",
       "      <td>2.815439</td>\n",
       "    </tr>\n",
       "    <tr>\n",
       "      <th>9</th>\n",
       "      <td>lad</td>\n",
       "      <td>1</td>\n",
       "      <td>5.007600</td>\n",
       "      <td>5.007600</td>\n",
       "    </tr>\n",
       "    <tr>\n",
       "      <th>10</th>\n",
       "      <td>flew</td>\n",
       "      <td>1</td>\n",
       "      <td>7.405496</td>\n",
       "      <td>7.405496</td>\n",
       "    </tr>\n",
       "    <tr>\n",
       "      <th>11</th>\n",
       "      <td>weekend</td>\n",
       "      <td>1</td>\n",
       "      <td>4.766438</td>\n",
       "      <td>4.766438</td>\n",
       "    </tr>\n",
       "    <tr>\n",
       "      <th>12</th>\n",
       "      <td>got</td>\n",
       "      <td>1</td>\n",
       "      <td>3.270329</td>\n",
       "      <td>3.270329</td>\n",
       "    </tr>\n",
       "    <tr>\n",
       "      <th>13</th>\n",
       "      <td>taxi</td>\n",
       "      <td>1</td>\n",
       "      <td>3.729195</td>\n",
       "      <td>3.729195</td>\n",
       "    </tr>\n",
       "    <tr>\n",
       "      <th>14</th>\n",
       "      <td>airport.</td>\n",
       "      <td>1</td>\n",
       "      <td>3.632735</td>\n",
       "      <td>3.632735</td>\n",
       "    </tr>\n",
       "  </tbody>\n",
       "</table>\n",
       "</div>"
      ],
      "text/plain": [
       "       words  tf       idf     tfidf\n",
       "0   actually   1  3.215841  3.215841\n",
       "1     pretty   1  4.091310  4.091310\n",
       "2       good   1  2.911257  2.911257\n",
       "3    compare   1  4.055592  4.055592\n",
       "4          u   1  0.202090  0.202090\n",
       "5      south   1  4.515124  4.515124\n",
       "6       east   1  3.407295  3.407295\n",
       "7      asia,   1  8.098643  8.098643\n",
       "8        say   1  2.815439  2.815439\n",
       "9        lad   1  5.007600  5.007600\n",
       "10      flew   1  7.405496  7.405496\n",
       "11   weekend   1  4.766438  4.766438\n",
       "12       got   1  3.270329  3.270329\n",
       "13      taxi   1  3.729195  3.729195\n",
       "14  airport.   1  3.632735  3.632735"
      ]
     },
     "execution_count": 82,
     "metadata": {},
     "output_type": "execute_result"
    }
   ],
   "source": [
    "tf1['tfidf'] = tf1['tf'] * tf1['idf']\n",
    "tf1"
   ]
  },
  {
   "cell_type": "code",
   "execution_count": 84,
   "id": "4905e7cb",
   "metadata": {},
   "outputs": [
    {
     "data": {
      "text/plain": [
       "<3290x1000 sparse matrix of type '<class 'numpy.float64'>'\n",
       "\twith 35357 stored elements in Compressed Sparse Row format>"
      ]
     },
     "execution_count": 84,
     "metadata": {},
     "output_type": "execute_result"
    }
   ],
   "source": [
    "from sklearn.feature_extraction.text import TfidfVectorizer\n",
    "tfidf = TfidfVectorizer(max_features=1000, lowercase=True, analyzer='word',\n",
    " stop_words= 'english',ngram_range=(1,1))\n",
    "df_vect = tfidf.fit_transform(df['Message'])\n",
    "\n",
    "df_vect"
   ]
  },
  {
   "cell_type": "code",
   "execution_count": 85,
   "id": "a8cefbc3",
   "metadata": {},
   "outputs": [
    {
     "data": {
      "text/plain": [
       "<3290x1000 sparse matrix of type '<class 'numpy.int64'>'\n",
       "\twith 43763 stored elements in Compressed Sparse Row format>"
      ]
     },
     "execution_count": 85,
     "metadata": {},
     "output_type": "execute_result"
    }
   ],
   "source": [
    "from sklearn.feature_extraction.text import CountVectorizer\n",
    "bow = CountVectorizer(max_features=1000, lowercase=True, ngram_range=(1,1),analyzer = \"word\")\n",
    "df_bow = bow.fit_transform(df['Message'])\n",
    "df_bow"
   ]
  },
  {
   "cell_type": "code",
   "execution_count": 86,
   "id": "06bee45c",
   "metadata": {},
   "outputs": [
    {
     "data": {
      "text/plain": [
       "0          (0.5, 0.5)\n",
       "1        (0.475, 0.8)\n",
       "2         (-0.1, 0.1)\n",
       "3    (0.425, 0.51875)\n",
       "4          (0.0, 0.0)\n",
       "Name: Message, dtype: object"
      ]
     },
     "execution_count": 86,
     "metadata": {},
     "output_type": "execute_result"
    }
   ],
   "source": [
    "df['Message'][:5].apply(lambda x: TextBlob(x).sentiment)"
   ]
  },
  {
   "cell_type": "code",
   "execution_count": 147,
   "id": "cfc26d2e",
   "metadata": {
    "scrolled": true
   },
   "outputs": [
    {
     "data": {
      "text/html": [
       "<div>\n",
       "<style scoped>\n",
       "    .dataframe tbody tr th:only-of-type {\n",
       "        vertical-align: middle;\n",
       "    }\n",
       "\n",
       "    .dataframe tbody tr th {\n",
       "        vertical-align: top;\n",
       "    }\n",
       "\n",
       "    .dataframe thead th {\n",
       "        text-align: right;\n",
       "    }\n",
       "</style>\n",
       "<table border=\"1\" class=\"dataframe\">\n",
       "  <thead>\n",
       "    <tr style=\"text-align: right;\">\n",
       "      <th></th>\n",
       "      <th>Message</th>\n",
       "      <th>sentiment</th>\n",
       "    </tr>\n",
       "  </thead>\n",
       "  <tbody>\n",
       "    <tr>\n",
       "      <th>0</th>\n",
       "      <td>ireland better thought?</td>\n",
       "      <td>0.5</td>\n",
       "    </tr>\n",
       "    <tr>\n",
       "      <th>1</th>\n",
       "      <td>actually pretty good compare u south east asia...</td>\n",
       "      <td>0.5</td>\n",
       "    </tr>\n",
       "    <tr>\n",
       "      <th>2</th>\n",
       "      <td>anyone remember journalist used go government,...</td>\n",
       "      <td>-0.1</td>\n",
       "    </tr>\n",
       "    <tr>\n",
       "      <th>3</th>\n",
       "      <td>better compare country outstanding systems. ot...</td>\n",
       "      <td>0.4</td>\n",
       "    </tr>\n",
       "    <tr>\n",
       "      <th>4</th>\n",
       "      <td>exactly, corporate journalism. guy reason, he'...</td>\n",
       "      <td>0.0</td>\n",
       "    </tr>\n",
       "  </tbody>\n",
       "</table>\n",
       "</div>"
      ],
      "text/plain": [
       "                                             Message  sentiment\n",
       "0                            ireland better thought?        0.5\n",
       "1  actually pretty good compare u south east asia...        0.5\n",
       "2  anyone remember journalist used go government,...       -0.1\n",
       "3  better compare country outstanding systems. ot...        0.4\n",
       "4  exactly, corporate journalism. guy reason, he'...        0.0"
      ]
     },
     "execution_count": 147,
     "metadata": {},
     "output_type": "execute_result"
    }
   ],
   "source": [
    "df['sentiment'] = round(df['Message'].apply(lambda x: TextBlob(x).sentiment[0]),1)\n",
    "df[['Message','sentiment']].head()"
   ]
  },
  {
   "cell_type": "code",
   "execution_count": 148,
   "id": "3beb510b",
   "metadata": {
    "scrolled": false
   },
   "outputs": [
    {
     "data": {
      "text/html": [
       "<div>\n",
       "<style scoped>\n",
       "    .dataframe tbody tr th:only-of-type {\n",
       "        vertical-align: middle;\n",
       "    }\n",
       "\n",
       "    .dataframe tbody tr th {\n",
       "        vertical-align: top;\n",
       "    }\n",
       "\n",
       "    .dataframe thead th {\n",
       "        text-align: right;\n",
       "    }\n",
       "</style>\n",
       "<table border=\"1\" class=\"dataframe\">\n",
       "  <thead>\n",
       "    <tr style=\"text-align: right;\">\n",
       "      <th></th>\n",
       "      <th>Author</th>\n",
       "      <th>Date</th>\n",
       "      <th>Votes UP</th>\n",
       "      <th>Votes Down</th>\n",
       "      <th>Score</th>\n",
       "      <th>Message</th>\n",
       "      <th>word_count</th>\n",
       "      <th>char_count</th>\n",
       "      <th>avg_word</th>\n",
       "      <th>stopwords</th>\n",
       "      <th>hastags</th>\n",
       "      <th>numerics</th>\n",
       "      <th>upper</th>\n",
       "      <th>sentiment</th>\n",
       "    </tr>\n",
       "  </thead>\n",
       "  <tbody>\n",
       "    <tr>\n",
       "      <th>0</th>\n",
       "      <td>MoBhollix</td>\n",
       "      <td>2023-02-01 09:25:24</td>\n",
       "      <td>0</td>\n",
       "      <td>0</td>\n",
       "      <td>0</td>\n",
       "      <td>ireland better thought?</td>\n",
       "      <td>10</td>\n",
       "      <td>60</td>\n",
       "      <td>5.100000</td>\n",
       "      <td>4</td>\n",
       "      <td>0</td>\n",
       "      <td>0</td>\n",
       "      <td>0</td>\n",
       "      <td>0.5</td>\n",
       "    </tr>\n",
       "    <tr>\n",
       "      <th>1</th>\n",
       "      <td>MoBhollix</td>\n",
       "      <td>2023-02-01 09:28:17</td>\n",
       "      <td>19</td>\n",
       "      <td>0</td>\n",
       "      <td>19</td>\n",
       "      <td>actually pretty good compare u south east asia...</td>\n",
       "      <td>35</td>\n",
       "      <td>169</td>\n",
       "      <td>3.857143</td>\n",
       "      <td>17</td>\n",
       "      <td>0</td>\n",
       "      <td>0</td>\n",
       "      <td>1</td>\n",
       "      <td>0.5</td>\n",
       "    </tr>\n",
       "    <tr>\n",
       "      <th>2</th>\n",
       "      <td>Ok-Fly5271</td>\n",
       "      <td>2023-02-01 09:30:03</td>\n",
       "      <td>37</td>\n",
       "      <td>0</td>\n",
       "      <td>37</td>\n",
       "      <td>anyone remember journalist used go government,...</td>\n",
       "      <td>18</td>\n",
       "      <td>110</td>\n",
       "      <td>5.166667</td>\n",
       "      <td>8</td>\n",
       "      <td>0</td>\n",
       "      <td>0</td>\n",
       "      <td>0</td>\n",
       "      <td>-0.1</td>\n",
       "    </tr>\n",
       "  </tbody>\n",
       "</table>\n",
       "</div>"
      ],
      "text/plain": [
       "       Author                 Date  Votes UP  Votes Down  Score  \\\n",
       "0   MoBhollix  2023-02-01 09:25:24         0           0      0   \n",
       "1   MoBhollix  2023-02-01 09:28:17        19           0     19   \n",
       "2  Ok-Fly5271  2023-02-01 09:30:03        37           0     37   \n",
       "\n",
       "                                             Message  word_count  char_count  \\\n",
       "0                            ireland better thought?          10          60   \n",
       "1  actually pretty good compare u south east asia...          35         169   \n",
       "2  anyone remember journalist used go government,...          18         110   \n",
       "\n",
       "   avg_word  stopwords  hastags  numerics  upper  sentiment  \n",
       "0  5.100000          4        0         0      0        0.5  \n",
       "1  3.857143         17        0         0      1        0.5  \n",
       "2  5.166667          8        0         0      0       -0.1  "
      ]
     },
     "execution_count": 148,
     "metadata": {},
     "output_type": "execute_result"
    }
   ],
   "source": [
    "df.head(3)"
   ]
  },
  {
   "cell_type": "code",
   "execution_count": 149,
   "id": "63e5e495",
   "metadata": {
    "scrolled": false
   },
   "outputs": [
    {
     "data": {
      "text/plain": [
       "{'whiskers': [<matplotlib.lines.Line2D at 0x224871cf490>,\n",
       "  <matplotlib.lines.Line2D at 0x224871cfed0>],\n",
       " 'caps': [<matplotlib.lines.Line2D at 0x224871d8910>,\n",
       "  <matplotlib.lines.Line2D at 0x224871d9250>],\n",
       " 'boxes': [<matplotlib.lines.Line2D at 0x22487356810>],\n",
       " 'medians': [<matplotlib.lines.Line2D at 0x224871d9a50>],\n",
       " 'fliers': [<matplotlib.lines.Line2D at 0x224871da250>],\n",
       " 'means': []}"
      ]
     },
     "execution_count": 149,
     "metadata": {},
     "output_type": "execute_result"
    },
    {
     "data": {
      "image/png": "[encoded data removed]",
      "text/plain": [
       "<Figure size 640x480 with 1 Axes>"
      ]
     },
     "metadata": {},
     "output_type": "display_data"
    }
   ],
   "source": [
    " plt.boxplot( df['sentiment'])"
   ]
  },
  {
   "cell_type": "code",
   "execution_count": 156,
   "id": "8929e028",
   "metadata": {
    "scrolled": true
   },
   "outputs": [],
   "source": [
    "new_df = df[['Message', 'sentiment']].copy()"
   ]
  },
  {
   "cell_type": "code",
   "execution_count": 157,
   "id": "4069280c",
   "metadata": {},
   "outputs": [],
   "source": [
    "new_df.to_csv('sentiment_score.csv', index=False)"
   ]
  },
  {
   "cell_type": "markdown",
   "id": "dcb622c1",
   "metadata": {},
   "source": [
    "#### =================================\n",
    "# VADER\n",
    "#### ================================="
   ]
  },
  {
   "cell_type": "code",
   "execution_count": 158,
   "id": "99406ddb",
   "metadata": {},
   "outputs": [],
   "source": [
    "import pandas as pd\n",
    "import nltk\n",
    "from nltk.sentiment.vader import SentimentIntensityAnalyzer\n",
    "sent_analyzer = SentimentIntensityAnalyzer()"
   ]
  },
  {
   "cell_type": "code",
   "execution_count": 212,
   "id": "921eaf54",
   "metadata": {
    "scrolled": false
   },
   "outputs": [
    {
     "data": {
      "text/html": [
       "<div>\n",
       "<style scoped>\n",
       "    .dataframe tbody tr th:only-of-type {\n",
       "        vertical-align: middle;\n",
       "    }\n",
       "\n",
       "    .dataframe tbody tr th {\n",
       "        vertical-align: top;\n",
       "    }\n",
       "\n",
       "    .dataframe thead th {\n",
       "        text-align: right;\n",
       "    }\n",
       "</style>\n",
       "<table border=\"1\" class=\"dataframe\">\n",
       "  <thead>\n",
       "    <tr style=\"text-align: right;\">\n",
       "      <th></th>\n",
       "      <th>Message</th>\n",
       "      <th>sentiment</th>\n",
       "    </tr>\n",
       "  </thead>\n",
       "  <tbody>\n",
       "    <tr>\n",
       "      <th>0</th>\n",
       "      <td>ireland better thought?</td>\n",
       "      <td>0.5</td>\n",
       "    </tr>\n",
       "    <tr>\n",
       "      <th>1</th>\n",
       "      <td>actually pretty good compare u south east asia...</td>\n",
       "      <td>0.5</td>\n",
       "    </tr>\n",
       "    <tr>\n",
       "      <th>2</th>\n",
       "      <td>anyone remember journalist used go government,...</td>\n",
       "      <td>-0.1</td>\n",
       "    </tr>\n",
       "    <tr>\n",
       "      <th>3</th>\n",
       "      <td>better compare country outstanding systems. ot...</td>\n",
       "      <td>0.4</td>\n",
       "    </tr>\n",
       "    <tr>\n",
       "      <th>4</th>\n",
       "      <td>exactly, corporate journalism. guy reason, he'...</td>\n",
       "      <td>0.0</td>\n",
       "    </tr>\n",
       "  </tbody>\n",
       "</table>\n",
       "</div>"
      ],
      "text/plain": [
       "                                             Message  sentiment\n",
       "0                            ireland better thought?        0.5\n",
       "1  actually pretty good compare u south east asia...        0.5\n",
       "2  anyone remember journalist used go government,...       -0.1\n",
       "3  better compare country outstanding systems. ot...        0.4\n",
       "4  exactly, corporate journalism. guy reason, he'...        0.0"
      ]
     },
     "execution_count": 212,
     "metadata": {},
     "output_type": "execute_result"
    }
   ],
   "source": [
    "# Read the data set\n",
    "sentiment_data = pd.read_csv('sentiment_score.csv')\n",
    "sentiment_data.head(5)"
   ]
  },
  {
   "cell_type": "code",
   "execution_count": 213,
   "id": "45376f4c",
   "metadata": {
    "scrolled": true
   },
   "outputs": [
    {
     "data": {
      "text/plain": [
       "sentiment\n",
       " 0.0    3126\n",
       " 1.0     102\n",
       "-1.0      62\n",
       "Name: count, dtype: int64"
      ]
     },
     "execution_count": 213,
     "metadata": {},
     "output_type": "execute_result"
    }
   ],
   "source": [
    "sentiment_data['sentiment'] = round(sentiment_data['sentiment'],0)\n",
    "sentiment_data['sentiment'].value_counts()"
   ]
  },
  {
   "cell_type": "code",
   "execution_count": 214,
   "id": "b011febb",
   "metadata": {},
   "outputs": [],
   "source": [
    "sentiment_data['sentiment'] = sentiment_data['sentiment'].astype(int)"
   ]
  },
  {
   "cell_type": "code",
   "execution_count": 215,
   "id": "74fef4a8",
   "metadata": {
    "scrolled": true
   },
   "outputs": [
    {
     "data": {
      "text/html": [
       "<div>\n",
       "<style scoped>\n",
       "    .dataframe tbody tr th:only-of-type {\n",
       "        vertical-align: middle;\n",
       "    }\n",
       "\n",
       "    .dataframe tbody tr th {\n",
       "        vertical-align: top;\n",
       "    }\n",
       "\n",
       "    .dataframe thead tr th {\n",
       "        text-align: left;\n",
       "    }\n",
       "\n",
       "    .dataframe thead tr:last-of-type th {\n",
       "        text-align: right;\n",
       "    }\n",
       "</style>\n",
       "<table border=\"1\" class=\"dataframe\">\n",
       "  <thead>\n",
       "    <tr>\n",
       "      <th></th>\n",
       "      <th colspan=\"4\" halign=\"left\">Message</th>\n",
       "    </tr>\n",
       "    <tr>\n",
       "      <th></th>\n",
       "      <th>count</th>\n",
       "      <th>unique</th>\n",
       "      <th>top</th>\n",
       "      <th>freq</th>\n",
       "    </tr>\n",
       "    <tr>\n",
       "      <th>sentiment</th>\n",
       "      <th></th>\n",
       "      <th></th>\n",
       "      <th></th>\n",
       "      <th></th>\n",
       "    </tr>\n",
       "  </thead>\n",
       "  <tbody>\n",
       "    <tr>\n",
       "      <th>-1</th>\n",
       "      <td>62</td>\n",
       "      <td>61</td>\n",
       "      <td>yes definitely worst ever travelled to, airpor...</td>\n",
       "      <td>2</td>\n",
       "    </tr>\n",
       "    <tr>\n",
       "      <th>0</th>\n",
       "      <td>3118</td>\n",
       "      <td>2886</td>\n",
       "      <td>[deleted]</td>\n",
       "      <td>75</td>\n",
       "    </tr>\n",
       "    <tr>\n",
       "      <th>1</th>\n",
       "      <td>102</td>\n",
       "      <td>98</td>\n",
       "      <td>rome. know good</td>\n",
       "      <td>2</td>\n",
       "    </tr>\n",
       "  </tbody>\n",
       "</table>\n",
       "</div>"
      ],
      "text/plain": [
       "          Message                                                            \\\n",
       "            count unique                                                top   \n",
       "sentiment                                                                     \n",
       "-1             62     61  yes definitely worst ever travelled to, airpor...   \n",
       " 0           3118   2886                                          [deleted]   \n",
       " 1            102     98                                    rome. know good   \n",
       "\n",
       "                \n",
       "          freq  \n",
       "sentiment       \n",
       "-1           2  \n",
       " 0          75  \n",
       " 1           2  "
      ]
     },
     "execution_count": 215,
     "metadata": {},
     "output_type": "execute_result"
    }
   ],
   "source": [
    "sentiment_data.groupby('sentiment').describe()"
   ]
  },
  {
   "cell_type": "code",
   "execution_count": 216,
   "id": "a8886453",
   "metadata": {},
   "outputs": [
    {
     "data": {
      "text/html": [
       "<div>\n",
       "<style scoped>\n",
       "    .dataframe tbody tr th:only-of-type {\n",
       "        vertical-align: middle;\n",
       "    }\n",
       "\n",
       "    .dataframe tbody tr th {\n",
       "        vertical-align: top;\n",
       "    }\n",
       "\n",
       "    .dataframe thead tr th {\n",
       "        text-align: left;\n",
       "    }\n",
       "\n",
       "    .dataframe thead tr:last-of-type th {\n",
       "        text-align: right;\n",
       "    }\n",
       "</style>\n",
       "<table border=\"1\" class=\"dataframe\">\n",
       "  <thead>\n",
       "    <tr>\n",
       "      <th></th>\n",
       "      <th colspan=\"4\" halign=\"left\">Message</th>\n",
       "    </tr>\n",
       "    <tr>\n",
       "      <th></th>\n",
       "      <th>count</th>\n",
       "      <th>unique</th>\n",
       "      <th>top</th>\n",
       "      <th>freq</th>\n",
       "    </tr>\n",
       "    <tr>\n",
       "      <th>sentiment</th>\n",
       "      <th></th>\n",
       "      <th></th>\n",
       "      <th></th>\n",
       "      <th></th>\n",
       "    </tr>\n",
       "  </thead>\n",
       "  <tbody>\n",
       "    <tr>\n",
       "      <th>-1</th>\n",
       "      <td>61</td>\n",
       "      <td>61</td>\n",
       "      <td>pathetically bad</td>\n",
       "      <td>1</td>\n",
       "    </tr>\n",
       "    <tr>\n",
       "      <th>0</th>\n",
       "      <td>2886</td>\n",
       "      <td>2886</td>\n",
       "      <td>ireland better thought?</td>\n",
       "      <td>1</td>\n",
       "    </tr>\n",
       "    <tr>\n",
       "      <th>1</th>\n",
       "      <td>98</td>\n",
       "      <td>98</td>\n",
       "      <td>lol what? airport fly into? stay?</td>\n",
       "      <td>1</td>\n",
       "    </tr>\n",
       "  </tbody>\n",
       "</table>\n",
       "</div>"
      ],
      "text/plain": [
       "          Message                                               \n",
       "            count unique                                top freq\n",
       "sentiment                                                       \n",
       "-1             61     61                   pathetically bad    1\n",
       " 0           2886   2886            ireland better thought?    1\n",
       " 1             98     98  lol what? airport fly into? stay?    1"
      ]
     },
     "execution_count": 216,
     "metadata": {},
     "output_type": "execute_result"
    }
   ],
   "source": [
    "sentiment_data = sentiment_data.drop_duplicates()\n",
    "sentiment_data.groupby('sentiment').describe()"
   ]
  },
  {
   "cell_type": "code",
   "execution_count": 217,
   "id": "8252c376",
   "metadata": {},
   "outputs": [],
   "source": [
    "sentiment_data = sentiment_data.dropna()"
   ]
  },
  {
   "cell_type": "code",
   "execution_count": 218,
   "id": "83deba8b",
   "metadata": {},
   "outputs": [],
   "source": [
    "def format_data(data):\n",
    "\n",
    "    last_col = str(data.columns[0])\n",
    "    first_col = str(data.columns[-1])\n",
    "\n",
    "    data.rename(columns = {last_col: 'sentiment_text', first_col: 'polarity'}, inplace=True) \n",
    "\n",
    "    # Change 0, 2, 4 to negative, neutral and positive\n",
    "    labels = {-1: 'negative', 0: 'neutral', 1: 'positive'}\n",
    "    data['polarity'] = data['polarity'].map(labels)\n",
    "\n",
    "    # Get only the two columns\n",
    "    return data[['sentiment_text', 'polarity']]\n",
    "    print (first_col)"
   ]
  },
  {
   "cell_type": "code",
   "execution_count": 220,
   "id": "9d48814b",
   "metadata": {
    "scrolled": true
   },
   "outputs": [
    {
     "data": {
      "text/html": [
       "<div>\n",
       "<style scoped>\n",
       "    .dataframe tbody tr th:only-of-type {\n",
       "        vertical-align: middle;\n",
       "    }\n",
       "\n",
       "    .dataframe tbody tr th {\n",
       "        vertical-align: top;\n",
       "    }\n",
       "\n",
       "    .dataframe thead th {\n",
       "        text-align: right;\n",
       "    }\n",
       "</style>\n",
       "<table border=\"1\" class=\"dataframe\">\n",
       "  <thead>\n",
       "    <tr style=\"text-align: right;\">\n",
       "      <th></th>\n",
       "      <th>sentiment_text</th>\n",
       "      <th>polarity</th>\n",
       "    </tr>\n",
       "  </thead>\n",
       "  <tbody>\n",
       "    <tr>\n",
       "      <th>0</th>\n",
       "      <td>ireland better thought?</td>\n",
       "      <td>neutral</td>\n",
       "    </tr>\n",
       "    <tr>\n",
       "      <th>1</th>\n",
       "      <td>actually pretty good compare u south east asia...</td>\n",
       "      <td>neutral</td>\n",
       "    </tr>\n",
       "    <tr>\n",
       "      <th>2</th>\n",
       "      <td>anyone remember journalist used go government,...</td>\n",
       "      <td>neutral</td>\n",
       "    </tr>\n",
       "    <tr>\n",
       "      <th>3</th>\n",
       "      <td>better compare country outstanding systems. ot...</td>\n",
       "      <td>neutral</td>\n",
       "    </tr>\n",
       "    <tr>\n",
       "      <th>4</th>\n",
       "      <td>exactly, corporate journalism. guy reason, he'...</td>\n",
       "      <td>neutral</td>\n",
       "    </tr>\n",
       "  </tbody>\n",
       "</table>\n",
       "</div>"
      ],
      "text/plain": [
       "                                      sentiment_text polarity\n",
       "0                            ireland better thought?  neutral\n",
       "1  actually pretty good compare u south east asia...  neutral\n",
       "2  anyone remember journalist used go government,...  neutral\n",
       "3  better compare country outstanding systems. ot...  neutral\n",
       "4  exactly, corporate journalism. guy reason, he'...  neutral"
      ]
     },
     "execution_count": 220,
     "metadata": {},
     "output_type": "execute_result"
    }
   ],
   "source": [
    "data = format_data(sentiment_data)\n",
    "data.head()"
   ]
  },
  {
   "cell_type": "code",
   "execution_count": 221,
   "id": "981d1811",
   "metadata": {},
   "outputs": [],
   "source": [
    "def format_output(output_dict):\n",
    "  \n",
    "  polarity = \"neutral\"\n",
    "\n",
    "  if(output_dict['compound'] >= 0.05):\n",
    "    polarity = \"positive\"\n",
    "\n",
    "  elif(output_dict['compound'] <= -0.05):\n",
    "    polarity = \"negative\"\n",
    "\n",
    "  return polarity\n",
    "\n",
    "def predict_sentiment(text):\n",
    "  \n",
    "  output_dict =  sent_analyzer.polarity_scores(text)\n",
    "  return format_output(output_dict)"
   ]
  },
  {
   "cell_type": "code",
   "execution_count": 222,
   "id": "6fa5877a",
   "metadata": {},
   "outputs": [],
   "source": [
    "data[\"vader_prediction\"] = data[\"sentiment_text\"].apply(predict_sentiment)"
   ]
  },
  {
   "cell_type": "code",
   "execution_count": 223,
   "id": "938e181f",
   "metadata": {},
   "outputs": [
    {
     "data": {
      "text/html": [
       "<div>\n",
       "<style scoped>\n",
       "    .dataframe tbody tr th:only-of-type {\n",
       "        vertical-align: middle;\n",
       "    }\n",
       "\n",
       "    .dataframe tbody tr th {\n",
       "        vertical-align: top;\n",
       "    }\n",
       "\n",
       "    .dataframe thead th {\n",
       "        text-align: right;\n",
       "    }\n",
       "</style>\n",
       "<table border=\"1\" class=\"dataframe\">\n",
       "  <thead>\n",
       "    <tr style=\"text-align: right;\">\n",
       "      <th></th>\n",
       "      <th>sentiment_text</th>\n",
       "      <th>polarity</th>\n",
       "      <th>vader_prediction</th>\n",
       "    </tr>\n",
       "  </thead>\n",
       "  <tbody>\n",
       "    <tr>\n",
       "      <th>2636</th>\n",
       "      <td>regulator keep announcing new route fine opera...</td>\n",
       "      <td>neutral</td>\n",
       "      <td>negative</td>\n",
       "    </tr>\n",
       "    <tr>\n",
       "      <th>236</th>\n",
       "      <td>1.6 diesel mid size panel van, i've spent tota...</td>\n",
       "      <td>neutral</td>\n",
       "      <td>negative</td>\n",
       "    </tr>\n",
       "    <tr>\n",
       "      <th>3054</th>\n",
       "      <td>dedicated going specifically match? (yeah, tra...</td>\n",
       "      <td>neutral</td>\n",
       "      <td>positive</td>\n",
       "    </tr>\n",
       "    <tr>\n",
       "      <th>1323</th>\n",
       "      <td>“dublin worst capital europe”</td>\n",
       "      <td>negative</td>\n",
       "      <td>negative</td>\n",
       "    </tr>\n",
       "    <tr>\n",
       "      <th>2382</th>\n",
       "      <td>think it’s coming. everything city/country tak...</td>\n",
       "      <td>neutral</td>\n",
       "      <td>negative</td>\n",
       "    </tr>\n",
       "  </tbody>\n",
       "</table>\n",
       "</div>"
      ],
      "text/plain": [
       "                                         sentiment_text  polarity  \\\n",
       "2636  regulator keep announcing new route fine opera...   neutral   \n",
       "236   1.6 diesel mid size panel van, i've spent tota...   neutral   \n",
       "3054  dedicated going specifically match? (yeah, tra...   neutral   \n",
       "1323                      “dublin worst capital europe”  negative   \n",
       "2382  think it’s coming. everything city/country tak...   neutral   \n",
       "\n",
       "     vader_prediction  \n",
       "2636         negative  \n",
       "236          negative  \n",
       "3054         positive  \n",
       "1323         negative  \n",
       "2382         negative  "
      ]
     },
     "execution_count": 223,
     "metadata": {},
     "output_type": "execute_result"
    }
   ],
   "source": [
    "data.sample(5)"
   ]
  },
  {
   "cell_type": "markdown",
   "id": "edcede4b",
   "metadata": {},
   "source": [
    "## VADER Performance on the Dataset.\n"
   ]
  },
  {
   "cell_type": "code",
   "execution_count": 224,
   "id": "324e714d",
   "metadata": {
    "scrolled": true
   },
   "outputs": [
    {
     "name": "stdout",
     "output_type": "stream",
     "text": [
      "Accuracy: 0.3018062397372742\n",
      "\n",
      "              precision    recall  f1-score   support\n",
      "\n",
      "    negative       0.06      0.84      0.11        61\n",
      "     neutral       0.98      0.27      0.42      2886\n",
      "    positive       0.07      0.91      0.12        98\n",
      "\n",
      "    accuracy                           0.30      3045\n",
      "   macro avg       0.37      0.67      0.22      3045\n",
      "weighted avg       0.94      0.30      0.41      3045\n",
      "\n"
     ]
    }
   ],
   "source": [
    "from sklearn.metrics import accuracy_score, classification_report\n",
    "\n",
    "accuracy = accuracy_score(data['polarity'], data['vader_prediction'])\n",
    "\n",
    "print(\"Accuracy: {}\\n\".format(accuracy))\n",
    "\n",
    "# Show the classification report\n",
    "print(classification_report(data['polarity'], data['vader_prediction']))"
   ]
  },
  {
   "cell_type": "markdown",
   "id": "1a97931d",
   "metadata": {},
   "source": [
    "# Bag of Words Vectorization-Based Models\n",
    "In the two approaches, Bag of words and Vader, we have simply used Python libraries to perform sentiment analysis. Now we will discuss an approach wherein we train our own model for the task. The steps involved in performing sentiment analysis using the Bag of Words Vectorization method are as follows\n",
    "\n",
    "Pre-Process the text of training data (Text pre-processing involves Normalization, Tokenization, Stopwords Removal, and Stemming/Lemmatization.)\n",
    "\n",
    "Create a Bag of Words for the pre-processed text data using the <b>Count Vectorization</b> or <b>TF-IDF Vectorization</b> approach.\n",
    "Train a suitable classification model on the processed data for sentiment classification.\n",
    "\n",
    "## Code for Sentiment Analysis using Bag of Words Vectorization Approach:\n",
    "\n",
    "To build a sentiment analysis model using the BOW Vectorization Approach we need a labeled dataset. As stated earlier, the dataset used for this demonstration has been obtained from Kaggle. We have simply used sklearn’s count vectorizer to create the BOW. After, we trained a Multinomial Naive Bayes classifier, for which an accuracy score of 0.84 was obtained."
   ]
  },
  {
   "cell_type": "code",
   "execution_count": 227,
   "id": "9f80949d",
   "metadata": {},
   "outputs": [],
   "source": [
    "df = data[['sentiment_text', 'vader_prediction']].copy()\n",
    "df.rename(columns={'sentiment_text': 'Sentence', 'vader_prediction': 'Sentiment'}, inplace=True)"
   ]
  },
  {
   "cell_type": "code",
   "execution_count": 229,
   "id": "20ab9902",
   "metadata": {},
   "outputs": [
    {
     "name": "stderr",
     "output_type": "stream",
     "text": [
      "C:\\Users\\dmitri.iolchin\\AppData\\Local\\anaconda3\\Lib\\site-packages\\sklearn\\feature_extraction\\text.py:525: UserWarning: The parameter 'token_pattern' will not be used since 'tokenizer' is not None'\n",
      "  warnings.warn(\n"
     ]
    },
    {
     "data": {
      "text/plain": [
       "<3045x7845 sparse matrix of type '<class 'numpy.int64'>'\n",
       "\twith 50507 stored elements in Compressed Sparse Row format>"
      ]
     },
     "execution_count": 229,
     "metadata": {},
     "output_type": "execute_result"
    }
   ],
   "source": [
    "# Pre-Prcoessing and Bag of Word Vectorization using Count Vectorizer\n",
    "from sklearn.feature_extraction.text import CountVectorizer\n",
    "from nltk.tokenize import RegexpTokenizer\n",
    "\n",
    "token = RegexpTokenizer(r'[a-zA-Z0-9]+')\n",
    "cv    = CountVectorizer(stop_words = 'english',ngram_range = (1, 1),tokenizer = token.tokenize)\n",
    "text_counts = cv.fit_transform(df['Sentence'])\n",
    "\n",
    "text_counts"
   ]
  },
  {
   "cell_type": "code",
   "execution_count": 230,
   "id": "5ef70037",
   "metadata": {},
   "outputs": [],
   "source": [
    "#Splitting the data into trainig and testing\n",
    "from sklearn.model_selection import train_test_split\n",
    "X_train, X_test, Y_train, Y_test = train_test_split(text_counts, df['Sentiment'], test_size=0.25, random_state=5)"
   ]
  },
  {
   "cell_type": "code",
   "execution_count": 231,
   "id": "cf187595",
   "metadata": {},
   "outputs": [
    {
     "data": {
      "text/plain": [
       "((3045, 7845), (2283, 7845), (762, 7845), (2283,), (762,))"
      ]
     },
     "execution_count": 231,
     "metadata": {},
     "output_type": "execute_result"
    }
   ],
   "source": [
    "text_counts.shape, X_train.shape, X_test.shape, Y_train.shape, Y_test.shape"
   ]
  },
  {
   "cell_type": "code",
   "execution_count": 232,
   "id": "0655bd9e",
   "metadata": {},
   "outputs": [
    {
     "name": "stdout",
     "output_type": "stream",
     "text": [
      "Accuracuy Score:  0.5590551181102362\n"
     ]
    }
   ],
   "source": [
    "# Training the model\n",
    "from sklearn.naive_bayes import MultinomialNB\n",
    "MNB = MultinomialNB()\n",
    "MNB.fit(X_train, Y_train)\n",
    "\n",
    "# Caluclating the accuracy score of the model\n",
    "from sklearn import metrics\n",
    "predicted = MNB.predict(X_test)\n",
    "accuracy_score = metrics.accuracy_score(predicted, Y_test)\n",
    "print(\"Accuracuy Score: \",accuracy_score)"
   ]
  }
 ],
 "metadata": {
  "kernelspec": {
   "display_name": "Python 3 (ipykernel)",
   "language": "python",
   "name": "python3"
  },
  "language_info": {
   "codemirror_mode": {
    "name": "ipython",
    "version": 3
   },
   "file_extension": ".py",
   "mimetype": "text/x-python",
   "name": "python",
   "nbconvert_exporter": "python",
   "pygments_lexer": "ipython3",
   "version": "3.11.4"
  }
 },
 "nbformat": 4,
 "nbformat_minor": 5
}
