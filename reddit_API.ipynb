{
 "cells": [
  {
   "cell_type": "code",
   "execution_count": 16,
   "id": "a658d515",
   "metadata": {},
   "outputs": [],
   "source": [
    "with open ('st.txt','r') as f:\n",
    "    st = f.read()"
   ]
  },
  {
   "cell_type": "code",
   "execution_count": 17,
   "id": "2502f354",
   "metadata": {},
   "outputs": [],
   "source": [
    "CLIENT_ID = 'qQgBy9eysyKgwiVd6xcQyw'\n",
    "SECRET_TOKEN = st"
   ]
  },
  {
   "cell_type": "markdown",
   "id": "ebf51c39",
   "metadata": {},
   "source": [
    "https://praw.readthedocs.io/en/latest/tutorials/comments.html\n",
    "\n",
    "https://www.youtube.com/watch?v=Y7BSe7EiBTs\n",
    "\n",
    "https://www.youtube.com/watch?v=FdjVoOf9HN4"
   ]
  },
  {
   "cell_type": "code",
   "execution_count": 1,
   "id": "dc6daf79",
   "metadata": {
    "scrolled": true
   },
   "outputs": [
    {
     "name": "stdout",
     "output_type": "stream",
     "text": [
      "Requirement already satisfied: praw in c:\\users\\dmitri.iolchin\\appdata\\local\\anaconda3\\lib\\site-packages (7.7.1)\n",
      "Requirement already satisfied: prawcore<3,>=2.1 in c:\\users\\dmitri.iolchin\\appdata\\local\\anaconda3\\lib\\site-packages (from praw) (2.4.0)\n",
      "Requirement already satisfied: update-checker>=0.18 in c:\\users\\dmitri.iolchin\\appdata\\local\\anaconda3\\lib\\site-packages (from praw) (0.18.0)\n",
      "Requirement already satisfied: websocket-client>=0.54.0 in c:\\users\\dmitri.iolchin\\appdata\\local\\anaconda3\\lib\\site-packages (from praw) (0.58.0)\n",
      "Requirement already satisfied: requests<3.0,>=2.6.0 in c:\\users\\dmitri.iolchin\\appdata\\roaming\\python\\python311\\site-packages (from prawcore<3,>=2.1->praw) (2.31.0)\n",
      "Requirement already satisfied: six in c:\\users\\dmitri.iolchin\\appdata\\roaming\\python\\python311\\site-packages (from websocket-client>=0.54.0->praw) (1.16.0)\n",
      "Requirement already satisfied: charset-normalizer<4,>=2 in c:\\users\\dmitri.iolchin\\appdata\\roaming\\python\\python311\\site-packages (from requests<3.0,>=2.6.0->prawcore<3,>=2.1->praw) (3.3.2)\n",
      "Requirement already satisfied: idna<4,>=2.5 in c:\\users\\dmitri.iolchin\\appdata\\roaming\\python\\python311\\site-packages (from requests<3.0,>=2.6.0->prawcore<3,>=2.1->praw) (3.4)\n",
      "Requirement already satisfied: urllib3<3,>=1.21.1 in c:\\users\\dmitri.iolchin\\appdata\\roaming\\python\\python311\\site-packages (from requests<3.0,>=2.6.0->prawcore<3,>=2.1->praw) (2.1.0)\n",
      "Requirement already satisfied: certifi>=2017.4.17 in c:\\users\\dmitri.iolchin\\appdata\\roaming\\python\\python311\\site-packages (from requests<3.0,>=2.6.0->prawcore<3,>=2.1->praw) (2023.7.22)\n",
      "Note: you may need to restart the kernel to use updated packages.\n"
     ]
    }
   ],
   "source": [
    "pip install praw"
   ]
  },
  {
   "cell_type": "code",
   "execution_count": 18,
   "id": "7e8b21b6",
   "metadata": {},
   "outputs": [],
   "source": [
    "import praw\n",
    "import pandas as pd"
   ]
  },
  {
   "cell_type": "code",
   "execution_count": 19,
   "id": "7740dd5f",
   "metadata": {},
   "outputs": [],
   "source": [
    "# Log In to App: \n",
    "reddit = praw.Reddit(client_id=CLIENT_ID, \n",
    "                     client_secret=SECRET_TOKEN, \n",
    "                     user_agent='Data Scraping')"
   ]
  },
  {
   "cell_type": "code",
   "execution_count": 8,
   "id": "6add27b8",
   "metadata": {
    "scrolled": true
   },
   "outputs": [
    {
     "data": {
      "text/html": [
       "<div>\n",
       "<style scoped>\n",
       "    .dataframe tbody tr th:only-of-type {\n",
       "        vertical-align: middle;\n",
       "    }\n",
       "\n",
       "    .dataframe tbody tr th {\n",
       "        vertical-align: top;\n",
       "    }\n",
       "\n",
       "    .dataframe thead th {\n",
       "        text-align: right;\n",
       "    }\n",
       "</style>\n",
       "<table border=\"1\" class=\"dataframe\">\n",
       "  <thead>\n",
       "    <tr style=\"text-align: right;\">\n",
       "      <th></th>\n",
       "      <th>ID</th>\n",
       "    </tr>\n",
       "  </thead>\n",
       "  <tbody>\n",
       "    <tr>\n",
       "      <th>0</th>\n",
       "      <td>ydudkc</td>\n",
       "    </tr>\n",
       "    <tr>\n",
       "      <th>1</th>\n",
       "      <td>n1u1by</td>\n",
       "    </tr>\n",
       "    <tr>\n",
       "      <th>2</th>\n",
       "      <td>z9j82g</td>\n",
       "    </tr>\n",
       "    <tr>\n",
       "      <th>3</th>\n",
       "      <td>13o2ia0</td>\n",
       "    </tr>\n",
       "    <tr>\n",
       "      <th>4</th>\n",
       "      <td>atieu4</td>\n",
       "    </tr>\n",
       "  </tbody>\n",
       "</table>\n",
       "</div>"
      ],
      "text/plain": [
       "        ID\n",
       "0   ydudkc\n",
       "1   n1u1by\n",
       "2   z9j82g\n",
       "3  13o2ia0\n",
       "4   atieu4"
      ]
     },
     "execution_count": 8,
     "metadata": {},
     "output_type": "execute_result"
    }
   ],
   "source": [
    "# Create a list to store data\n",
    "headlines = []\n",
    "\n",
    "# Search for the query in posts\n",
    "for submission in reddit.subreddit('Ireland').search('road safety', sort = 'all', limit = None):\n",
    "    headlines.append([submission.id])\n",
    "columns = ['ID']    \n",
    "df = pd.DataFrame(headlines, columns = columns)\n",
    "df.head()"
   ]
  },
  {
   "cell_type": "code",
   "execution_count": 10,
   "id": "16eb72a6",
   "metadata": {},
   "outputs": [
    {
     "name": "stdout",
     "output_type": "stream",
     "text": [
      "<class 'pandas.core.frame.DataFrame'>\n",
      "RangeIndex: 179 entries, 0 to 178\n",
      "Data columns (total 1 columns):\n",
      " #   Column  Non-Null Count  Dtype \n",
      "---  ------  --------------  ----- \n",
      " 0   ID      179 non-null    object\n",
      "dtypes: object(1)\n",
      "memory usage: 1.5+ KB\n"
     ]
    }
   ],
   "source": [
    "df.info()"
   ]
  },
  {
   "cell_type": "code",
   "execution_count": 11,
   "id": "fa7d3d93",
   "metadata": {},
   "outputs": [
    {
     "data": {
      "text/html": [
       "<div>\n",
       "<style scoped>\n",
       "    .dataframe tbody tr th:only-of-type {\n",
       "        vertical-align: middle;\n",
       "    }\n",
       "\n",
       "    .dataframe tbody tr th {\n",
       "        vertical-align: top;\n",
       "    }\n",
       "\n",
       "    .dataframe thead th {\n",
       "        text-align: right;\n",
       "    }\n",
       "</style>\n",
       "<table border=\"1\" class=\"dataframe\">\n",
       "  <thead>\n",
       "    <tr style=\"text-align: right;\">\n",
       "      <th></th>\n",
       "      <th>Comment</th>\n",
       "    </tr>\n",
       "  </thead>\n",
       "  <tbody>\n",
       "    <tr>\n",
       "      <th>0</th>\n",
       "      <td>Don't know about the rest of the offences but ...</td>\n",
       "    </tr>\n",
       "    <tr>\n",
       "      <th>1</th>\n",
       "      <td>€160 (was €80)\\n\\n- Speeding \\n- Unaccompanied...</td>\n",
       "    </tr>\n",
       "    <tr>\n",
       "      <th>2</th>\n",
       "      <td>Thanks for the heads up. Going to get in some ...</td>\n",
       "    </tr>\n",
       "    <tr>\n",
       "      <th>3</th>\n",
       "      <td>Using a phone should be triple the fine.</td>\n",
       "    </tr>\n",
       "    <tr>\n",
       "      <th>4</th>\n",
       "      <td>Am I alone in having no issue with this?</td>\n",
       "    </tr>\n",
       "  </tbody>\n",
       "</table>\n",
       "</div>"
      ],
      "text/plain": [
       "                                             Comment\n",
       "0  Don't know about the rest of the offences but ...\n",
       "1  €160 (was €80)\\n\\n- Speeding \\n- Unaccompanied...\n",
       "2  Thanks for the heads up. Going to get in some ...\n",
       "3           Using a phone should be triple the fine.\n",
       "4           Am I alone in having no issue with this?"
      ]
     },
     "execution_count": 11,
     "metadata": {},
     "output_type": "execute_result"
    }
   ],
   "source": [
    "# Initialize an empty list to store comment bodies\n",
    "comments_list = []\n",
    "\n",
    "# Assuming 'df' contains a column 'ID' with submission IDs\n",
    "for value in df['ID']:\n",
    "    submission = reddit.submission(value)\n",
    "    # Assuming 'submission.comments' contains the comments data\n",
    "    for comment in submission.comments:\n",
    "        if isinstance(comment, praw.models.MoreComments):\n",
    "            continue  # Skip 'MoreComments' objects\n",
    "        else:\n",
    "            comments_list.append(comment.body)\n",
    "\n",
    "# Create a DataFrame from the comments list (outside the loop)\n",
    "df_comments = pd.DataFrame({'Comment': comments_list})\n",
    "df_comments.head()"
   ]
  },
  {
   "cell_type": "code",
   "execution_count": 12,
   "id": "5ca93f08",
   "metadata": {},
   "outputs": [],
   "source": [
    "df_comments.to_csv('reddit_com.csv', index = False)"
   ]
  },
  {
   "cell_type": "code",
   "execution_count": 13,
   "id": "37633983",
   "metadata": {},
   "outputs": [
    {
     "name": "stdout",
     "output_type": "stream",
     "text": [
      "<class 'pandas.core.frame.DataFrame'>\n",
      "RangeIndex: 2866 entries, 0 to 2865\n",
      "Data columns (total 1 columns):\n",
      " #   Column   Non-Null Count  Dtype \n",
      "---  ------   --------------  ----- \n",
      " 0   Comment  2866 non-null   object\n",
      "dtypes: object(1)\n",
      "memory usage: 22.5+ KB\n"
     ]
    }
   ],
   "source": [
    "df_comments.info()"
   ]
  },
  {
   "cell_type": "code",
   "execution_count": null,
   "id": "4c80daf9",
   "metadata": {},
   "outputs": [],
   "source": []
  }
 ],
 "metadata": {
  "kernelspec": {
   "display_name": "Python 3 (ipykernel)",
   "language": "python",
   "name": "python3"
  },
  "language_info": {
   "codemirror_mode": {
    "name": "ipython",
    "version": 3
   },
   "file_extension": ".py",
   "mimetype": "text/x-python",
   "name": "python",
   "nbconvert_exporter": "python",
   "pygments_lexer": "ipython3",
   "version": "3.11.4"
  }
 },
 "nbformat": 4,
 "nbformat_minor": 5
}
